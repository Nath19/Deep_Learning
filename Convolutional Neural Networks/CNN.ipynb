{
  "nbformat": 4,
  "nbformat_minor": 0,
  "metadata": {
    "kernelspec": {
      "name": "python3",
      "display_name": "Python 3"
    },
    "language_info": {
      "codemirror_mode": {
        "name": "ipython",
        "version": 3
      },
      "file_extension": ".py",
      "mimetype": "text/x-python",
      "name": "python",
      "nbconvert_exporter": "python",
      "pygments_lexer": "ipython3",
      "version": "3.7.6"
    },
    "colab": {
      "name": "CNN.ipynb",
      "provenance": [],
      "collapsed_sections": [],
      "toc_visible": true
    },
    "accelerator": "GPU"
  },
  "cells": [
    {
      "cell_type": "markdown",
      "metadata": {
        "id": "b4oI0Lx_9gAD",
        "colab_type": "text"
      },
      "source": [
        "# Convolutional Neural Networks"
      ]
    },
    {
      "cell_type": "markdown",
      "metadata": {
        "id": "hLs15Crp9gAF",
        "colab_type": "text"
      },
      "source": [
        "In this part you will learn:\n",
        "\n",
        "- The Intuition of CNNs\n",
        "\n",
        "- How to build an CNN\n",
        "\n",
        "- How to predict what is inside a single image (Homework Challenge)\n",
        "\n",
        "- How to improve a CNN"
      ]
    },
    {
      "cell_type": "code",
      "metadata": {
        "id": "XoKTQbEITAGr",
        "colab_type": "code",
        "colab": {
          "base_uri": "https://localhost:8080/",
          "height": 122
        },
        "outputId": "5640b758-ae07-4fe4-bb3a-c62de5d7eee2"
      },
      "source": [
        "from google.colab import drive\n",
        "drive.mount('/content/drive')"
      ],
      "execution_count": 10,
      "outputs": [
        {
          "output_type": "stream",
          "text": [
            "Go to this URL in a browser: https://accounts.google.com/o/oauth2/auth?client_id=947318989803-6bn6qk8qdgf4n4g3pfee6491hc0brc4i.apps.googleusercontent.com&redirect_uri=urn%3aietf%3awg%3aoauth%3a2.0%3aoob&response_type=code&scope=email%20https%3a%2f%2fwww.googleapis.com%2fauth%2fdocs.test%20https%3a%2f%2fwww.googleapis.com%2fauth%2fdrive%20https%3a%2f%2fwww.googleapis.com%2fauth%2fdrive.photos.readonly%20https%3a%2f%2fwww.googleapis.com%2fauth%2fpeopleapi.readonly\n",
            "\n",
            "Enter your authorization code:\n",
            "··········\n",
            "Mounted at /content/drive\n"
          ],
          "name": "stdout"
        }
      ]
    },
    {
      "cell_type": "markdown",
      "metadata": {
        "id": "3thewPH19gAG",
        "colab_type": "text"
      },
      "source": [
        "## Part 1 - Building the CNN"
      ]
    },
    {
      "cell_type": "code",
      "metadata": {
        "scrolled": true,
        "id": "FAsH7jv49gAH",
        "colab_type": "code",
        "colab": {}
      },
      "source": [
        "# Importing the Keras libraries and packages\n",
        "from keras.models import Sequential\n",
        "from keras.layers import Conv2D\n",
        "from keras.layers import MaxPooling2D\n",
        "from keras.layers import Flatten\n",
        "from keras.layers import Dense"
      ],
      "execution_count": 0,
      "outputs": []
    },
    {
      "cell_type": "markdown",
      "metadata": {
        "id": "H0f0ARiy9gAL",
        "colab_type": "text"
      },
      "source": [
        "#### Steps to proceed : \n",
        "- Step 1 : Convolution\n",
        "- Step 2 : Max Pooling\n",
        "- Step 3 : Flattening\n",
        "- Step 4 : Full Connection\n"
      ]
    },
    {
      "cell_type": "code",
      "metadata": {
        "id": "vEuPg1jJ9gAP",
        "colab_type": "code",
        "colab": {}
      },
      "source": [
        "# Initialising the CNN\n",
        "classifier = Sequential()\n",
        "\n",
        "#Step 1 : Convolution\n",
        "\n",
        "#nb_filter -> is the number of features map we want to create\n",
        "#nb_rows & nb_col is the number coresponding to the matrix feature detector\n",
        "#In general we start with 32, 62, etc..\n",
        "#border_mode we choose 'same' as default value\n",
        "#input shape is the shape of our input image. We convert our image in one single format. \n",
        "#Colored image -> 3D array  (Blue,Green,Red)\n",
        "#BlackandWith -> 2D array\n",
        "#We choose small format here 64,64\n",
        "#in tensorflow backend we start first with the dimensions \n",
        "\n",
        "classifier.add(Conv2D(32, (3, 3), input_shape = (64, 64, 3), activation = 'relu'))\n",
        "\n",
        "\n",
        "#Step 2 : Pooling\n",
        "\n",
        "#Reducing the size of our feature maps without loosing performance\n",
        "#each time we take the maximum of the slider\n",
        "#at the end we get a pooled feature map\n",
        "#we apply max pooling on each feature maps \n",
        "\n",
        "\n",
        "#pool_size is the size of our matrix\n",
        "classifier.add(MaxPooling2D(pool_size = (2, 2)))\n",
        "\n",
        "# Adding a second convolutional layer\n",
        "classifier.add(Conv2D(32, (3, 3), activation = 'relu'))\n",
        "classifier.add(MaxPooling2D(pool_size = (2, 2)))\n",
        "\n",
        "\n",
        "#Step 3 : Flattening\n",
        "\n",
        "#taking all pool features and pool them in one single vector (it's gonna be a huge vector)\n",
        "classifier.add(Flatten())\n",
        "\n",
        "\n",
        "\n",
        "#Step 4 : Full Connection\n",
        "#Dense for fully connected layer\n",
        "#Output_dim = 128 (common practice to take a power of 2)\n",
        "\n",
        "classifier.add(Dense(units = 128, activation = 'relu'))\n",
        "#output layer\n",
        "\n",
        "classifier.add(Dense(units = 1, activation = 'sigmoid'))\n",
        "\n",
        "\n",
        "\n",
        "\n",
        "\n",
        "\n",
        "\n",
        "\n",
        "               \n"
      ],
      "execution_count": 0,
      "outputs": []
    },
    {
      "cell_type": "code",
      "metadata": {
        "id": "U9Lv7WPE9gAU",
        "colab_type": "code",
        "colab": {}
      },
      "source": [
        "#Compiling the CNN\n",
        "classifier.compile(optimizer = 'adam', loss = 'binary_crossentropy', metrics = ['accuracy'])\n"
      ],
      "execution_count": 0,
      "outputs": []
    },
    {
      "cell_type": "markdown",
      "metadata": {
        "id": "WyuTrcCh9gAX",
        "colab_type": "text"
      },
      "source": [
        "## Part 2 - Fitting the CNN to the images"
      ]
    },
    {
      "cell_type": "code",
      "metadata": {
        "id": "uJ7HIP3E9gAY",
        "colab_type": "code",
        "colab": {}
      },
      "source": [
        "#https://keras.io/preprocessing/image/\n",
        "from keras.preprocessing.image import ImageDataGenerator\n",
        "\n",
        "\n",
        "\n",
        "train_datagen = ImageDataGenerator(rescale = 1./255,\n",
        "                                   shear_range = 0.2,\n",
        "                                   zoom_range = 0.2,\n",
        "                                   horizontal_flip = True)\n",
        "\n",
        "test_datagen = ImageDataGenerator(rescale = 1./255)\n",
        "\n"
      ],
      "execution_count": 0,
      "outputs": []
    },
    {
      "cell_type": "code",
      "metadata": {
        "id": "vLV9l_ow9gAa",
        "colab_type": "code",
        "colab": {
          "base_uri": "https://localhost:8080/",
          "height": 51
        },
        "outputId": "42e505e8-a3cf-4485-b9f5-6137fd0f4991"
      },
      "source": [
        "training_set = train_datagen.flow_from_directory('/content/drive/My Drive/training_set',\n",
        "                                                 target_size = (64, 64), #dimensions exptected by our CNN\n",
        "                                                 batch_size = 32, \n",
        "                                                 class_mode = 'binary') #dependant variable is binary\n",
        "\n",
        "test_set = test_datagen.flow_from_directory('/content/drive/My Drive/test_set',\n",
        "                                            target_size = (64, 64),\n",
        "                                            batch_size = 32,\n",
        "                                            class_mode = 'binary')\n"
      ],
      "execution_count": 15,
      "outputs": [
        {
          "output_type": "stream",
          "text": [
            "Found 8000 images belonging to 2 classes.\n",
            "Found 2000 images belonging to 2 classes.\n"
          ],
          "name": "stdout"
        }
      ]
    },
    {
      "cell_type": "code",
      "metadata": {
        "id": "hmSDHmLY9gAc",
        "colab_type": "code",
        "colab": {
          "base_uri": "https://localhost:8080/",
          "height": 1000
        },
        "outputId": "328341df-643f-4618-f43d-7bdba19048d8"
      },
      "source": [
        "classifier.fit_generator(training_set,\n",
        "                         steps_per_epoch = 100,\n",
        "                         epochs = 25,\n",
        "                         validation_data = test_set,\n",
        "                         validation_steps = 2000)"
      ],
      "execution_count": 16,
      "outputs": [
        {
          "output_type": "stream",
          "text": [
            "WARNING:tensorflow:From /usr/local/lib/python3.6/dist-packages/keras/backend/tensorflow_backend.py:1033: The name tf.assign_add is deprecated. Please use tf.compat.v1.assign_add instead.\n",
            "\n",
            "WARNING:tensorflow:From /usr/local/lib/python3.6/dist-packages/keras/backend/tensorflow_backend.py:1020: The name tf.assign is deprecated. Please use tf.compat.v1.assign instead.\n",
            "\n",
            "WARNING:tensorflow:From /usr/local/lib/python3.6/dist-packages/keras/backend/tensorflow_backend.py:3005: The name tf.Session is deprecated. Please use tf.compat.v1.Session instead.\n",
            "\n",
            "Epoch 1/25\n",
            "WARNING:tensorflow:From /usr/local/lib/python3.6/dist-packages/keras/backend/tensorflow_backend.py:190: The name tf.get_default_session is deprecated. Please use tf.compat.v1.get_default_session instead.\n",
            "\n",
            "WARNING:tensorflow:From /usr/local/lib/python3.6/dist-packages/keras/backend/tensorflow_backend.py:197: The name tf.ConfigProto is deprecated. Please use tf.compat.v1.ConfigProto instead.\n",
            "\n",
            "WARNING:tensorflow:From /usr/local/lib/python3.6/dist-packages/keras/backend/tensorflow_backend.py:207: The name tf.global_variables is deprecated. Please use tf.compat.v1.global_variables instead.\n",
            "\n",
            "WARNING:tensorflow:From /usr/local/lib/python3.6/dist-packages/keras/backend/tensorflow_backend.py:216: The name tf.is_variable_initialized is deprecated. Please use tf.compat.v1.is_variable_initialized instead.\n",
            "\n",
            "WARNING:tensorflow:From /usr/local/lib/python3.6/dist-packages/keras/backend/tensorflow_backend.py:223: The name tf.variables_initializer is deprecated. Please use tf.compat.v1.variables_initializer instead.\n",
            "\n",
            "100/100 [==============================] - 1408s 14s/step - loss: 0.7075 - acc: 0.5253 - val_loss: 0.6890 - val_acc: 0.5017\n",
            "Epoch 2/25\n",
            "100/100 [==============================] - 1033s 10s/step - loss: 0.6761 - acc: 0.5997 - val_loss: 0.6531 - val_acc: 0.6192\n",
            "Epoch 3/25\n",
            "100/100 [==============================] - 524s 5s/step - loss: 0.6524 - acc: 0.6131 - val_loss: 0.6134 - val_acc: 0.6901\n",
            "Epoch 4/25\n",
            "100/100 [==============================] - 207s 2s/step - loss: 0.6124 - acc: 0.6666 - val_loss: 0.5760 - val_acc: 0.7201\n",
            "Epoch 5/25\n",
            "100/100 [==============================] - 205s 2s/step - loss: 0.6029 - acc: 0.6778 - val_loss: 0.5737 - val_acc: 0.7107\n",
            "Epoch 6/25\n",
            "100/100 [==============================] - 206s 2s/step - loss: 0.5820 - acc: 0.6959 - val_loss: 0.5585 - val_acc: 0.7323\n",
            "Epoch 7/25\n",
            "100/100 [==============================] - 206s 2s/step - loss: 0.5545 - acc: 0.7153 - val_loss: 0.6243 - val_acc: 0.6422\n",
            "Epoch 8/25\n",
            "100/100 [==============================] - 205s 2s/step - loss: 0.5478 - acc: 0.7159 - val_loss: 0.5663 - val_acc: 0.7110\n",
            "Epoch 9/25\n",
            "100/100 [==============================] - 207s 2s/step - loss: 0.5536 - acc: 0.7097 - val_loss: 0.5244 - val_acc: 0.7402\n",
            "Epoch 10/25\n",
            "100/100 [==============================] - 206s 2s/step - loss: 0.5313 - acc: 0.7325 - val_loss: 0.5157 - val_acc: 0.7468\n",
            "Epoch 11/25\n",
            "100/100 [==============================] - 206s 2s/step - loss: 0.5248 - acc: 0.7322 - val_loss: 0.5100 - val_acc: 0.7517\n",
            "Epoch 12/25\n",
            "100/100 [==============================] - 206s 2s/step - loss: 0.5148 - acc: 0.7387 - val_loss: 0.5160 - val_acc: 0.7498\n",
            "Epoch 13/25\n",
            "100/100 [==============================] - 206s 2s/step - loss: 0.5052 - acc: 0.7547 - val_loss: 0.5104 - val_acc: 0.7551\n",
            "Epoch 14/25\n",
            "100/100 [==============================] - 205s 2s/step - loss: 0.5005 - acc: 0.7544 - val_loss: 0.4954 - val_acc: 0.7608\n",
            "Epoch 15/25\n",
            "100/100 [==============================] - 207s 2s/step - loss: 0.4825 - acc: 0.7647 - val_loss: 0.5041 - val_acc: 0.7653\n",
            "Epoch 16/25\n",
            "100/100 [==============================] - 206s 2s/step - loss: 0.4942 - acc: 0.7609 - val_loss: 0.4908 - val_acc: 0.7612\n",
            "Epoch 17/25\n",
            "100/100 [==============================] - 206s 2s/step - loss: 0.4763 - acc: 0.7703 - val_loss: 0.5126 - val_acc: 0.7575\n",
            "Epoch 18/25\n",
            "100/100 [==============================] - 205s 2s/step - loss: 0.4752 - acc: 0.7706 - val_loss: 0.5307 - val_acc: 0.7331\n",
            "Epoch 19/25\n",
            "100/100 [==============================] - 205s 2s/step - loss: 0.4613 - acc: 0.7841 - val_loss: 0.4874 - val_acc: 0.7696\n",
            "Epoch 20/25\n",
            "100/100 [==============================] - 203s 2s/step - loss: 0.4710 - acc: 0.7744 - val_loss: 0.4875 - val_acc: 0.7666\n",
            "Epoch 21/25\n",
            "100/100 [==============================] - 204s 2s/step - loss: 0.4550 - acc: 0.7872 - val_loss: 0.4944 - val_acc: 0.7662\n",
            "Epoch 22/25\n",
            "100/100 [==============================] - 210s 2s/step - loss: 0.4619 - acc: 0.7844 - val_loss: 0.4926 - val_acc: 0.7655\n",
            "Epoch 23/25\n",
            "100/100 [==============================] - 206s 2s/step - loss: 0.4348 - acc: 0.7966 - val_loss: 0.4736 - val_acc: 0.7884\n",
            "Epoch 24/25\n",
            "100/100 [==============================] - 206s 2s/step - loss: 0.4343 - acc: 0.8003 - val_loss: 0.5189 - val_acc: 0.7696\n",
            "Epoch 25/25\n",
            "100/100 [==============================] - 205s 2s/step - loss: 0.4464 - acc: 0.7850 - val_loss: 0.5108 - val_acc: 0.7525\n"
          ],
          "name": "stdout"
        },
        {
          "output_type": "execute_result",
          "data": {
            "text/plain": [
              "<keras.callbacks.History at 0x7f35a2ff77b8>"
            ]
          },
          "metadata": {
            "tags": []
          },
          "execution_count": 16
        }
      ]
    },
    {
      "cell_type": "markdown",
      "metadata": {
        "id": "Goagg4kvybkl",
        "colab_type": "text"
      },
      "source": [
        "# Part 3 - Making new predictions"
      ]
    },
    {
      "cell_type": "code",
      "metadata": {
        "id": "CXKTo1Rk-Xgw",
        "colab_type": "code",
        "colab": {}
      },
      "source": [
        "import numpy as np\n",
        "from keras.preprocessing import image\n",
        "test_image = image.load_img('/content/drive/My Drive/single_prediction/cat_or_dog_1.jpg', target_size = (64, 64))\n",
        "test_image = image.img_to_array(test_image)\n",
        "test_image = np.expand_dims(test_image, axis = 0)\n",
        "result = classifier.predict(test_image)\n",
        "training_set.class_indices\n",
        "if result[0][0] == 1:\n",
        "    prediction = 'dog'\n",
        "else:\n",
        "    prediction = 'cat'"
      ],
      "execution_count": 0,
      "outputs": []
    },
    {
      "cell_type": "code",
      "metadata": {
        "id": "SXithd5MymAN",
        "colab_type": "code",
        "colab": {
          "base_uri": "https://localhost:8080/",
          "height": 34
        },
        "outputId": "eac63b79-86b8-4298-ea6f-dd8fe0fa23b8"
      },
      "source": [
        "prediction"
      ],
      "execution_count": 18,
      "outputs": [
        {
          "output_type": "execute_result",
          "data": {
            "text/plain": [
              "'dog'"
            ]
          },
          "metadata": {
            "tags": []
          },
          "execution_count": 18
        }
      ]
    }
  ]
}