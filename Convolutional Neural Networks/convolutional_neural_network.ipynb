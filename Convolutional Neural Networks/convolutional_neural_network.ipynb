{
 "cells": [
  {
   "cell_type": "markdown",
   "metadata": {
    "id": "5Osh2pX6W9hA"
   },
   "source": [
    "#  Convolutional Neural Network"
   ]
  },
  {
   "cell_type": "markdown",
   "metadata": {
    "id": "UQBNMnIwXCRT"
   },
   "source": [
    "### Importing the libraries"
   ]
  },
  {
   "cell_type": "code",
   "execution_count": 1,
   "metadata": {
    "id": "sKN9XYgUW5qj",
    "scrolled": true
   },
   "outputs": [],
   "source": [
    "import tensorflow as tf\n",
    "from keras.preprocessing.image import ImageDataGenerator"
   ]
  },
  {
   "cell_type": "code",
   "execution_count": 2,
   "metadata": {
    "colab": {
     "base_uri": "https://localhost:8080/",
     "height": 35
    },
    "id": "H8vKVsPRY20h",
    "outputId": "5a92372b-0b6e-4744-f723-b3566d3eb1f1"
   },
   "outputs": [
    {
     "data": {
      "text/plain": [
       "'2.3.1'"
      ]
     },
     "execution_count": 2,
     "metadata": {},
     "output_type": "execute_result"
    }
   ],
   "source": [
    "tf.__version__"
   ]
  },
  {
   "cell_type": "markdown",
   "metadata": {
    "id": "-zhpKta2ZG9q"
   },
   "source": [
    "## Part 1 - Data Preprocessing"
   ]
  },
  {
   "cell_type": "markdown",
   "metadata": {
    "id": "DbJeWOoqZOZ6"
   },
   "source": [
    "### Preprocessing the Training set"
   ]
  },
  {
   "cell_type": "markdown",
   "metadata": {
    "id": "PbaTtLsucCWb"
   },
   "source": [
    "We want to transform our training data with img augmentation"
   ]
  },
  {
   "cell_type": "code",
   "execution_count": 3,
   "metadata": {
    "colab": {
     "base_uri": "https://localhost:8080/",
     "height": 128
    },
    "id": "8lAqtUnSYtie",
    "outputId": "4f250037-f741-4bf3-b7ac-dbb564c8e456"
   },
   "outputs": [
    {
     "name": "stdout",
     "output_type": "stream",
     "text": [
      "Found 8000 images belonging to 2 classes.\n"
     ]
    }
   ],
   "source": [
    "train_datagen = ImageDataGenerator(\n",
    "        rescale=1./255, #feature scaling to each of our pixel\n",
    "        shear_range=0.2,\n",
    "        zoom_range=0.2,\n",
    "        horizontal_flip=True)\n",
    "training_set = train_datagen.flow_from_directory(\n",
    "        'dataset/training_set',\n",
    "        target_size=(64, 64),#traning much faster\n",
    "        batch_size=32,#how images we want to have in each batch\n",
    "        class_mode='binary')#binary outcome\n",
    "\n"
   ]
  },
  {
   "cell_type": "markdown",
   "metadata": {
    "id": "H3trrPMSft-Z"
   },
   "source": [
    "### Preprocessing the Test set"
   ]
  },
  {
   "cell_type": "code",
   "execution_count": 4,
   "metadata": {
    "id": "h1jEhFHzftpu"
   },
   "outputs": [
    {
     "name": "stdout",
     "output_type": "stream",
     "text": [
      "Found 2000 images belonging to 2 classes.\n"
     ]
    }
   ],
   "source": [
    "test_datagen = ImageDataGenerator(rescale=1./255) # we don't want to touch the test images so we just scale their pixel\n",
    "test_set = test_datagen.flow_from_directory(\n",
    "        'dataset/test_set',\n",
    "        target_size=(64, 64),\n",
    "        batch_size=32,\n",
    "        class_mode='binary')"
   ]
  },
  {
   "cell_type": "markdown",
   "metadata": {
    "id": "EpS0fcvuggoA"
   },
   "source": [
    "## Part 2 - Building the CNN"
   ]
  },
  {
   "cell_type": "markdown",
   "metadata": {
    "id": "DXS4QZY8glXB"
   },
   "source": [
    "### Initialising the CNN"
   ]
  },
  {
   "cell_type": "code",
   "execution_count": 5,
   "metadata": {
    "id": "7kitiN9agg7D"
   },
   "outputs": [],
   "source": [
    "cnn = tf.keras.models.Sequential()"
   ]
  },
  {
   "cell_type": "markdown",
   "metadata": {
    "id": "UeQYhkjag6tq"
   },
   "source": [
    "### Step 1 - Convolution"
   ]
  },
  {
   "cell_type": "code",
   "execution_count": 6,
   "metadata": {
    "id": "w6tQMwvrgmpw"
   },
   "outputs": [],
   "source": [
    "\"\"\"Filter = number of feature detector we want to apply to our image\n",
    "   kernel_size = the size of our filter. 3 means (3,3)\n",
    "   activation = activaction function relu \n",
    "   input_shape = for the very first layer we have to specify our input shape. It's color imagers (RGB) we have to resize to 64, 64 like in part1 \"\"\"\n",
    "cnn.add(tf.keras.layers.Conv2D(filters=32, kernel_size=3, activation='relu', input_shape=[64, 64, 3])) "
   ]
  },
  {
   "cell_type": "markdown",
   "metadata": {
    "id": "ux77w5xyiN7s"
   },
   "source": [
    "### Step 2 - Pooling"
   ]
  },
  {
   "cell_type": "code",
   "execution_count": 7,
   "metadata": {
    "id": "QEbzmqQ4g6Rf"
   },
   "outputs": [],
   "source": [
    "\"\"\" MAX Pooling\n",
    "    pool_size = the size of our pool \n",
    "    strides = how the pool size strides (2,2) pixel\"\"\" \n",
    "cnn.add(tf.keras.layers.MaxPool2D(pool_size=2, strides=2))"
   ]
  },
  {
   "cell_type": "markdown",
   "metadata": {
    "id": "voe71ShhjavZ"
   },
   "source": [
    "### Adding a second convolutional layer"
   ]
  },
  {
   "cell_type": "code",
   "execution_count": 8,
   "metadata": {
    "id": "a6ccVNxijXMJ"
   },
   "outputs": [],
   "source": [
    "cnn.add(tf.keras.layers.Conv2D(filters=32, kernel_size=3, activation='relu'))# he have to delete input_shape.\n",
    "cnn.add(tf.keras.layers.MaxPool2D(pool_size=2, strides=2))"
   ]
  },
  {
   "cell_type": "markdown",
   "metadata": {
    "id": "xcgxZCWsjibJ"
   },
   "source": [
    "### Step 3 - Flattening"
   ]
  },
  {
   "cell_type": "code",
   "execution_count": 9,
   "metadata": {
    "id": "QSUpy0Bmjj_W"
   },
   "outputs": [],
   "source": [
    "cnn.add(tf.keras.layers.Flatten())"
   ]
  },
  {
   "cell_type": "markdown",
   "metadata": {
    "id": "DxtfDtxxjlpR"
   },
   "source": [
    "### Step 4 - Full Connection"
   ]
  },
  {
   "cell_type": "code",
   "execution_count": 10,
   "metadata": {
    "id": "q2JRI4I9jnh8"
   },
   "outputs": [],
   "source": [
    "#units = the number of hidden neurons we want to have. \n",
    "#we want to have a larger number of hidden neurons. \n",
    "cnn.add(tf.keras.layers.Dense(units=128, activation='relu'))"
   ]
  },
  {
   "cell_type": "markdown",
   "metadata": {
    "id": "QefyofSnkYd5"
   },
   "source": [
    "### Step 5 - Output Layer"
   ]
  },
  {
   "cell_type": "code",
   "execution_count": 11,
   "metadata": {
    "id": "BVzn9iF2kYwU"
   },
   "outputs": [],
   "source": [
    "cnn.add(tf.keras.layers.Dense(units=1, activation='sigmoid'))"
   ]
  },
  {
   "cell_type": "markdown",
   "metadata": {
    "id": "_XlBAUNdkcW-"
   },
   "source": [
    "## Part 3 - Training the CNN"
   ]
  },
  {
   "cell_type": "markdown",
   "metadata": {
    "id": "IPxDz_26kfIG"
   },
   "source": [
    "### Compiling the CNN"
   ]
  },
  {
   "cell_type": "code",
   "execution_count": 12,
   "metadata": {
    "id": "WmYM4o7Lkcl9"
   },
   "outputs": [],
   "source": [
    "cnn.compile(optimizer = 'adam', loss = 'binary_crossentropy', metrics = ['accuracy'])"
   ]
  },
  {
   "cell_type": "markdown",
   "metadata": {
    "id": "ioWwcweakmUY"
   },
   "source": [
    "Training the CNN on the Training set and evaluating it on the Test set"
   ]
  },
  {
   "cell_type": "code",
   "execution_count": 13,
   "metadata": {
    "id": "fv2Wzvsikm9j"
   },
   "outputs": [
    {
     "name": "stdout",
     "output_type": "stream",
     "text": [
      "Epoch 1/25\n",
      "250/250 [==============================] - 52s 209ms/step - loss: 0.6672 - accuracy: 0.5815 - val_loss: 0.5959 - val_accuracy: 0.6845\n",
      "Epoch 2/25\n",
      "250/250 [==============================] - 49s 196ms/step - loss: 0.5920 - accuracy: 0.6924 - val_loss: 0.5391 - val_accuracy: 0.7255\n",
      "Epoch 3/25\n",
      "250/250 [==============================] - 52s 209ms/step - loss: 0.5532 - accuracy: 0.7064 - val_loss: 0.5328 - val_accuracy: 0.7420\n",
      "Epoch 4/25\n",
      "250/250 [==============================] - 58s 232ms/step - loss: 0.5193 - accuracy: 0.7423 - val_loss: 0.5049 - val_accuracy: 0.7500\n",
      "Epoch 5/25\n",
      "250/250 [==============================] - 56s 222ms/step - loss: 0.5028 - accuracy: 0.7519 - val_loss: 0.4809 - val_accuracy: 0.7705\n",
      "Epoch 6/25\n",
      "250/250 [==============================] - 56s 223ms/step - loss: 0.4841 - accuracy: 0.7648 - val_loss: 0.5398 - val_accuracy: 0.7490\n",
      "Epoch 7/25\n",
      "250/250 [==============================] - 50s 202ms/step - loss: 0.4731 - accuracy: 0.7746 - val_loss: 0.4628 - val_accuracy: 0.7815\n",
      "Epoch 8/25\n",
      "250/250 [==============================] - 51s 202ms/step - loss: 0.4577 - accuracy: 0.7835 - val_loss: 0.4738 - val_accuracy: 0.7815\n",
      "Epoch 9/25\n",
      "250/250 [==============================] - 51s 204ms/step - loss: 0.4477 - accuracy: 0.7839 - val_loss: 0.4563 - val_accuracy: 0.7850\n",
      "Epoch 10/25\n",
      "250/250 [==============================] - 46s 185ms/step - loss: 0.4391 - accuracy: 0.7922 - val_loss: 0.4514 - val_accuracy: 0.7905\n",
      "Epoch 11/25\n",
      "250/250 [==============================] - 49s 195ms/step - loss: 0.4198 - accuracy: 0.8037 - val_loss: 0.4515 - val_accuracy: 0.7955\n",
      "Epoch 12/25\n",
      "250/250 [==============================] - 47s 187ms/step - loss: 0.4125 - accuracy: 0.8091 - val_loss: 0.4362 - val_accuracy: 0.8065\n",
      "Epoch 13/25\n",
      "250/250 [==============================] - 47s 187ms/step - loss: 0.4015 - accuracy: 0.8149 - val_loss: 0.4361 - val_accuracy: 0.8005\n",
      "Epoch 14/25\n",
      "250/250 [==============================] - 47s 187ms/step - loss: 0.3850 - accuracy: 0.8294 - val_loss: 0.4484 - val_accuracy: 0.8005\n",
      "Epoch 15/25\n",
      "250/250 [==============================] - 47s 186ms/step - loss: 0.3819 - accuracy: 0.8236 - val_loss: 0.4336 - val_accuracy: 0.8150\n",
      "Epoch 16/25\n",
      "250/250 [==============================] - 47s 186ms/step - loss: 0.3665 - accuracy: 0.8335 - val_loss: 0.4509 - val_accuracy: 0.7990\n",
      "Epoch 17/25\n",
      "250/250 [==============================] - 47s 186ms/step - loss: 0.3590 - accuracy: 0.8314 - val_loss: 0.4321 - val_accuracy: 0.8140\n",
      "Epoch 18/25\n",
      "250/250 [==============================] - 46s 186ms/step - loss: 0.3566 - accuracy: 0.8414 - val_loss: 0.4271 - val_accuracy: 0.8160\n",
      "Epoch 19/25\n",
      "250/250 [==============================] - 47s 187ms/step - loss: 0.3452 - accuracy: 0.8461 - val_loss: 0.4805 - val_accuracy: 0.8045\n",
      "Epoch 20/25\n",
      "250/250 [==============================] - 46s 185ms/step - loss: 0.3250 - accuracy: 0.8591 - val_loss: 0.4336 - val_accuracy: 0.8120\n",
      "Epoch 21/25\n",
      "250/250 [==============================] - 49s 197ms/step - loss: 0.3262 - accuracy: 0.8571 - val_loss: 0.4704 - val_accuracy: 0.7995\n",
      "Epoch 22/25\n",
      "250/250 [==============================] - 50s 202ms/step - loss: 0.3201 - accuracy: 0.8610 - val_loss: 0.4472 - val_accuracy: 0.8135\n",
      "Epoch 23/25\n",
      "250/250 [==============================] - 47s 186ms/step - loss: 0.3084 - accuracy: 0.8661 - val_loss: 0.4607 - val_accuracy: 0.8125\n",
      "Epoch 24/25\n",
      "250/250 [==============================] - 47s 187ms/step - loss: 0.2967 - accuracy: 0.8710 - val_loss: 0.4539 - val_accuracy: 0.8150\n",
      "Epoch 25/25\n",
      "250/250 [==============================] - 47s 186ms/step - loss: 0.2925 - accuracy: 0.8746 - val_loss: 0.4518 - val_accuracy: 0.8145\n"
     ]
    },
    {
     "data": {
      "text/plain": [
       "<tensorflow.python.keras.callbacks.History at 0x23fec58cee0>"
      ]
     },
     "execution_count": 13,
     "metadata": {},
     "output_type": "execute_result"
    }
   ],
   "source": [
    "cnn.fit(x = training_set, validation_data = test_set, epochs = 25)"
   ]
  },
  {
   "cell_type": "markdown",
   "metadata": {
    "id": "9YucZ9VCkp29"
   },
   "source": [
    "## Part 4 - Making a single prediction"
   ]
  },
  {
   "cell_type": "code",
   "execution_count": 20,
   "metadata": {
    "id": "z44fMjUCkrvF"
   },
   "outputs": [],
   "source": [
    "import numpy as np\n",
    "from keras.preprocessing import image\n",
    "test_image = image.load_img('dataset/single_prediction/cat_or_dog_4.jpg', target_size = (64, 64))\n",
    "test_image = image.img_to_array(test_image)\n",
    "test_image = np.expand_dims(test_image, axis = 0)\n",
    "result = cnn.predict(test_image)\n",
    "training_set.class_indices\n",
    "if result[0][0] == 1:\n",
    "  prediction = 'dog'\n",
    "else:\n",
    "  prediction = 'cat'"
   ]
  },
  {
   "cell_type": "code",
   "execution_count": 21,
   "metadata": {
    "id": "YVqSpVqMktvF"
   },
   "outputs": [
    {
     "name": "stdout",
     "output_type": "stream",
     "text": [
      "cat\n"
     ]
    }
   ],
   "source": [
    "print(prediction)"
   ]
  }
 ],
 "metadata": {
  "colab": {
   "collapsed_sections": [],
   "name": "convolutional_neural_network.ipynb",
   "provenance": []
  },
  "kernelspec": {
   "display_name": "Python 3",
   "language": "python",
   "name": "python3"
  },
  "language_info": {
   "codemirror_mode": {
    "name": "ipython",
    "version": 3
   },
   "file_extension": ".py",
   "mimetype": "text/x-python",
   "name": "python",
   "nbconvert_exporter": "python",
   "pygments_lexer": "ipython3",
   "version": "3.8.5"
  }
 },
 "nbformat": 4,
 "nbformat_minor": 1
}
