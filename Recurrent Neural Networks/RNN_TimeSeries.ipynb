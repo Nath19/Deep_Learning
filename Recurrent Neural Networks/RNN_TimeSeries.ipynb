{
  "nbformat": 4,
  "nbformat_minor": 0,
  "metadata": {
    "colab": {
      "name": "RNN-TimeSeries.ipynb",
      "provenance": [],
      "collapsed_sections": []
    },
    "kernelspec": {
      "name": "python3",
      "display_name": "Python 3"
    }
  },
  "cells": [
    {
      "cell_type": "markdown",
      "metadata": {
        "id": "AIVRx2e1kc8v"
      },
      "source": [
        "# RNN Example for Time Series"
      ]
    },
    {
      "cell_type": "code",
      "metadata": {
        "id": "dz7V0i7vkZ9j"
      },
      "source": [
        "import pandas as pd\n",
        "import numpy as np\n",
        "\n",
        "%matplotlib inline\n",
        "import matplotlib.pyplot as plt"
      ],
      "execution_count": 1,
      "outputs": []
    },
    {
      "cell_type": "markdown",
      "metadata": {
        "id": "GGP03pw4klF3"
      },
      "source": [
        "## Data\n",
        "\n",
        "Release: Advance Monthly Sales for Retail and Food Services  \n",
        "Units:  Millions of Dollars, Not Seasonally Adjusted\n",
        "\n",
        "Frequency:  Monthly\n",
        "\n",
        "The value for the most recent month is an advance estimate that is based on data from a subsample of firms from the larger Monthly Retail Trade Survey. The advance estimate will be superseded in following months by revised estimates derived from the larger Monthly Retail Trade Survey. The associated series from the Monthly Retail Trade Survey is available at https://fred.stlouisfed.org/series/MRTSSM448USN\n",
        "\n",
        "Information about the Advance Monthly Retail Sales Survey can be found on the Census website at https://www.census.gov/retail/marts/about_the_surveys.html\n",
        "\n",
        "Suggested Citation:\n",
        "U.S. Census Bureau, Advance Retail Sales: Clothing and Clothing Accessory Stores [RSCCASN], retrieved from FRED, Federal Reserve Bank of St. Louis; https://fred.stlouisfed.org/series/RSCCASN, November 16, 2019.\n",
        "\n",
        "https://fred.stlouisfed.org/series/RSCCASN"
      ]
    },
    {
      "cell_type": "code",
      "metadata": {
        "id": "YBNdQD6Tkfwf"
      },
      "source": [
        "df = pd.read_csv('/content/RSCCASN.csv',index_col='DATE',parse_dates=True)"
      ],
      "execution_count": 2,
      "outputs": []
    },
    {
      "cell_type": "code",
      "metadata": {
        "colab": {
          "base_uri": "https://localhost:8080/"
        },
        "id": "xTudSKAClWVC",
        "outputId": "cde2bb84-d193-4957-e490-60574d21214c"
      },
      "source": [
        "df.info()"
      ],
      "execution_count": 7,
      "outputs": [
        {
          "output_type": "stream",
          "text": [
            "<class 'pandas.core.frame.DataFrame'>\n",
            "DatetimeIndex: 334 entries, 1992-01-01 to 2019-10-01\n",
            "Data columns (total 1 columns):\n",
            " #   Column  Non-Null Count  Dtype\n",
            "---  ------  --------------  -----\n",
            " 0   Sales   334 non-null    int64\n",
            "dtypes: int64(1)\n",
            "memory usage: 5.2 KB\n"
          ],
          "name": "stdout"
        }
      ]
    },
    {
      "cell_type": "code",
      "metadata": {
        "colab": {
          "base_uri": "https://localhost:8080/",
          "height": 235
        },
        "id": "o8hyqKGAksVf",
        "outputId": "29a1ffe0-7cce-4a6f-e97b-cca05c9ff4f1"
      },
      "source": [
        "df.head()"
      ],
      "execution_count": 3,
      "outputs": [
        {
          "output_type": "execute_result",
          "data": {
            "text/html": [
              "<div>\n",
              "<style scoped>\n",
              "    .dataframe tbody tr th:only-of-type {\n",
              "        vertical-align: middle;\n",
              "    }\n",
              "\n",
              "    .dataframe tbody tr th {\n",
              "        vertical-align: top;\n",
              "    }\n",
              "\n",
              "    .dataframe thead th {\n",
              "        text-align: right;\n",
              "    }\n",
              "</style>\n",
              "<table border=\"1\" class=\"dataframe\">\n",
              "  <thead>\n",
              "    <tr style=\"text-align: right;\">\n",
              "      <th></th>\n",
              "      <th>RSCCASN</th>\n",
              "    </tr>\n",
              "    <tr>\n",
              "      <th>DATE</th>\n",
              "      <th></th>\n",
              "    </tr>\n",
              "  </thead>\n",
              "  <tbody>\n",
              "    <tr>\n",
              "      <th>1992-01-01</th>\n",
              "      <td>6938</td>\n",
              "    </tr>\n",
              "    <tr>\n",
              "      <th>1992-02-01</th>\n",
              "      <td>7524</td>\n",
              "    </tr>\n",
              "    <tr>\n",
              "      <th>1992-03-01</th>\n",
              "      <td>8475</td>\n",
              "    </tr>\n",
              "    <tr>\n",
              "      <th>1992-04-01</th>\n",
              "      <td>9401</td>\n",
              "    </tr>\n",
              "    <tr>\n",
              "      <th>1992-05-01</th>\n",
              "      <td>9558</td>\n",
              "    </tr>\n",
              "  </tbody>\n",
              "</table>\n",
              "</div>"
            ],
            "text/plain": [
              "            RSCCASN\n",
              "DATE               \n",
              "1992-01-01     6938\n",
              "1992-02-01     7524\n",
              "1992-03-01     8475\n",
              "1992-04-01     9401\n",
              "1992-05-01     9558"
            ]
          },
          "metadata": {
            "tags": []
          },
          "execution_count": 3
        }
      ]
    },
    {
      "cell_type": "code",
      "metadata": {
        "id": "uMJXP4rzktQO"
      },
      "source": [
        "df.columns = ['Sales']"
      ],
      "execution_count": 4,
      "outputs": []
    },
    {
      "cell_type": "code",
      "metadata": {
        "colab": {
          "base_uri": "https://localhost:8080/",
          "height": 235
        },
        "id": "dwp_oSeHkvw8",
        "outputId": "fde36fba-558a-431c-efab-d017df459b4b"
      },
      "source": [
        "df.head()"
      ],
      "execution_count": 5,
      "outputs": [
        {
          "output_type": "execute_result",
          "data": {
            "text/html": [
              "<div>\n",
              "<style scoped>\n",
              "    .dataframe tbody tr th:only-of-type {\n",
              "        vertical-align: middle;\n",
              "    }\n",
              "\n",
              "    .dataframe tbody tr th {\n",
              "        vertical-align: top;\n",
              "    }\n",
              "\n",
              "    .dataframe thead th {\n",
              "        text-align: right;\n",
              "    }\n",
              "</style>\n",
              "<table border=\"1\" class=\"dataframe\">\n",
              "  <thead>\n",
              "    <tr style=\"text-align: right;\">\n",
              "      <th></th>\n",
              "      <th>Sales</th>\n",
              "    </tr>\n",
              "    <tr>\n",
              "      <th>DATE</th>\n",
              "      <th></th>\n",
              "    </tr>\n",
              "  </thead>\n",
              "  <tbody>\n",
              "    <tr>\n",
              "      <th>1992-01-01</th>\n",
              "      <td>6938</td>\n",
              "    </tr>\n",
              "    <tr>\n",
              "      <th>1992-02-01</th>\n",
              "      <td>7524</td>\n",
              "    </tr>\n",
              "    <tr>\n",
              "      <th>1992-03-01</th>\n",
              "      <td>8475</td>\n",
              "    </tr>\n",
              "    <tr>\n",
              "      <th>1992-04-01</th>\n",
              "      <td>9401</td>\n",
              "    </tr>\n",
              "    <tr>\n",
              "      <th>1992-05-01</th>\n",
              "      <td>9558</td>\n",
              "    </tr>\n",
              "  </tbody>\n",
              "</table>\n",
              "</div>"
            ],
            "text/plain": [
              "            Sales\n",
              "DATE             \n",
              "1992-01-01   6938\n",
              "1992-02-01   7524\n",
              "1992-03-01   8475\n",
              "1992-04-01   9401\n",
              "1992-05-01   9558"
            ]
          },
          "metadata": {
            "tags": []
          },
          "execution_count": 5
        }
      ]
    },
    {
      "cell_type": "code",
      "metadata": {
        "colab": {
          "base_uri": "https://localhost:8080/",
          "height": 484
        },
        "id": "Cb5-AhZzkwsA",
        "outputId": "6eceb4e9-7066-4651-dcf8-c67753ea9cfc"
      },
      "source": [
        "df.plot(figsize=(12,8))"
      ],
      "execution_count": 6,
      "outputs": [
        {
          "output_type": "execute_result",
          "data": {
            "text/plain": [
              "<matplotlib.axes._subplots.AxesSubplot at 0x7f37a6830390>"
            ]
          },
          "metadata": {
            "tags": []
          },
          "execution_count": 6
        },
        {
          "output_type": "display_data",
          "data": {
            "image/png": "[encoded data removed]",
            "text/plain": [
              "<Figure size 864x576 with 1 Axes>"
            ]
          },
          "metadata": {
            "tags": [],
            "needs_background": "light"
          }
        }
      ]
    },
    {
      "cell_type": "markdown",
      "metadata": {
        "id": "6KFDeEMDk2JP"
      },
      "source": [
        "## Train Test Split"
      ]
    },
    {
      "cell_type": "code",
      "metadata": {
        "colab": {
          "base_uri": "https://localhost:8080/"
        },
        "id": "VK6LFuygkyMn",
        "outputId": "fab648e5-6750-47c7-cd38-9881d83dbb24"
      },
      "source": [
        "df.shape"
      ],
      "execution_count": 8,
      "outputs": [
        {
          "output_type": "execute_result",
          "data": {
            "text/plain": [
              "(334, 1)"
            ]
          },
          "metadata": {
            "tags": []
          },
          "execution_count": 8
        }
      ]
    },
    {
      "cell_type": "code",
      "metadata": {
        "colab": {
          "base_uri": "https://localhost:8080/"
        },
        "id": "776VlVEwm-4n",
        "outputId": "f95c211f-f3db-429c-d1d3-e61249823a3c"
      },
      "source": [
        "len(df)"
      ],
      "execution_count": 9,
      "outputs": [
        {
          "output_type": "execute_result",
          "data": {
            "text/plain": [
              "334"
            ]
          },
          "metadata": {
            "tags": []
          },
          "execution_count": 9
        }
      ]
    },
    {
      "cell_type": "markdown",
      "metadata": {
        "id": "fZ4W6c0-nDL1"
      },
      "source": [
        "Data is monthly, let's forecast 1.5 years into the future."
      ]
    },
    {
      "cell_type": "code",
      "metadata": {
        "colab": {
          "base_uri": "https://localhost:8080/",
          "height": 450
        },
        "id": "lhiPyMA1nAG8",
        "outputId": "4c53e48d-67f7-4e99-edc0-3399f9e0bcba"
      },
      "source": [
        "df"
      ],
      "execution_count": 10,
      "outputs": [
        {
          "output_type": "execute_result",
          "data": {
            "text/html": [
              "<div>\n",
              "<style scoped>\n",
              "    .dataframe tbody tr th:only-of-type {\n",
              "        vertical-align: middle;\n",
              "    }\n",
              "\n",
              "    .dataframe tbody tr th {\n",
              "        vertical-align: top;\n",
              "    }\n",
              "\n",
              "    .dataframe thead th {\n",
              "        text-align: right;\n",
              "    }\n",
              "</style>\n",
              "<table border=\"1\" class=\"dataframe\">\n",
              "  <thead>\n",
              "    <tr style=\"text-align: right;\">\n",
              "      <th></th>\n",
              "      <th>Sales</th>\n",
              "    </tr>\n",
              "    <tr>\n",
              "      <th>DATE</th>\n",
              "      <th></th>\n",
              "    </tr>\n",
              "  </thead>\n",
              "  <tbody>\n",
              "    <tr>\n",
              "      <th>1992-01-01</th>\n",
              "      <td>6938</td>\n",
              "    </tr>\n",
              "    <tr>\n",
              "      <th>1992-02-01</th>\n",
              "      <td>7524</td>\n",
              "    </tr>\n",
              "    <tr>\n",
              "      <th>1992-03-01</th>\n",
              "      <td>8475</td>\n",
              "    </tr>\n",
              "    <tr>\n",
              "      <th>1992-04-01</th>\n",
              "      <td>9401</td>\n",
              "    </tr>\n",
              "    <tr>\n",
              "      <th>1992-05-01</th>\n",
              "      <td>9558</td>\n",
              "    </tr>\n",
              "    <tr>\n",
              "      <th>...</th>\n",
              "      <td>...</td>\n",
              "    </tr>\n",
              "    <tr>\n",
              "      <th>2019-06-01</th>\n",
              "      <td>21123</td>\n",
              "    </tr>\n",
              "    <tr>\n",
              "      <th>2019-07-01</th>\n",
              "      <td>21714</td>\n",
              "    </tr>\n",
              "    <tr>\n",
              "      <th>2019-08-01</th>\n",
              "      <td>23791</td>\n",
              "    </tr>\n",
              "    <tr>\n",
              "      <th>2019-09-01</th>\n",
              "      <td>19695</td>\n",
              "    </tr>\n",
              "    <tr>\n",
              "      <th>2019-10-01</th>\n",
              "      <td>21113</td>\n",
              "    </tr>\n",
              "  </tbody>\n",
              "</table>\n",
              "<p>334 rows × 1 columns</p>\n",
              "</div>"
            ],
            "text/plain": [
              "            Sales\n",
              "DATE             \n",
              "1992-01-01   6938\n",
              "1992-02-01   7524\n",
              "1992-03-01   8475\n",
              "1992-04-01   9401\n",
              "1992-05-01   9558\n",
              "...           ...\n",
              "2019-06-01  21123\n",
              "2019-07-01  21714\n",
              "2019-08-01  23791\n",
              "2019-09-01  19695\n",
              "2019-10-01  21113\n",
              "\n",
              "[334 rows x 1 columns]"
            ]
          },
          "metadata": {
            "tags": []
          },
          "execution_count": 10
        }
      ]
    },
    {
      "cell_type": "code",
      "metadata": {
        "colab": {
          "base_uri": "https://localhost:8080/"
        },
        "id": "SDjlo4JLnErf",
        "outputId": "487a8490-b4f4-4f81-8195-f47842fb2bea"
      },
      "source": [
        "len(df) - 18"
      ],
      "execution_count": 11,
      "outputs": [
        {
          "output_type": "execute_result",
          "data": {
            "text/plain": [
              "316"
            ]
          },
          "metadata": {
            "tags": []
          },
          "execution_count": 11
        }
      ]
    },
    {
      "cell_type": "code",
      "metadata": {
        "id": "IkHCc46TnPih"
      },
      "source": [
        "test_size = 18 #month\n",
        "test_index = len(df) - test_size"
      ],
      "execution_count": 12,
      "outputs": []
    },
    {
      "cell_type": "code",
      "metadata": {
        "colab": {
          "base_uri": "https://localhost:8080/"
        },
        "id": "oqPl-8iynWzR",
        "outputId": "bcf99e75-4c3f-43a9-d14b-ca924083ee80"
      },
      "source": [
        "test_index"
      ],
      "execution_count": 15,
      "outputs": [
        {
          "output_type": "execute_result",
          "data": {
            "text/plain": [
              "316"
            ]
          },
          "metadata": {
            "tags": []
          },
          "execution_count": 15
        }
      ]
    },
    {
      "cell_type": "code",
      "metadata": {
        "id": "adVPAYIKnXm9"
      },
      "source": [
        "train = df.iloc[:test_index]\n",
        "test = df.iloc[test_index:]"
      ],
      "execution_count": 16,
      "outputs": []
    },
    {
      "cell_type": "code",
      "metadata": {
        "colab": {
          "base_uri": "https://localhost:8080/",
          "height": 450
        },
        "id": "p03aKZm7nhlB",
        "outputId": "bb55b087-30f7-4540-8989-8d94ce52d0cc"
      },
      "source": [
        "train"
      ],
      "execution_count": 17,
      "outputs": [
        {
          "output_type": "execute_result",
          "data": {
            "text/html": [
              "<div>\n",
              "<style scoped>\n",
              "    .dataframe tbody tr th:only-of-type {\n",
              "        vertical-align: middle;\n",
              "    }\n",
              "\n",
              "    .dataframe tbody tr th {\n",
              "        vertical-align: top;\n",
              "    }\n",
              "\n",
              "    .dataframe thead th {\n",
              "        text-align: right;\n",
              "    }\n",
              "</style>\n",
              "<table border=\"1\" class=\"dataframe\">\n",
              "  <thead>\n",
              "    <tr style=\"text-align: right;\">\n",
              "      <th></th>\n",
              "      <th>Sales</th>\n",
              "    </tr>\n",
              "    <tr>\n",
              "      <th>DATE</th>\n",
              "      <th></th>\n",
              "    </tr>\n",
              "  </thead>\n",
              "  <tbody>\n",
              "    <tr>\n",
              "      <th>1992-01-01</th>\n",
              "      <td>6938</td>\n",
              "    </tr>\n",
              "    <tr>\n",
              "      <th>1992-02-01</th>\n",
              "      <td>7524</td>\n",
              "    </tr>\n",
              "    <tr>\n",
              "      <th>1992-03-01</th>\n",
              "      <td>8475</td>\n",
              "    </tr>\n",
              "    <tr>\n",
              "      <th>1992-04-01</th>\n",
              "      <td>9401</td>\n",
              "    </tr>\n",
              "    <tr>\n",
              "      <th>1992-05-01</th>\n",
              "      <td>9558</td>\n",
              "    </tr>\n",
              "    <tr>\n",
              "      <th>...</th>\n",
              "      <td>...</td>\n",
              "    </tr>\n",
              "    <tr>\n",
              "      <th>2017-12-01</th>\n",
              "      <td>33720</td>\n",
              "    </tr>\n",
              "    <tr>\n",
              "      <th>2018-01-01</th>\n",
              "      <td>15881</td>\n",
              "    </tr>\n",
              "    <tr>\n",
              "      <th>2018-02-01</th>\n",
              "      <td>18585</td>\n",
              "    </tr>\n",
              "    <tr>\n",
              "      <th>2018-03-01</th>\n",
              "      <td>22404</td>\n",
              "    </tr>\n",
              "    <tr>\n",
              "      <th>2018-04-01</th>\n",
              "      <td>20616</td>\n",
              "    </tr>\n",
              "  </tbody>\n",
              "</table>\n",
              "<p>316 rows × 1 columns</p>\n",
              "</div>"
            ],
            "text/plain": [
              "            Sales\n",
              "DATE             \n",
              "1992-01-01   6938\n",
              "1992-02-01   7524\n",
              "1992-03-01   8475\n",
              "1992-04-01   9401\n",
              "1992-05-01   9558\n",
              "...           ...\n",
              "2017-12-01  33720\n",
              "2018-01-01  15881\n",
              "2018-02-01  18585\n",
              "2018-03-01  22404\n",
              "2018-04-01  20616\n",
              "\n",
              "[316 rows x 1 columns]"
            ]
          },
          "metadata": {
            "tags": []
          },
          "execution_count": 17
        }
      ]
    },
    {
      "cell_type": "code",
      "metadata": {
        "colab": {
          "base_uri": "https://localhost:8080/",
          "height": 638
        },
        "id": "Q9s1yTYXniBH",
        "outputId": "c4770d99-4e1f-49f1-c47c-79255f5d4395"
      },
      "source": [
        "test"
      ],
      "execution_count": 18,
      "outputs": [
        {
          "output_type": "execute_result",
          "data": {
            "text/html": [
              "<div>\n",
              "<style scoped>\n",
              "    .dataframe tbody tr th:only-of-type {\n",
              "        vertical-align: middle;\n",
              "    }\n",
              "\n",
              "    .dataframe tbody tr th {\n",
              "        vertical-align: top;\n",
              "    }\n",
              "\n",
              "    .dataframe thead th {\n",
              "        text-align: right;\n",
              "    }\n",
              "</style>\n",
              "<table border=\"1\" class=\"dataframe\">\n",
              "  <thead>\n",
              "    <tr style=\"text-align: right;\">\n",
              "      <th></th>\n",
              "      <th>Sales</th>\n",
              "    </tr>\n",
              "    <tr>\n",
              "      <th>DATE</th>\n",
              "      <th></th>\n",
              "    </tr>\n",
              "  </thead>\n",
              "  <tbody>\n",
              "    <tr>\n",
              "      <th>2018-05-01</th>\n",
              "      <td>23764</td>\n",
              "    </tr>\n",
              "    <tr>\n",
              "      <th>2018-06-01</th>\n",
              "      <td>21589</td>\n",
              "    </tr>\n",
              "    <tr>\n",
              "      <th>2018-07-01</th>\n",
              "      <td>21919</td>\n",
              "    </tr>\n",
              "    <tr>\n",
              "      <th>2018-08-01</th>\n",
              "      <td>23381</td>\n",
              "    </tr>\n",
              "    <tr>\n",
              "      <th>2018-09-01</th>\n",
              "      <td>20260</td>\n",
              "    </tr>\n",
              "    <tr>\n",
              "      <th>2018-10-01</th>\n",
              "      <td>21473</td>\n",
              "    </tr>\n",
              "    <tr>\n",
              "      <th>2018-11-01</th>\n",
              "      <td>25831</td>\n",
              "    </tr>\n",
              "    <tr>\n",
              "      <th>2018-12-01</th>\n",
              "      <td>34706</td>\n",
              "    </tr>\n",
              "    <tr>\n",
              "      <th>2019-01-01</th>\n",
              "      <td>16410</td>\n",
              "    </tr>\n",
              "    <tr>\n",
              "      <th>2019-02-01</th>\n",
              "      <td>18134</td>\n",
              "    </tr>\n",
              "    <tr>\n",
              "      <th>2019-03-01</th>\n",
              "      <td>22093</td>\n",
              "    </tr>\n",
              "    <tr>\n",
              "      <th>2019-04-01</th>\n",
              "      <td>21597</td>\n",
              "    </tr>\n",
              "    <tr>\n",
              "      <th>2019-05-01</th>\n",
              "      <td>23200</td>\n",
              "    </tr>\n",
              "    <tr>\n",
              "      <th>2019-06-01</th>\n",
              "      <td>21123</td>\n",
              "    </tr>\n",
              "    <tr>\n",
              "      <th>2019-07-01</th>\n",
              "      <td>21714</td>\n",
              "    </tr>\n",
              "    <tr>\n",
              "      <th>2019-08-01</th>\n",
              "      <td>23791</td>\n",
              "    </tr>\n",
              "    <tr>\n",
              "      <th>2019-09-01</th>\n",
              "      <td>19695</td>\n",
              "    </tr>\n",
              "    <tr>\n",
              "      <th>2019-10-01</th>\n",
              "      <td>21113</td>\n",
              "    </tr>\n",
              "  </tbody>\n",
              "</table>\n",
              "</div>"
            ],
            "text/plain": [
              "            Sales\n",
              "DATE             \n",
              "2018-05-01  23764\n",
              "2018-06-01  21589\n",
              "2018-07-01  21919\n",
              "2018-08-01  23381\n",
              "2018-09-01  20260\n",
              "2018-10-01  21473\n",
              "2018-11-01  25831\n",
              "2018-12-01  34706\n",
              "2019-01-01  16410\n",
              "2019-02-01  18134\n",
              "2019-03-01  22093\n",
              "2019-04-01  21597\n",
              "2019-05-01  23200\n",
              "2019-06-01  21123\n",
              "2019-07-01  21714\n",
              "2019-08-01  23791\n",
              "2019-09-01  19695\n",
              "2019-10-01  21113"
            ]
          },
          "metadata": {
            "tags": []
          },
          "execution_count": 18
        }
      ]
    },
    {
      "cell_type": "markdown",
      "metadata": {
        "id": "pBmjQwHono4W"
      },
      "source": [
        "## Scales data"
      ]
    },
    {
      "cell_type": "code",
      "metadata": {
        "id": "C5Bd3XZznibg"
      },
      "source": [
        "from sklearn.preprocessing import MinMaxScaler"
      ],
      "execution_count": 19,
      "outputs": []
    },
    {
      "cell_type": "code",
      "metadata": {
        "id": "pcN-Grejnrde"
      },
      "source": [
        "scaler = MinMaxScaler()"
      ],
      "execution_count": 20,
      "outputs": []
    },
    {
      "cell_type": "code",
      "metadata": {
        "colab": {
          "base_uri": "https://localhost:8080/"
        },
        "id": "lYeU8aG0nsLM",
        "outputId": "835b37e1-c1be-44b7-f8c6-c02839289adc"
      },
      "source": [
        "scaler.fit(train)"
      ],
      "execution_count": 21,
      "outputs": [
        {
          "output_type": "execute_result",
          "data": {
            "text/plain": [
              "MinMaxScaler(copy=True, feature_range=(0, 1))"
            ]
          },
          "metadata": {
            "tags": []
          },
          "execution_count": 21
        }
      ]
    },
    {
      "cell_type": "code",
      "metadata": {
        "id": "uB_Wrsn6nuwf"
      },
      "source": [
        "scaled_train = scaler.transform(train)\n",
        "scaled_test = scaler.transform(test)"
      ],
      "execution_count": 22,
      "outputs": []
    },
    {
      "cell_type": "markdown",
      "metadata": {
        "id": "9KHbKbSVn1-U"
      },
      "source": [
        "# Time Series Generator\n",
        "\n",
        "This class takes in a sequence of data-points gathered at\n",
        "equal intervals, along with time series parameters such as\n",
        "stride, length of history, etc., to produce batches for\n",
        "training/validation.\n",
        "\n",
        "#### Arguments\n",
        "    data: Indexable generator (such as list or Numpy array)\n",
        "        containing consecutive data points (timesteps).\n",
        "        The data should be at 2D, and axis 0 is expected\n",
        "        to be the time dimension.\n",
        "    targets: Targets corresponding to timesteps in `data`.\n",
        "        It should have same length as `data`.\n",
        "    length: Length of the output sequences (in number of timesteps).\n",
        "    sampling_rate: Period between successive individual timesteps\n",
        "        within sequences. For rate `r`, timesteps\n",
        "        `data[i]`, `data[i-r]`, ... `data[i - length]`\n",
        "        are used for create a sample sequence.\n",
        "    stride: Period between successive output sequences.\n",
        "        For stride `s`, consecutive output samples would\n",
        "        be centered around `data[i]`, `data[i+s]`, `data[i+2*s]`, etc.\n",
        "    start_index: Data points earlier than `start_index` will not be used\n",
        "        in the output sequences. This is useful to reserve part of the\n",
        "        data for test or validation.\n",
        "    end_index: Data points later than `end_index` will not be used\n",
        "        in the output sequences. This is useful to reserve part of the\n",
        "        data for test or validation.\n",
        "    shuffle: Whether to shuffle output samples,\n",
        "        or instead draw them in chronological order.\n",
        "    reverse: Boolean: if `true`, timesteps in each output sample will be\n",
        "        in reverse chronological order.\n",
        "    batch_size: Number of timeseries samples in each batch\n",
        "        (except maybe the last one)."
      ]
    },
    {
      "cell_type": "code",
      "metadata": {
        "id": "fqfeAV7Gn0Qw"
      },
      "source": [
        "from tensorflow.keras.preprocessing.sequence import TimeseriesGenerator"
      ],
      "execution_count": 23,
      "outputs": []
    },
    {
      "cell_type": "code",
      "metadata": {
        "colab": {
          "base_uri": "https://localhost:8080/"
        },
        "id": "6Vk-XD49oBic",
        "outputId": "11d6bf98-19e2-44ab-8115-e6b80accde29"
      },
      "source": [
        "len(test)"
      ],
      "execution_count": 24,
      "outputs": [
        {
          "output_type": "execute_result",
          "data": {
            "text/plain": [
              "18"
            ]
          },
          "metadata": {
            "tags": []
          },
          "execution_count": 24
        }
      ]
    },
    {
      "cell_type": "code",
      "metadata": {
        "id": "PDaNcmIdn37i"
      },
      "source": [
        "#we have to choose a batch less than 18\n",
        "# Let's redefine to get 12 months back and then predict the next month out\n",
        "length = 12 \n",
        "generator = TimeseriesGenerator(scaled_train,scaled_train,length=length,batch_size=1)"
      ],
      "execution_count": 25,
      "outputs": []
    },
    {
      "cell_type": "code",
      "metadata": {
        "id": "iD2AzFf8oQKA"
      },
      "source": [
        "X,y = generator[0]"
      ],
      "execution_count": 26,
      "outputs": []
    },
    {
      "cell_type": "code",
      "metadata": {
        "colab": {
          "base_uri": "https://localhost:8080/"
        },
        "id": "vqZyQxA5op33",
        "outputId": "217b245a-0b8a-4205-a4c0-0479b41c63ee"
      },
      "source": [
        "len(X[0])"
      ],
      "execution_count": 30,
      "outputs": [
        {
          "output_type": "execute_result",
          "data": {
            "text/plain": [
              "12"
            ]
          },
          "metadata": {
            "tags": []
          },
          "execution_count": 30
        }
      ]
    },
    {
      "cell_type": "markdown",
      "metadata": {
        "id": "PLhPW8j-orWI"
      },
      "source": [
        "Given 12 month, predict the 13th month"
      ]
    },
    {
      "cell_type": "code",
      "metadata": {
        "colab": {
          "base_uri": "https://localhost:8080/"
        },
        "id": "L71VIDq2oSTb",
        "outputId": "e780ed2f-59ae-4b6f-c5d4-9394480ee0ca"
      },
      "source": [
        "X"
      ],
      "execution_count": 27,
      "outputs": [
        {
          "output_type": "execute_result",
          "data": {
            "text/plain": [
              "array([[[0.        ],\n",
              "        [0.02127505],\n",
              "        [0.05580163],\n",
              "        [0.08942056],\n",
              "        [0.09512053],\n",
              "        [0.08146965],\n",
              "        [0.07860151],\n",
              "        [0.12979233],\n",
              "        [0.09566512],\n",
              "        [0.1203892 ],\n",
              "        [0.15426227],\n",
              "        [0.41595266]]])"
            ]
          },
          "metadata": {
            "tags": []
          },
          "execution_count": 27
        }
      ]
    },
    {
      "cell_type": "code",
      "metadata": {
        "colab": {
          "base_uri": "https://localhost:8080/"
        },
        "id": "xbWgaxOpoTrT",
        "outputId": "b61503a2-1c52-4977-b278-767b29f00051"
      },
      "source": [
        "y"
      ],
      "execution_count": 28,
      "outputs": [
        {
          "output_type": "execute_result",
          "data": {
            "text/plain": [
              "array([[0.02047633]])"
            ]
          },
          "metadata": {
            "tags": []
          },
          "execution_count": 28
        }
      ]
    },
    {
      "cell_type": "code",
      "metadata": {
        "colab": {
          "base_uri": "https://localhost:8080/"
        },
        "id": "R5G0y3NioVo0",
        "outputId": "470b0251-dabe-45bf-cf5c-9d03b0ef473d"
      },
      "source": [
        "scaled_train"
      ],
      "execution_count": 29,
      "outputs": [
        {
          "output_type": "execute_result",
          "data": {
            "text/plain": [
              "array([[0.        ],\n",
              "       [0.02127505],\n",
              "       [0.05580163],\n",
              "       [0.08942056],\n",
              "       [0.09512053],\n",
              "       [0.08146965],\n",
              "       [0.07860151],\n",
              "       [0.12979233],\n",
              "       [0.09566512],\n",
              "       [0.1203892 ],\n",
              "       [0.15426227],\n",
              "       [0.41595266],\n",
              "       [0.02047633],\n",
              "       [0.02127505],\n",
              "       [0.06636654],\n",
              "       [0.10633895],\n",
              "       [0.11345484],\n",
              "       [0.09791606],\n",
              "       [0.10368864],\n",
              "       [0.13396747],\n",
              "       [0.11163956],\n",
              "       [0.12372931],\n",
              "       [0.17506535],\n",
              "       [0.43250799],\n",
              "       [0.0124165 ],\n",
              "       [0.03499855],\n",
              "       [0.10829945],\n",
              "       [0.10641156],\n",
              "       [0.11149434],\n",
              "       [0.10728289],\n",
              "       [0.10154662],\n",
              "       [0.1531731 ],\n",
              "       [0.11904589],\n",
              "       [0.13767064],\n",
              "       [0.19663085],\n",
              "       [0.47480395],\n",
              "       [0.02105722],\n",
              "       [0.03714058],\n",
              "       [0.10445106],\n",
              "       [0.11726692],\n",
              "       [0.13367703],\n",
              "       [0.12209556],\n",
              "       [0.10332559],\n",
              "       [0.1570578 ],\n",
              "       [0.13694453],\n",
              "       [0.12710572],\n",
              "       [0.21104415],\n",
              "       [0.47429567],\n",
              "       [0.02708394],\n",
              "       [0.07453529],\n",
              "       [0.12383822],\n",
              "       [0.13186175],\n",
              "       [0.16217688],\n",
              "       [0.13128086],\n",
              "       [0.11850131],\n",
              "       [0.18864362],\n",
              "       [0.13378594],\n",
              "       [0.15654952],\n",
              "       [0.21554604],\n",
              "       [0.47218995],\n",
              "       [0.04559977],\n",
              "       [0.06887162],\n",
              "       [0.14166425],\n",
              "       [0.11592361],\n",
              "       [0.16580744],\n",
              "       [0.13491141],\n",
              "       [0.13781586],\n",
              "       [0.20051554],\n",
              "       [0.14536741],\n",
              "       [0.17052716],\n",
              "       [0.22894278],\n",
              "       [0.51481266],\n",
              "       [0.06760093],\n",
              "       [0.09297851],\n",
              "       [0.14249927],\n",
              "       [0.17742521],\n",
              "       [0.19245571],\n",
              "       [0.16384694],\n",
              "       [0.17045455],\n",
              "       [0.21903137],\n",
              "       [0.15524252],\n",
              "       [0.19772001],\n",
              "       [0.25108917],\n",
              "       [0.56200988],\n",
              "       [0.08346645],\n",
              "       [0.11737584],\n",
              "       [0.18671943],\n",
              "       [0.19779262],\n",
              "       [0.22614726],\n",
              "       [0.19394423],\n",
              "       [0.20051554],\n",
              "       [0.2467325 ],\n",
              "       [0.19673976],\n",
              "       [0.21819634],\n",
              "       [0.27973424],\n",
              "       [0.62982864],\n",
              "       [0.09109062],\n",
              "       [0.15364508],\n",
              "       [0.21431165],\n",
              "       [0.22458612],\n",
              "       [0.24676881],\n",
              "       [0.21837787],\n",
              "       [0.20193146],\n",
              "       [0.27853616],\n",
              "       [0.23369881],\n",
              "       [0.23348098],\n",
              "       [0.31720157],\n",
              "       [0.65121261],\n",
              "       [0.11334592],\n",
              "       [0.16381063],\n",
              "       [0.2225167 ],\n",
              "       [0.23322684],\n",
              "       [0.24865669],\n",
              "       [0.21772437],\n",
              "       [0.20556201],\n",
              "       [0.28608771],\n",
              "       [0.18755446],\n",
              "       [0.22799884],\n",
              "       [0.30547488],\n",
              "       [0.63883241],\n",
              "       [0.12365669],\n",
              "       [0.17397618],\n",
              "       [0.25555475],\n",
              "       [0.22716381],\n",
              "       [0.26183561],\n",
              "       [0.22770839],\n",
              "       [0.21547342],\n",
              "       [0.29679785],\n",
              "       [0.19993465],\n",
              "       [0.25660761],\n",
              "       [0.32576968],\n",
              "       [0.66845774],\n",
              "       [0.14035725],\n",
              "       [0.17150741],\n",
              "       [0.23649434],\n",
              "       [0.24517136],\n",
              "       [0.28289283],\n",
              "       [0.23809178],\n",
              "       [0.25108917],\n",
              "       [0.31164682],\n",
              "       [0.24066947],\n",
              "       [0.27820941],\n",
              "       [0.34915045],\n",
              "       [0.71964856],\n",
              "       [0.17615452],\n",
              "       [0.23257334],\n",
              "       [0.28398199],\n",
              "       [0.29480105],\n",
              "       [0.30645513],\n",
              "       [0.26499419],\n",
              "       [0.28060558],\n",
              "       [0.31404299],\n",
              "       [0.26452222],\n",
              "       [0.31338949],\n",
              "       [0.37365669],\n",
              "       [0.77940749],\n",
              "       [0.18544874],\n",
              "       [0.2519605 ],\n",
              "       [0.31908946],\n",
              "       [0.31839965],\n",
              "       [0.32860151],\n",
              "       [0.31299012],\n",
              "       [0.30060993],\n",
              "       [0.35430584],\n",
              "       [0.2912431 ],\n",
              "       [0.3474804 ],\n",
              "       [0.4162068 ],\n",
              "       [0.84729887],\n",
              "       [0.21619954],\n",
              "       [0.27359861],\n",
              "       [0.34301481],\n",
              "       [0.35978798],\n",
              "       [0.36904589],\n",
              "       [0.34733517],\n",
              "       [0.3389849 ],\n",
              "       [0.39551263],\n",
              "       [0.35684723],\n",
              "       [0.37449172],\n",
              "       [0.45211298],\n",
              "       [0.89035725],\n",
              "       [0.25373947],\n",
              "       [0.29549085],\n",
              "       [0.40324572],\n",
              "       [0.36879175],\n",
              "       [0.4188208 ],\n",
              "       [0.37579872],\n",
              "       [0.36105867],\n",
              "       [0.43247168],\n",
              "       [0.35677462],\n",
              "       [0.38759802],\n",
              "       [0.49419111],\n",
              "       [0.86033256],\n",
              "       [0.26267064],\n",
              "       [0.32449898],\n",
              "       [0.39326169],\n",
              "       [0.36904589],\n",
              "       [0.44096718],\n",
              "       [0.36556056],\n",
              "       [0.37870317],\n",
              "       [0.43940604],\n",
              "       [0.32471682],\n",
              "       [0.35790009],\n",
              "       [0.42905896],\n",
              "       [0.71841417],\n",
              "       [0.23413448],\n",
              "       [0.28122277],\n",
              "       [0.31313535],\n",
              "       [0.34123584],\n",
              "       [0.37489108],\n",
              "       [0.30845193],\n",
              "       [0.32925501],\n",
              "       [0.38912286],\n",
              "       [0.31556782],\n",
              "       [0.36723061],\n",
              "       [0.41366541],\n",
              "       [0.733009  ],\n",
              "       [0.22792623],\n",
              "       [0.2860151 ],\n",
              "       [0.37946558],\n",
              "       [0.36683125],\n",
              "       [0.39170055],\n",
              "       [0.33401104],\n",
              "       [0.35957014],\n",
              "       [0.39881644],\n",
              "       [0.33742376],\n",
              "       [0.3802643 ],\n",
              "       [0.47433198],\n",
              "       [0.78445396],\n",
              "       [0.24560703],\n",
              "       [0.32649579],\n",
              "       [0.41076096],\n",
              "       [0.42510166],\n",
              "       [0.42960354],\n",
              "       [0.39373366],\n",
              "       [0.39932472],\n",
              "       [0.44746587],\n",
              "       [0.40157566],\n",
              "       [0.41086988],\n",
              "       [0.50896747],\n",
              "       [0.87750508],\n",
              "       [0.26938716],\n",
              "       [0.39910688],\n",
              "       [0.48010456],\n",
              "       [0.4234316 ],\n",
              "       [0.4724804 ],\n",
              "       [0.42764304],\n",
              "       [0.41126924],\n",
              "       [0.50145222],\n",
              "       [0.41580744],\n",
              "       [0.43229015],\n",
              "       [0.54741505],\n",
              "       [0.89188208],\n",
              "       [0.29832268],\n",
              "       [0.37917514],\n",
              "       [0.49509875],\n",
              "       [0.44430729],\n",
              "       [0.50254139],\n",
              "       [0.43570288],\n",
              "       [0.44430729],\n",
              "       [0.5307871 ],\n",
              "       [0.40564188],\n",
              "       [0.46895876],\n",
              "       [0.56269968],\n",
              "       [0.89456869],\n",
              "       [0.29919402],\n",
              "       [0.38371333],\n",
              "       [0.47676445],\n",
              "       [0.48591345],\n",
              "       [0.53115016],\n",
              "       [0.43599332],\n",
              "       [0.46797851],\n",
              "       [0.54658002],\n",
              "       [0.42506535],\n",
              "       [0.48221028],\n",
              "       [0.60096573],\n",
              "       [0.93305257],\n",
              "       [0.32043276],\n",
              "       [0.40088586],\n",
              "       [0.50152483],\n",
              "       [0.48834592],\n",
              "       [0.55209846],\n",
              "       [0.46213331],\n",
              "       [0.49469939],\n",
              "       [0.5582341 ],\n",
              "       [0.44339965],\n",
              "       [0.4973497 ],\n",
              "       [0.5864072 ],\n",
              "       [0.95872059],\n",
              "       [0.31789137],\n",
              "       [0.43570288],\n",
              "       [0.52839094],\n",
              "       [0.48976184],\n",
              "       [0.53434505],\n",
              "       [0.48003195],\n",
              "       [0.49843886],\n",
              "       [0.56092071],\n",
              "       [0.4665989 ],\n",
              "       [0.49237584],\n",
              "       [0.60652048],\n",
              "       [1.        ],\n",
              "       [0.3167659 ],\n",
              "       [0.39235405],\n",
              "       [0.51154516],\n",
              "       [0.50515539],\n",
              "       [0.53252977],\n",
              "       [0.48591345],\n",
              "       [0.49364653],\n",
              "       [0.56629393],\n",
              "       [0.46405751],\n",
              "       [0.48536886],\n",
              "       [0.63534708],\n",
              "       [0.97233517],\n",
              "       [0.32468051],\n",
              "       [0.42285071],\n",
              "       [0.5615016 ],\n",
              "       [0.49658728]])"
            ]
          },
          "metadata": {
            "tags": []
          },
          "execution_count": 29
        }
      ]
    },
    {
      "cell_type": "markdown",
      "metadata": {
        "id": "uu682bErojPN"
      },
      "source": [
        "## Create the model"
      ]
    },
    {
      "cell_type": "code",
      "metadata": {
        "id": "S0c0pYbsob2y"
      },
      "source": [
        "from tensorflow.keras.models import Sequential\n",
        "from tensorflow.keras.layers import Dense\n",
        "from tensorflow.keras.layers import LSTM"
      ],
      "execution_count": 31,
      "outputs": []
    },
    {
      "cell_type": "code",
      "metadata": {
        "id": "0rT0nuu1oxts"
      },
      "source": [
        "# We're only using one feature in our time series\n",
        "n_features = 1"
      ],
      "execution_count": 32,
      "outputs": []
    },
    {
      "cell_type": "code",
      "metadata": {
        "id": "fyYL45MNo24e"
      },
      "source": [
        "# define model\n",
        "model = Sequential()\n",
        "model.add(LSTM(100, activation='relu', input_shape=(length, n_features)))\n",
        "model.add(Dense(1))\n",
        "model.compile(optimizer='adam', loss='mse')"
      ],
      "execution_count": 34,
      "outputs": []
    },
    {
      "cell_type": "code",
      "metadata": {
        "colab": {
          "base_uri": "https://localhost:8080/"
        },
        "id": "qA3XzmT_piZ9",
        "outputId": "8cbd4d4c-cdfb-4811-8365-ccdd809b04b8"
      },
      "source": [
        "model.summary()"
      ],
      "execution_count": 35,
      "outputs": [
        {
          "output_type": "stream",
          "text": [
            "Model: \"sequential_1\"\n",
            "_________________________________________________________________\n",
            "Layer (type)                 Output Shape              Param #   \n",
            "=================================================================\n",
            "lstm_1 (LSTM)                (None, 100)               40800     \n",
            "_________________________________________________________________\n",
            "dense (Dense)                (None, 1)                 101       \n",
            "=================================================================\n",
            "Total params: 40,901\n",
            "Trainable params: 40,901\n",
            "Non-trainable params: 0\n",
            "_________________________________________________________________\n"
          ],
          "name": "stdout"
        }
      ]
    },
    {
      "cell_type": "markdown",
      "metadata": {
        "id": "pXqRIrnQppPd"
      },
      "source": [
        "### EarlyStopping and creating a Validation Generator\n",
        "\n",
        "NOTE: The scaled_test dataset size MUST be greater than your length chosen for your batches"
      ]
    },
    {
      "cell_type": "code",
      "metadata": {
        "id": "z_6lDWY6pljB"
      },
      "source": [
        "from tensorflow.keras.callbacks import EarlyStopping"
      ],
      "execution_count": 36,
      "outputs": []
    },
    {
      "cell_type": "code",
      "metadata": {
        "id": "NiCt6izWpuEU"
      },
      "source": [
        "early_stop = EarlyStopping(monitor='val_loss',patience=2)"
      ],
      "execution_count": 37,
      "outputs": []
    },
    {
      "cell_type": "code",
      "metadata": {
        "id": "ov9IiA4apu9R"
      },
      "source": [
        "validation_generator = TimeseriesGenerator(scaled_test,scaled_test, length=length, batch_size=1)"
      ],
      "execution_count": 38,
      "outputs": []
    },
    {
      "cell_type": "code",
      "metadata": {
        "colab": {
          "base_uri": "https://localhost:8080/"
        },
        "id": "RXcraVGhpw28",
        "outputId": "172b1780-1feb-44f4-c964-6bc92a7d8012"
      },
      "source": [
        "# fit model\n",
        "model.fit_generator(generator,epochs=20,\n",
        "                    validation_data=validation_generator,\n",
        "                   callbacks=[early_stop])"
      ],
      "execution_count": 39,
      "outputs": [
        {
          "output_type": "stream",
          "text": [
            "/usr/local/lib/python3.6/dist-packages/tensorflow/python/keras/engine/training.py:1844: UserWarning: `Model.fit_generator` is deprecated and will be removed in a future version. Please use `Model.fit`, which supports generators.\n",
            "  warnings.warn('`Model.fit_generator` is deprecated and '\n"
          ],
          "name": "stderr"
        },
        {
          "output_type": "stream",
          "text": [
            "Epoch 1/20\n",
            "304/304 [==============================] - 3s 6ms/step - loss: 0.0246 - val_loss: 0.0178\n",
            "Epoch 2/20\n",
            "304/304 [==============================] - 2s 6ms/step - loss: 0.0195 - val_loss: 0.0551\n",
            "Epoch 3/20\n",
            "304/304 [==============================] - 2s 6ms/step - loss: 0.0117 - val_loss: 0.0045\n",
            "Epoch 4/20\n",
            "304/304 [==============================] - 2s 6ms/step - loss: 0.0034 - val_loss: 0.0068\n",
            "Epoch 5/20\n",
            "304/304 [==============================] - 2s 6ms/step - loss: 0.0048 - val_loss: 9.2918e-04\n",
            "Epoch 6/20\n",
            "304/304 [==============================] - 2s 6ms/step - loss: 0.0024 - val_loss: 8.7935e-04\n",
            "Epoch 7/20\n",
            "304/304 [==============================] - 2s 6ms/step - loss: 9.7732e-04 - val_loss: 0.0037\n",
            "Epoch 8/20\n",
            "304/304 [==============================] - 2s 6ms/step - loss: 9.7913e-04 - val_loss: 8.8687e-04\n"
          ],
          "name": "stdout"
        },
        {
          "output_type": "execute_result",
          "data": {
            "text/plain": [
              "<tensorflow.python.keras.callbacks.History at 0x7f3758464278>"
            ]
          },
          "metadata": {
            "tags": []
          },
          "execution_count": 39
        }
      ]
    },
    {
      "cell_type": "code",
      "metadata": {
        "id": "05hn53VApz_D"
      },
      "source": [
        "losses = pd.DataFrame(model.history.history)"
      ],
      "execution_count": 40,
      "outputs": []
    },
    {
      "cell_type": "code",
      "metadata": {
        "colab": {
          "base_uri": "https://localhost:8080/",
          "height": 282
        },
        "id": "r0Aeauqgp4sS",
        "outputId": "b0f0ad4d-effa-4afd-a178-464928cc2e49"
      },
      "source": [
        "losses.plot()"
      ],
      "execution_count": 41,
      "outputs": [
        {
          "output_type": "execute_result",
          "data": {
            "text/plain": [
              "<matplotlib.axes._subplots.AxesSubplot at 0x7f375cd64f98>"
            ]
          },
          "metadata": {
            "tags": []
          },
          "execution_count": 41
        },
        {
          "output_type": "display_data",
          "data": {
            "image/png": "[encoded data removed]",
            "text/plain": [
              "<Figure size 432x288 with 1 Axes>"
            ]
          },
          "metadata": {
            "tags": [],
            "needs_background": "light"
          }
        }
      ]
    },
    {
      "cell_type": "markdown",
      "metadata": {
        "id": "P265NoLap7wG"
      },
      "source": [
        "## Evaluate on Test Data"
      ]
    },
    {
      "cell_type": "code",
      "metadata": {
        "colab": {
          "base_uri": "https://localhost:8080/"
        },
        "id": "pF3jmTS_qHmu",
        "outputId": "0b40e0eb-f2ba-495d-901b-07d012115e59"
      },
      "source": [
        "scaled_train[-length:]"
      ],
      "execution_count": 44,
      "outputs": [
        {
          "output_type": "execute_result",
          "data": {
            "text/plain": [
              "array([[0.53252977],\n",
              "       [0.48591345],\n",
              "       [0.49364653],\n",
              "       [0.56629393],\n",
              "       [0.46405751],\n",
              "       [0.48536886],\n",
              "       [0.63534708],\n",
              "       [0.97233517],\n",
              "       [0.32468051],\n",
              "       [0.42285071],\n",
              "       [0.5615016 ],\n",
              "       [0.49658728]])"
            ]
          },
          "metadata": {
            "tags": []
          },
          "execution_count": 44
        }
      ]
    },
    {
      "cell_type": "code",
      "metadata": {
        "id": "pHu7hzuOp5f5"
      },
      "source": [
        "first_eval_batch = scaled_train[-length:]"
      ],
      "execution_count": 46,
      "outputs": []
    },
    {
      "cell_type": "code",
      "metadata": {
        "id": "gWuwhISyqW5i"
      },
      "source": [
        "first_eval_batch = first_eval_batch.reshape((1, length, n_features))"
      ],
      "execution_count": 49,
      "outputs": []
    },
    {
      "cell_type": "code",
      "metadata": {
        "colab": {
          "base_uri": "https://localhost:8080/"
        },
        "id": "_pQCgnjnqX9u",
        "outputId": "40664884-80bf-41a4-df1d-14442924ca09"
      },
      "source": [
        "model.predict(first_eval_batch)"
      ],
      "execution_count": 50,
      "outputs": [
        {
          "output_type": "execute_result",
          "data": {
            "text/plain": [
              "array([[0.54724824]], dtype=float32)"
            ]
          },
          "metadata": {
            "tags": []
          },
          "execution_count": 50
        }
      ]
    },
    {
      "cell_type": "code",
      "metadata": {
        "colab": {
          "base_uri": "https://localhost:8080/"
        },
        "id": "7MJuFmD9qvwC",
        "outputId": "d328ceb6-a5ea-47b9-81e6-8a2179d44af8"
      },
      "source": [
        "scaled_test[0]"
      ],
      "execution_count": 51,
      "outputs": [
        {
          "output_type": "execute_result",
          "data": {
            "text/plain": [
              "array([0.61087714])"
            ]
          },
          "metadata": {
            "tags": []
          },
          "execution_count": 51
        }
      ]
    },
    {
      "cell_type": "code",
      "metadata": {
        "id": "33zyTOJRq5K-"
      },
      "source": [
        "test_predictions = []\n",
        "\n",
        "first_eval_batch = scaled_train[-length:]\n",
        "current_batch = first_eval_batch.reshape((1, length, n_features))\n",
        "\n",
        "for i in range(len(test)):\n",
        "    \n",
        "    # get prediction 1 time stamp ahead ([0] is for grabbing just the number instead of [array])\n",
        "    current_pred = model.predict(current_batch)[0]\n",
        "    \n",
        "    # store prediction\n",
        "    test_predictions.append(current_pred) \n",
        "    \n",
        "    # update batch to now include prediction and drop first value\n",
        "    current_batch = np.append(current_batch[:,1:,:],[[current_pred]],axis=1)"
      ],
      "execution_count": 52,
      "outputs": []
    },
    {
      "cell_type": "markdown",
      "metadata": {
        "id": "tRh4_immrUea"
      },
      "source": [
        "## Inverse Transformations and Compare"
      ]
    },
    {
      "cell_type": "code",
      "metadata": {
        "id": "y31HefyCrTJZ"
      },
      "source": [
        "true_predictions = scaler.inverse_transform(test_predictions)"
      ],
      "execution_count": 53,
      "outputs": []
    },
    {
      "cell_type": "code",
      "metadata": {
        "colab": {
          "base_uri": "https://localhost:8080/"
        },
        "id": "v2Thc9TNrZUS",
        "outputId": "face0f47-e8c3-4582-8a8e-cbdd62481b31"
      },
      "source": [
        "# IGNORE WARNINGS\n",
        "test['Predictions'] = true_predictions"
      ],
      "execution_count": 55,
      "outputs": [
        {
          "output_type": "stream",
          "text": [
            "/usr/local/lib/python3.6/dist-packages/ipykernel_launcher.py:2: SettingWithCopyWarning: \n",
            "A value is trying to be set on a copy of a slice from a DataFrame.\n",
            "Try using .loc[row_indexer,col_indexer] = value instead\n",
            "\n",
            "See the caveats in the documentation: https://pandas.pydata.org/pandas-docs/stable/user_guide/indexing.html#returning-a-view-versus-a-copy\n",
            "  \n"
          ],
          "name": "stderr"
        }
      ]
    },
    {
      "cell_type": "code",
      "metadata": {
        "colab": {
          "base_uri": "https://localhost:8080/",
          "height": 638
        },
        "id": "opEY_2kDrbsd",
        "outputId": "58b1254d-709c-49ac-b48e-45be3c48d56f"
      },
      "source": [
        "test"
      ],
      "execution_count": 56,
      "outputs": [
        {
          "output_type": "execute_result",
          "data": {
            "text/html": [
              "<div>\n",
              "<style scoped>\n",
              "    .dataframe tbody tr th:only-of-type {\n",
              "        vertical-align: middle;\n",
              "    }\n",
              "\n",
              "    .dataframe tbody tr th {\n",
              "        vertical-align: top;\n",
              "    }\n",
              "\n",
              "    .dataframe thead th {\n",
              "        text-align: right;\n",
              "    }\n",
              "</style>\n",
              "<table border=\"1\" class=\"dataframe\">\n",
              "  <thead>\n",
              "    <tr style=\"text-align: right;\">\n",
              "      <th></th>\n",
              "      <th>Sales</th>\n",
              "      <th>Predictions</th>\n",
              "    </tr>\n",
              "    <tr>\n",
              "      <th>DATE</th>\n",
              "      <th></th>\n",
              "      <th></th>\n",
              "    </tr>\n",
              "  </thead>\n",
              "  <tbody>\n",
              "    <tr>\n",
              "      <th>2018-05-01</th>\n",
              "      <td>23764</td>\n",
              "      <td>22011.405641</td>\n",
              "    </tr>\n",
              "    <tr>\n",
              "      <th>2018-06-01</th>\n",
              "      <td>21589</td>\n",
              "      <td>20905.230383</td>\n",
              "    </tr>\n",
              "    <tr>\n",
              "      <th>2018-07-01</th>\n",
              "      <td>21919</td>\n",
              "      <td>21026.102610</td>\n",
              "    </tr>\n",
              "    <tr>\n",
              "      <th>2018-08-01</th>\n",
              "      <td>23381</td>\n",
              "      <td>22852.195240</td>\n",
              "    </tr>\n",
              "    <tr>\n",
              "      <th>2018-09-01</th>\n",
              "      <td>20260</td>\n",
              "      <td>20239.075408</td>\n",
              "    </tr>\n",
              "    <tr>\n",
              "      <th>2018-10-01</th>\n",
              "      <td>21473</td>\n",
              "      <td>20769.250770</td>\n",
              "    </tr>\n",
              "    <tr>\n",
              "      <th>2018-11-01</th>\n",
              "      <td>25831</td>\n",
              "      <td>24922.708377</td>\n",
              "    </tr>\n",
              "    <tr>\n",
              "      <th>2018-12-01</th>\n",
              "      <td>34706</td>\n",
              "      <td>36404.745756</td>\n",
              "    </tr>\n",
              "    <tr>\n",
              "      <th>2019-01-01</th>\n",
              "      <td>16410</td>\n",
              "      <td>16254.624506</td>\n",
              "    </tr>\n",
              "    <tr>\n",
              "      <th>2019-02-01</th>\n",
              "      <td>18134</td>\n",
              "      <td>18823.776622</td>\n",
              "    </tr>\n",
              "    <tr>\n",
              "      <th>2019-03-01</th>\n",
              "      <td>22093</td>\n",
              "      <td>22583.737867</td>\n",
              "    </tr>\n",
              "    <tr>\n",
              "      <th>2019-04-01</th>\n",
              "      <td>21597</td>\n",
              "      <td>21149.734619</td>\n",
              "    </tr>\n",
              "    <tr>\n",
              "      <th>2019-05-01</th>\n",
              "      <td>23200</td>\n",
              "      <td>22535.222503</td>\n",
              "    </tr>\n",
              "    <tr>\n",
              "      <th>2019-06-01</th>\n",
              "      <td>21123</td>\n",
              "      <td>21591.089645</td>\n",
              "    </tr>\n",
              "    <tr>\n",
              "      <th>2019-07-01</th>\n",
              "      <td>21714</td>\n",
              "      <td>21657.853064</td>\n",
              "    </tr>\n",
              "    <tr>\n",
              "      <th>2019-08-01</th>\n",
              "      <td>23791</td>\n",
              "      <td>23272.353628</td>\n",
              "    </tr>\n",
              "    <tr>\n",
              "      <th>2019-09-01</th>\n",
              "      <td>19695</td>\n",
              "      <td>20912.340804</td>\n",
              "    </tr>\n",
              "    <tr>\n",
              "      <th>2019-10-01</th>\n",
              "      <td>21113</td>\n",
              "      <td>21431.362113</td>\n",
              "    </tr>\n",
              "  </tbody>\n",
              "</table>\n",
              "</div>"
            ],
            "text/plain": [
              "            Sales   Predictions\n",
              "DATE                           \n",
              "2018-05-01  23764  22011.405641\n",
              "2018-06-01  21589  20905.230383\n",
              "2018-07-01  21919  21026.102610\n",
              "2018-08-01  23381  22852.195240\n",
              "2018-09-01  20260  20239.075408\n",
              "2018-10-01  21473  20769.250770\n",
              "2018-11-01  25831  24922.708377\n",
              "2018-12-01  34706  36404.745756\n",
              "2019-01-01  16410  16254.624506\n",
              "2019-02-01  18134  18823.776622\n",
              "2019-03-01  22093  22583.737867\n",
              "2019-04-01  21597  21149.734619\n",
              "2019-05-01  23200  22535.222503\n",
              "2019-06-01  21123  21591.089645\n",
              "2019-07-01  21714  21657.853064\n",
              "2019-08-01  23791  23272.353628\n",
              "2019-09-01  19695  20912.340804\n",
              "2019-10-01  21113  21431.362113"
            ]
          },
          "metadata": {
            "tags": []
          },
          "execution_count": 56
        }
      ]
    },
    {
      "cell_type": "code",
      "metadata": {
        "colab": {
          "base_uri": "https://localhost:8080/",
          "height": 489
        },
        "id": "hwNK5DpMrfdV",
        "outputId": "02195356-9a16-408e-d496-df847c12fc08"
      },
      "source": [
        "test.plot(figsize=(12,8))"
      ],
      "execution_count": 57,
      "outputs": [
        {
          "output_type": "execute_result",
          "data": {
            "text/plain": [
              "<matplotlib.axes._subplots.AxesSubplot at 0x7f375497e710>"
            ]
          },
          "metadata": {
            "tags": []
          },
          "execution_count": 57
        },
        {
          "output_type": "display_data",
          "data": {
            "image/png": "[encoded data removed]",
            "text/plain": [
              "<Figure size 864x576 with 1 Axes>"
            ]
          },
          "metadata": {
            "tags": [],
            "needs_background": "light"
          }
        }
      ]
    },
    {
      "cell_type": "markdown",
      "metadata": {
        "id": "T-jBz6aerlc2"
      },
      "source": [
        "# Retrain and Forecasting"
      ]
    },
    {
      "cell_type": "code",
      "metadata": {
        "id": "Pl0Td1pcrjAx"
      },
      "source": [
        "full_scaler = MinMaxScaler()\n",
        "scaled_full_data = full_scaler.fit_transform(df)"
      ],
      "execution_count": 58,
      "outputs": []
    },
    {
      "cell_type": "code",
      "metadata": {
        "id": "5yK17D59rtwE"
      },
      "source": [
        "length = 12 # Length of the output sequences (in number of timesteps)\n",
        "generator = TimeseriesGenerator(scaled_full_data, scaled_full_data, length=length, batch_size=1)"
      ],
      "execution_count": 59,
      "outputs": []
    },
    {
      "cell_type": "code",
      "metadata": {
        "colab": {
          "base_uri": "https://localhost:8080/"
        },
        "id": "MOqe2q9TrwEA",
        "outputId": "c4563199-767f-4804-a677-87fb6931b155"
      },
      "source": [
        "model = Sequential()\n",
        "model.add(LSTM(100, activation='relu', input_shape=(length, n_features)))\n",
        "model.add(Dense(1))\n",
        "model.compile(optimizer='adam', loss='mse')\n",
        "\n",
        "\n",
        "# fit model\n",
        "model.fit_generator(generator,epochs=8)"
      ],
      "execution_count": 60,
      "outputs": [
        {
          "output_type": "stream",
          "text": [
            "/usr/local/lib/python3.6/dist-packages/tensorflow/python/keras/engine/training.py:1844: UserWarning: `Model.fit_generator` is deprecated and will be removed in a future version. Please use `Model.fit`, which supports generators.\n",
            "  warnings.warn('`Model.fit_generator` is deprecated and '\n"
          ],
          "name": "stderr"
        },
        {
          "output_type": "stream",
          "text": [
            "Epoch 1/8\n",
            "322/322 [==============================] - 3s 6ms/step - loss: 0.0439\n",
            "Epoch 2/8\n",
            "322/322 [==============================] - 2s 6ms/step - loss: 0.0252\n",
            "Epoch 3/8\n",
            "322/322 [==============================] - 2s 6ms/step - loss: 0.0139\n",
            "Epoch 4/8\n",
            "322/322 [==============================] - 2s 6ms/step - loss: 0.0073\n",
            "Epoch 5/8\n",
            "322/322 [==============================] - 2s 6ms/step - loss: 0.0016\n",
            "Epoch 6/8\n",
            "322/322 [==============================] - 2s 6ms/step - loss: 0.0014\n",
            "Epoch 7/8\n",
            "322/322 [==============================] - 2s 6ms/step - loss: 0.0013\n",
            "Epoch 8/8\n",
            "322/322 [==============================] - 2s 6ms/step - loss: 0.0017\n"
          ],
          "name": "stdout"
        },
        {
          "output_type": "execute_result",
          "data": {
            "text/plain": [
              "<tensorflow.python.keras.callbacks.History at 0x7f37548cada0>"
            ]
          },
          "metadata": {
            "tags": []
          },
          "execution_count": 60
        }
      ]
    },
    {
      "cell_type": "code",
      "metadata": {
        "id": "1jKbmN9trxEa"
      },
      "source": [
        "forecast = []\n",
        "# Replace periods with whatever forecast length you want\n",
        "periods = 12\n",
        "\n",
        "first_eval_batch = scaled_full_data[-length:]\n",
        "current_batch = first_eval_batch.reshape((1, length, n_features))\n",
        "\n",
        "for i in range(periods):\n",
        "    \n",
        "    # get prediction 1 time stamp ahead ([0] is for grabbing just the number instead of [array])\n",
        "    current_pred = model.predict(current_batch)[0]\n",
        "    \n",
        "    # store prediction\n",
        "    forecast.append(current_pred) \n",
        "    \n",
        "    # update batch to now include prediction and drop first value\n",
        "    current_batch = np.append(current_batch[:,1:,:],[[current_pred]],axis=1)"
      ],
      "execution_count": 61,
      "outputs": []
    },
    {
      "cell_type": "code",
      "metadata": {
        "id": "Lsk9kXPqr8QK"
      },
      "source": [
        "forecast = scaler.inverse_transform(forecast)"
      ],
      "execution_count": 62,
      "outputs": []
    },
    {
      "cell_type": "markdown",
      "metadata": {
        "id": "OnmizKF2r--K"
      },
      "source": [
        "### Creating new timestamp index with pandas.\n"
      ]
    },
    {
      "cell_type": "code",
      "metadata": {
        "colab": {
          "base_uri": "https://localhost:8080/",
          "height": 450
        },
        "id": "qjDXLir8r9aB",
        "outputId": "96eb93f0-aed7-448e-b31f-9033b369eb73"
      },
      "source": [
        "df"
      ],
      "execution_count": 63,
      "outputs": [
        {
          "output_type": "execute_result",
          "data": {
            "text/html": [
              "<div>\n",
              "<style scoped>\n",
              "    .dataframe tbody tr th:only-of-type {\n",
              "        vertical-align: middle;\n",
              "    }\n",
              "\n",
              "    .dataframe tbody tr th {\n",
              "        vertical-align: top;\n",
              "    }\n",
              "\n",
              "    .dataframe thead th {\n",
              "        text-align: right;\n",
              "    }\n",
              "</style>\n",
              "<table border=\"1\" class=\"dataframe\">\n",
              "  <thead>\n",
              "    <tr style=\"text-align: right;\">\n",
              "      <th></th>\n",
              "      <th>Sales</th>\n",
              "    </tr>\n",
              "    <tr>\n",
              "      <th>DATE</th>\n",
              "      <th></th>\n",
              "    </tr>\n",
              "  </thead>\n",
              "  <tbody>\n",
              "    <tr>\n",
              "      <th>1992-01-01</th>\n",
              "      <td>6938</td>\n",
              "    </tr>\n",
              "    <tr>\n",
              "      <th>1992-02-01</th>\n",
              "      <td>7524</td>\n",
              "    </tr>\n",
              "    <tr>\n",
              "      <th>1992-03-01</th>\n",
              "      <td>8475</td>\n",
              "    </tr>\n",
              "    <tr>\n",
              "      <th>1992-04-01</th>\n",
              "      <td>9401</td>\n",
              "    </tr>\n",
              "    <tr>\n",
              "      <th>1992-05-01</th>\n",
              "      <td>9558</td>\n",
              "    </tr>\n",
              "    <tr>\n",
              "      <th>...</th>\n",
              "      <td>...</td>\n",
              "    </tr>\n",
              "    <tr>\n",
              "      <th>2019-06-01</th>\n",
              "      <td>21123</td>\n",
              "    </tr>\n",
              "    <tr>\n",
              "      <th>2019-07-01</th>\n",
              "      <td>21714</td>\n",
              "    </tr>\n",
              "    <tr>\n",
              "      <th>2019-08-01</th>\n",
              "      <td>23791</td>\n",
              "    </tr>\n",
              "    <tr>\n",
              "      <th>2019-09-01</th>\n",
              "      <td>19695</td>\n",
              "    </tr>\n",
              "    <tr>\n",
              "      <th>2019-10-01</th>\n",
              "      <td>21113</td>\n",
              "    </tr>\n",
              "  </tbody>\n",
              "</table>\n",
              "<p>334 rows × 1 columns</p>\n",
              "</div>"
            ],
            "text/plain": [
              "            Sales\n",
              "DATE             \n",
              "1992-01-01   6938\n",
              "1992-02-01   7524\n",
              "1992-03-01   8475\n",
              "1992-04-01   9401\n",
              "1992-05-01   9558\n",
              "...           ...\n",
              "2019-06-01  21123\n",
              "2019-07-01  21714\n",
              "2019-08-01  23791\n",
              "2019-09-01  19695\n",
              "2019-10-01  21113\n",
              "\n",
              "[334 rows x 1 columns]"
            ]
          },
          "metadata": {
            "tags": []
          },
          "execution_count": 63
        }
      ]
    },
    {
      "cell_type": "code",
      "metadata": {
        "id": "DaxQK2BQsCe6"
      },
      "source": [
        "forecast_index = pd.date_range(start='2019-11-01',periods=periods,freq='MS')"
      ],
      "execution_count": 64,
      "outputs": []
    },
    {
      "cell_type": "code",
      "metadata": {
        "id": "_yXh8HoKsH8S"
      },
      "source": [
        "forecast_df = pd.DataFrame(data=forecast,index=forecast_index,\n",
        "                           columns=['Forecast'])"
      ],
      "execution_count": 65,
      "outputs": []
    },
    {
      "cell_type": "code",
      "metadata": {
        "colab": {
          "base_uri": "https://localhost:8080/",
          "height": 421
        },
        "id": "J7ac5Kd8sJdC",
        "outputId": "3f3220e8-2999-41dc-942b-6030d8ca6ee6"
      },
      "source": [
        "forecast_df"
      ],
      "execution_count": 66,
      "outputs": [
        {
          "output_type": "execute_result",
          "data": {
            "text/html": [
              "<div>\n",
              "<style scoped>\n",
              "    .dataframe tbody tr th:only-of-type {\n",
              "        vertical-align: middle;\n",
              "    }\n",
              "\n",
              "    .dataframe tbody tr th {\n",
              "        vertical-align: top;\n",
              "    }\n",
              "\n",
              "    .dataframe thead th {\n",
              "        text-align: right;\n",
              "    }\n",
              "</style>\n",
              "<table border=\"1\" class=\"dataframe\">\n",
              "  <thead>\n",
              "    <tr style=\"text-align: right;\">\n",
              "      <th></th>\n",
              "      <th>Forecast</th>\n",
              "    </tr>\n",
              "  </thead>\n",
              "  <tbody>\n",
              "    <tr>\n",
              "      <th>2019-11-01</th>\n",
              "      <td>26071.749736</td>\n",
              "    </tr>\n",
              "    <tr>\n",
              "      <th>2019-12-01</th>\n",
              "      <td>36301.890098</td>\n",
              "    </tr>\n",
              "    <tr>\n",
              "      <th>2020-01-01</th>\n",
              "      <td>16880.060789</td>\n",
              "    </tr>\n",
              "    <tr>\n",
              "      <th>2020-02-01</th>\n",
              "      <td>18489.755128</td>\n",
              "    </tr>\n",
              "    <tr>\n",
              "      <th>2020-03-01</th>\n",
              "      <td>21835.868053</td>\n",
              "    </tr>\n",
              "    <tr>\n",
              "      <th>2020-04-01</th>\n",
              "      <td>21586.185737</td>\n",
              "    </tr>\n",
              "    <tr>\n",
              "      <th>2020-05-01</th>\n",
              "      <td>23140.837934</td>\n",
              "    </tr>\n",
              "    <tr>\n",
              "      <th>2020-06-01</th>\n",
              "      <td>21420.295074</td>\n",
              "    </tr>\n",
              "    <tr>\n",
              "      <th>2020-07-01</th>\n",
              "      <td>21925.716124</td>\n",
              "    </tr>\n",
              "    <tr>\n",
              "      <th>2020-08-01</th>\n",
              "      <td>23799.186385</td>\n",
              "    </tr>\n",
              "    <tr>\n",
              "      <th>2020-09-01</th>\n",
              "      <td>20497.668325</td>\n",
              "    </tr>\n",
              "    <tr>\n",
              "      <th>2020-10-01</th>\n",
              "      <td>21711.544867</td>\n",
              "    </tr>\n",
              "  </tbody>\n",
              "</table>\n",
              "</div>"
            ],
            "text/plain": [
              "                Forecast\n",
              "2019-11-01  26071.749736\n",
              "2019-12-01  36301.890098\n",
              "2020-01-01  16880.060789\n",
              "2020-02-01  18489.755128\n",
              "2020-03-01  21835.868053\n",
              "2020-04-01  21586.185737\n",
              "2020-05-01  23140.837934\n",
              "2020-06-01  21420.295074\n",
              "2020-07-01  21925.716124\n",
              "2020-08-01  23799.186385\n",
              "2020-09-01  20497.668325\n",
              "2020-10-01  21711.544867"
            ]
          },
          "metadata": {
            "tags": []
          },
          "execution_count": 66
        }
      ]
    },
    {
      "cell_type": "code",
      "metadata": {
        "colab": {
          "base_uri": "https://localhost:8080/"
        },
        "id": "639A3qCOsKaN",
        "outputId": "af41f994-a224-4194-d602-523f20d93755"
      },
      "source": [
        "forecast_df.shape"
      ],
      "execution_count": 67,
      "outputs": [
        {
          "output_type": "execute_result",
          "data": {
            "text/plain": [
              "(12, 1)"
            ]
          },
          "metadata": {
            "tags": []
          },
          "execution_count": 67
        }
      ]
    },
    {
      "cell_type": "code",
      "metadata": {
        "colab": {
          "base_uri": "https://localhost:8080/",
          "height": 556
        },
        "id": "UVT4C_6KsNV-",
        "outputId": "ab058a4a-4993-47e4-a42a-5898313f186a"
      },
      "source": [
        "df.plot()\n",
        "forecast_df.plot()"
      ],
      "execution_count": 68,
      "outputs": [
        {
          "output_type": "execute_result",
          "data": {
            "text/plain": [
              "<matplotlib.axes._subplots.AxesSubplot at 0x7f3753495908>"
            ]
          },
          "metadata": {
            "tags": []
          },
          "execution_count": 68
        },
        {
          "output_type": "display_data",
          "data": {
            "image/png": "[encoded data removed]",
            "text/plain": [
              "<Figure size 432x288 with 1 Axes>"
            ]
          },
          "metadata": {
            "tags": [],
            "needs_background": "light"
          }
        },
        {
          "output_type": "display_data",
          "data": {
            "image/png": "[encoded data removed]",
            "text/plain": [
              "<Figure size 432x288 with 1 Axes>"
            ]
          },
          "metadata": {
            "tags": [],
            "needs_background": "light"
          }
        }
      ]
    },
    {
      "cell_type": "code",
      "metadata": {
        "colab": {
          "base_uri": "https://localhost:8080/",
          "height": 296
        },
        "id": "FwpW-5Q_sQih",
        "outputId": "89ae69b1-faec-4e0d-e6d6-8ecc0e4707ac"
      },
      "source": [
        "ax = df.plot()\n",
        "forecast_df.plot(ax=ax)"
      ],
      "execution_count": 69,
      "outputs": [
        {
          "output_type": "execute_result",
          "data": {
            "text/plain": [
              "<matplotlib.axes._subplots.AxesSubplot at 0x7f37a66c8550>"
            ]
          },
          "metadata": {
            "tags": []
          },
          "execution_count": 69
        },
        {
          "output_type": "display_data",
          "data": {
            "image/png": "[encoded data removed]",
            "text/plain": [
              "<Figure size 432x288 with 1 Axes>"
            ]
          },
          "metadata": {
            "tags": [],
            "needs_background": "light"
          }
        }
      ]
    },
    {
      "cell_type": "code",
      "metadata": {
        "colab": {
          "base_uri": "https://localhost:8080/",
          "height": 308
        },
        "id": "mpqs854LsTZv",
        "outputId": "c49d683e-de3c-4207-ee8c-6bf8318e7b7f"
      },
      "source": [
        "ax = df.plot()\n",
        "forecast_df.plot(ax=ax)\n",
        "plt.xlim('2018-01-01','2020-12-01')"
      ],
      "execution_count": 70,
      "outputs": [
        {
          "output_type": "execute_result",
          "data": {
            "text/plain": [
              "(576.0, 611.0)"
            ]
          },
          "metadata": {
            "tags": []
          },
          "execution_count": 70
        },
        {
          "output_type": "display_data",
          "data": {
            "image/png": "[encoded data removed]",
            "text/plain": [
              "<Figure size 432x288 with 1 Axes>"
            ]
          },
          "metadata": {
            "tags": [],
            "needs_background": "light"
          }
        }
      ]
    }
  ]
}