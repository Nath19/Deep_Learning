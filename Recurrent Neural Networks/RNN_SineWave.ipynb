{
  "nbformat": 4,
  "nbformat_minor": 0,
  "metadata": {
    "colab": {
      "name": "RNN-SineWave.ipynb",
      "provenance": [],
      "collapsed_sections": []
    },
    "kernelspec": {
      "name": "python3",
      "display_name": "Python 3"
    }
  },
  "cells": [
    {
      "cell_type": "markdown",
      "metadata": {
        "id": "7kUo11RsXqfc"
      },
      "source": [
        "# RNN Example for Sine Wave"
      ]
    },
    {
      "cell_type": "code",
      "metadata": {
        "id": "4ZLNxCsXXQkW"
      },
      "source": [
        "import pandas as pd\n",
        "import numpy as np\n",
        "%matplotlib inline\n",
        "import matplotlib.pyplot as plt"
      ],
      "execution_count": null,
      "outputs": []
    },
    {
      "cell_type": "code",
      "metadata": {
        "id": "qvSwwAbAXtb7"
      },
      "source": [
        "x = np.linspace(0,50,501)"
      ],
      "execution_count": null,
      "outputs": []
    },
    {
      "cell_type": "code",
      "metadata": {
        "id": "qjNDMMOCZQ0J"
      },
      "source": [
        "y = np.sin(x)"
      ],
      "execution_count": null,
      "outputs": []
    },
    {
      "cell_type": "code",
      "metadata": {
        "colab": {
          "base_uri": "https://localhost:8080/",
          "height": 282
        },
        "id": "D_LhmKrGZREU",
        "outputId": "4b5c927b-583d-4631-91df-9aa35ba6b7f2"
      },
      "source": [
        "plt.plot(x,y)"
      ],
      "execution_count": null,
      "outputs": [
        {
          "output_type": "execute_result",
          "data": {
            "text/plain": [
              "[<matplotlib.lines.Line2D at 0x7f38b10c9780>]"
            ]
          },
          "metadata": {
            "tags": []
          },
          "execution_count": 7
        },
        {
          "output_type": "display_data",
          "data": {
            "image/png": "[encoded data removed]",
            "text/plain": [
              "<Figure size 432x288 with 1 Axes>"
            ]
          },
          "metadata": {
            "tags": [],
            "needs_background": "light"
          }
        }
      ]
    },
    {
      "cell_type": "code",
      "metadata": {
        "id": "p4O0MQNsZVYN"
      },
      "source": [
        "df = pd.DataFrame(data=y,index=x,columns=['Sine'])"
      ],
      "execution_count": null,
      "outputs": []
    },
    {
      "cell_type": "code",
      "metadata": {
        "colab": {
          "base_uri": "https://localhost:8080/",
          "height": 419
        },
        "id": "UFIDxhw_Zexe",
        "outputId": "f2a258f8-ff2e-4370-f0af-c7219503b92c"
      },
      "source": [
        "df"
      ],
      "execution_count": null,
      "outputs": [
        {
          "output_type": "execute_result",
          "data": {
            "text/html": [
              "<div>\n",
              "<style scoped>\n",
              "    .dataframe tbody tr th:only-of-type {\n",
              "        vertical-align: middle;\n",
              "    }\n",
              "\n",
              "    .dataframe tbody tr th {\n",
              "        vertical-align: top;\n",
              "    }\n",
              "\n",
              "    .dataframe thead th {\n",
              "        text-align: right;\n",
              "    }\n",
              "</style>\n",
              "<table border=\"1\" class=\"dataframe\">\n",
              "  <thead>\n",
              "    <tr style=\"text-align: right;\">\n",
              "      <th></th>\n",
              "      <th>Sine</th>\n",
              "    </tr>\n",
              "  </thead>\n",
              "  <tbody>\n",
              "    <tr>\n",
              "      <th>0.0</th>\n",
              "      <td>0.000000</td>\n",
              "    </tr>\n",
              "    <tr>\n",
              "      <th>0.1</th>\n",
              "      <td>0.099833</td>\n",
              "    </tr>\n",
              "    <tr>\n",
              "      <th>0.2</th>\n",
              "      <td>0.198669</td>\n",
              "    </tr>\n",
              "    <tr>\n",
              "      <th>0.3</th>\n",
              "      <td>0.295520</td>\n",
              "    </tr>\n",
              "    <tr>\n",
              "      <th>0.4</th>\n",
              "      <td>0.389418</td>\n",
              "    </tr>\n",
              "    <tr>\n",
              "      <th>...</th>\n",
              "      <td>...</td>\n",
              "    </tr>\n",
              "    <tr>\n",
              "      <th>49.6</th>\n",
              "      <td>-0.617439</td>\n",
              "    </tr>\n",
              "    <tr>\n",
              "      <th>49.7</th>\n",
              "      <td>-0.535823</td>\n",
              "    </tr>\n",
              "    <tr>\n",
              "      <th>49.8</th>\n",
              "      <td>-0.448854</td>\n",
              "    </tr>\n",
              "    <tr>\n",
              "      <th>49.9</th>\n",
              "      <td>-0.357400</td>\n",
              "    </tr>\n",
              "    <tr>\n",
              "      <th>50.0</th>\n",
              "      <td>-0.262375</td>\n",
              "    </tr>\n",
              "  </tbody>\n",
              "</table>\n",
              "<p>501 rows × 1 columns</p>\n",
              "</div>"
            ],
            "text/plain": [
              "          Sine\n",
              "0.0   0.000000\n",
              "0.1   0.099833\n",
              "0.2   0.198669\n",
              "0.3   0.295520\n",
              "0.4   0.389418\n",
              "...        ...\n",
              "49.6 -0.617439\n",
              "49.7 -0.535823\n",
              "49.8 -0.448854\n",
              "49.9 -0.357400\n",
              "50.0 -0.262375\n",
              "\n",
              "[501 rows x 1 columns]"
            ]
          },
          "metadata": {
            "tags": []
          },
          "execution_count": 9
        }
      ]
    },
    {
      "cell_type": "markdown",
      "metadata": {
        "id": "NbYJ1pr-Zkns"
      },
      "source": [
        "## Train test split"
      ]
    },
    {
      "cell_type": "code",
      "metadata": {
        "id": "P8YUhh2-ZfFy"
      },
      "source": [
        "#This is very different from our usual train/test split"
      ],
      "execution_count": null,
      "outputs": []
    },
    {
      "cell_type": "code",
      "metadata": {
        "colab": {
          "base_uri": "https://localhost:8080/"
        },
        "id": "FbanjxMWZoNX",
        "outputId": "325c74ef-90ec-4916-99f9-5691c58f5c8c"
      },
      "source": [
        "len(df)"
      ],
      "execution_count": null,
      "outputs": [
        {
          "output_type": "execute_result",
          "data": {
            "text/plain": [
              "501"
            ]
          },
          "metadata": {
            "tags": []
          },
          "execution_count": 11
        }
      ]
    },
    {
      "cell_type": "code",
      "metadata": {
        "id": "oFEDl-0VZpAS"
      },
      "source": [
        "test_percent = 0.1 #10% at the end of the data going to be the test set"
      ],
      "execution_count": null,
      "outputs": []
    },
    {
      "cell_type": "code",
      "metadata": {
        "colab": {
          "base_uri": "https://localhost:8080/"
        },
        "id": "73SYT0S1Zs98",
        "outputId": "445162d8-5bd8-4a2b-e002-ee52fe08e866"
      },
      "source": [
        "len(df)* test_percent"
      ],
      "execution_count": null,
      "outputs": [
        {
          "output_type": "execute_result",
          "data": {
            "text/plain": [
              "50.1"
            ]
          },
          "metadata": {
            "tags": []
          },
          "execution_count": 13
        }
      ]
    },
    {
      "cell_type": "code",
      "metadata": {
        "id": "WhabDj4YZw-2"
      },
      "source": [
        "test_point = np.round(len(df)*test_percent)"
      ],
      "execution_count": null,
      "outputs": []
    },
    {
      "cell_type": "code",
      "metadata": {
        "colab": {
          "base_uri": "https://localhost:8080/"
        },
        "id": "XdTm4ty5Z2az",
        "outputId": "b1a33467-7701-45dc-c931-d4e9e098ee69"
      },
      "source": [
        "test_point"
      ],
      "execution_count": null,
      "outputs": [
        {
          "output_type": "execute_result",
          "data": {
            "text/plain": [
              "50.0"
            ]
          },
          "metadata": {
            "tags": []
          },
          "execution_count": 15
        }
      ]
    },
    {
      "cell_type": "code",
      "metadata": {
        "id": "Ekys3D_eZ5I4"
      },
      "source": [
        "test_ind = int(len(df) - test_point)"
      ],
      "execution_count": null,
      "outputs": []
    },
    {
      "cell_type": "code",
      "metadata": {
        "colab": {
          "base_uri": "https://localhost:8080/"
        },
        "id": "_XjIAM-9aAs-",
        "outputId": "6def8331-f004-4685-f313-f0932fe09b12"
      },
      "source": [
        "test_ind"
      ],
      "execution_count": null,
      "outputs": [
        {
          "output_type": "execute_result",
          "data": {
            "text/plain": [
              "451"
            ]
          },
          "metadata": {
            "tags": []
          },
          "execution_count": 17
        }
      ]
    },
    {
      "cell_type": "code",
      "metadata": {
        "id": "H48dEbwtaBej"
      },
      "source": [
        "train = df.iloc[:test_ind]"
      ],
      "execution_count": null,
      "outputs": []
    },
    {
      "cell_type": "code",
      "metadata": {
        "id": "pIdbUM7uaFSB"
      },
      "source": [
        "test=  df.iloc[test_ind:]"
      ],
      "execution_count": null,
      "outputs": []
    },
    {
      "cell_type": "code",
      "metadata": {
        "colab": {
          "base_uri": "https://localhost:8080/",
          "height": 419
        },
        "id": "Qdp5stGJaHML",
        "outputId": "3e34b770-5333-44cf-948b-33b638958509"
      },
      "source": [
        "train"
      ],
      "execution_count": null,
      "outputs": [
        {
          "output_type": "execute_result",
          "data": {
            "text/html": [
              "<div>\n",
              "<style scoped>\n",
              "    .dataframe tbody tr th:only-of-type {\n",
              "        vertical-align: middle;\n",
              "    }\n",
              "\n",
              "    .dataframe tbody tr th {\n",
              "        vertical-align: top;\n",
              "    }\n",
              "\n",
              "    .dataframe thead th {\n",
              "        text-align: right;\n",
              "    }\n",
              "</style>\n",
              "<table border=\"1\" class=\"dataframe\">\n",
              "  <thead>\n",
              "    <tr style=\"text-align: right;\">\n",
              "      <th></th>\n",
              "      <th>Sine</th>\n",
              "    </tr>\n",
              "  </thead>\n",
              "  <tbody>\n",
              "    <tr>\n",
              "      <th>0.0</th>\n",
              "      <td>0.000000</td>\n",
              "    </tr>\n",
              "    <tr>\n",
              "      <th>0.1</th>\n",
              "      <td>0.099833</td>\n",
              "    </tr>\n",
              "    <tr>\n",
              "      <th>0.2</th>\n",
              "      <td>0.198669</td>\n",
              "    </tr>\n",
              "    <tr>\n",
              "      <th>0.3</th>\n",
              "      <td>0.295520</td>\n",
              "    </tr>\n",
              "    <tr>\n",
              "      <th>0.4</th>\n",
              "      <td>0.389418</td>\n",
              "    </tr>\n",
              "    <tr>\n",
              "      <th>...</th>\n",
              "      <td>...</td>\n",
              "    </tr>\n",
              "    <tr>\n",
              "      <th>44.6</th>\n",
              "      <td>0.579164</td>\n",
              "    </tr>\n",
              "    <tr>\n",
              "      <th>44.7</th>\n",
              "      <td>0.657656</td>\n",
              "    </tr>\n",
              "    <tr>\n",
              "      <th>44.8</th>\n",
              "      <td>0.729577</td>\n",
              "    </tr>\n",
              "    <tr>\n",
              "      <th>44.9</th>\n",
              "      <td>0.794208</td>\n",
              "    </tr>\n",
              "    <tr>\n",
              "      <th>45.0</th>\n",
              "      <td>0.850904</td>\n",
              "    </tr>\n",
              "  </tbody>\n",
              "</table>\n",
              "<p>451 rows × 1 columns</p>\n",
              "</div>"
            ],
            "text/plain": [
              "          Sine\n",
              "0.0   0.000000\n",
              "0.1   0.099833\n",
              "0.2   0.198669\n",
              "0.3   0.295520\n",
              "0.4   0.389418\n",
              "...        ...\n",
              "44.6  0.579164\n",
              "44.7  0.657656\n",
              "44.8  0.729577\n",
              "44.9  0.794208\n",
              "45.0  0.850904\n",
              "\n",
              "[451 rows x 1 columns]"
            ]
          },
          "metadata": {
            "tags": []
          },
          "execution_count": 20
        }
      ]
    },
    {
      "cell_type": "code",
      "metadata": {
        "colab": {
          "base_uri": "https://localhost:8080/",
          "height": 1000
        },
        "id": "EJdqK024aHxw",
        "outputId": "9c485622-0869-45f7-94d2-afa2c1573271"
      },
      "source": [
        "test"
      ],
      "execution_count": null,
      "outputs": [
        {
          "output_type": "execute_result",
          "data": {
            "text/html": [
              "<div>\n",
              "<style scoped>\n",
              "    .dataframe tbody tr th:only-of-type {\n",
              "        vertical-align: middle;\n",
              "    }\n",
              "\n",
              "    .dataframe tbody tr th {\n",
              "        vertical-align: top;\n",
              "    }\n",
              "\n",
              "    .dataframe thead th {\n",
              "        text-align: right;\n",
              "    }\n",
              "</style>\n",
              "<table border=\"1\" class=\"dataframe\">\n",
              "  <thead>\n",
              "    <tr style=\"text-align: right;\">\n",
              "      <th></th>\n",
              "      <th>Sine</th>\n",
              "    </tr>\n",
              "  </thead>\n",
              "  <tbody>\n",
              "    <tr>\n",
              "      <th>45.1</th>\n",
              "      <td>0.899097</td>\n",
              "    </tr>\n",
              "    <tr>\n",
              "      <th>45.2</th>\n",
              "      <td>0.938307</td>\n",
              "    </tr>\n",
              "    <tr>\n",
              "      <th>45.3</th>\n",
              "      <td>0.968142</td>\n",
              "    </tr>\n",
              "    <tr>\n",
              "      <th>45.4</th>\n",
              "      <td>0.988304</td>\n",
              "    </tr>\n",
              "    <tr>\n",
              "      <th>45.5</th>\n",
              "      <td>0.998591</td>\n",
              "    </tr>\n",
              "    <tr>\n",
              "      <th>45.6</th>\n",
              "      <td>0.998900</td>\n",
              "    </tr>\n",
              "    <tr>\n",
              "      <th>45.7</th>\n",
              "      <td>0.989229</td>\n",
              "    </tr>\n",
              "    <tr>\n",
              "      <th>45.8</th>\n",
              "      <td>0.969673</td>\n",
              "    </tr>\n",
              "    <tr>\n",
              "      <th>45.9</th>\n",
              "      <td>0.940429</td>\n",
              "    </tr>\n",
              "    <tr>\n",
              "      <th>46.0</th>\n",
              "      <td>0.901788</td>\n",
              "    </tr>\n",
              "    <tr>\n",
              "      <th>46.1</th>\n",
              "      <td>0.854137</td>\n",
              "    </tr>\n",
              "    <tr>\n",
              "      <th>46.2</th>\n",
              "      <td>0.797952</td>\n",
              "    </tr>\n",
              "    <tr>\n",
              "      <th>46.3</th>\n",
              "      <td>0.733794</td>\n",
              "    </tr>\n",
              "    <tr>\n",
              "      <th>46.4</th>\n",
              "      <td>0.662304</td>\n",
              "    </tr>\n",
              "    <tr>\n",
              "      <th>46.5</th>\n",
              "      <td>0.584197</td>\n",
              "    </tr>\n",
              "    <tr>\n",
              "      <th>46.6</th>\n",
              "      <td>0.500252</td>\n",
              "    </tr>\n",
              "    <tr>\n",
              "      <th>46.7</th>\n",
              "      <td>0.411309</td>\n",
              "    </tr>\n",
              "    <tr>\n",
              "      <th>46.8</th>\n",
              "      <td>0.318257</td>\n",
              "    </tr>\n",
              "    <tr>\n",
              "      <th>46.9</th>\n",
              "      <td>0.222024</td>\n",
              "    </tr>\n",
              "    <tr>\n",
              "      <th>47.0</th>\n",
              "      <td>0.123573</td>\n",
              "    </tr>\n",
              "    <tr>\n",
              "      <th>47.1</th>\n",
              "      <td>0.023888</td>\n",
              "    </tr>\n",
              "    <tr>\n",
              "      <th>47.2</th>\n",
              "      <td>-0.076037</td>\n",
              "    </tr>\n",
              "    <tr>\n",
              "      <th>47.3</th>\n",
              "      <td>-0.175201</td>\n",
              "    </tr>\n",
              "    <tr>\n",
              "      <th>47.4</th>\n",
              "      <td>-0.272615</td>\n",
              "    </tr>\n",
              "    <tr>\n",
              "      <th>47.5</th>\n",
              "      <td>-0.367305</td>\n",
              "    </tr>\n",
              "    <tr>\n",
              "      <th>47.6</th>\n",
              "      <td>-0.458325</td>\n",
              "    </tr>\n",
              "    <tr>\n",
              "      <th>47.7</th>\n",
              "      <td>-0.544766</td>\n",
              "    </tr>\n",
              "    <tr>\n",
              "      <th>47.8</th>\n",
              "      <td>-0.625764</td>\n",
              "    </tr>\n",
              "    <tr>\n",
              "      <th>47.9</th>\n",
              "      <td>-0.700509</td>\n",
              "    </tr>\n",
              "    <tr>\n",
              "      <th>48.0</th>\n",
              "      <td>-0.768255</td>\n",
              "    </tr>\n",
              "    <tr>\n",
              "      <th>48.1</th>\n",
              "      <td>-0.828324</td>\n",
              "    </tr>\n",
              "    <tr>\n",
              "      <th>48.2</th>\n",
              "      <td>-0.880118</td>\n",
              "    </tr>\n",
              "    <tr>\n",
              "      <th>48.3</th>\n",
              "      <td>-0.923117</td>\n",
              "    </tr>\n",
              "    <tr>\n",
              "      <th>48.4</th>\n",
              "      <td>-0.956893</td>\n",
              "    </tr>\n",
              "    <tr>\n",
              "      <th>48.5</th>\n",
              "      <td>-0.981108</td>\n",
              "    </tr>\n",
              "    <tr>\n",
              "      <th>48.6</th>\n",
              "      <td>-0.995521</td>\n",
              "    </tr>\n",
              "    <tr>\n",
              "      <th>48.7</th>\n",
              "      <td>-0.999986</td>\n",
              "    </tr>\n",
              "    <tr>\n",
              "      <th>48.8</th>\n",
              "      <td>-0.994460</td>\n",
              "    </tr>\n",
              "    <tr>\n",
              "      <th>48.9</th>\n",
              "      <td>-0.978997</td>\n",
              "    </tr>\n",
              "    <tr>\n",
              "      <th>49.0</th>\n",
              "      <td>-0.953753</td>\n",
              "    </tr>\n",
              "    <tr>\n",
              "      <th>49.1</th>\n",
              "      <td>-0.918979</td>\n",
              "    </tr>\n",
              "    <tr>\n",
              "      <th>49.2</th>\n",
              "      <td>-0.875023</td>\n",
              "    </tr>\n",
              "    <tr>\n",
              "      <th>49.3</th>\n",
              "      <td>-0.822324</td>\n",
              "    </tr>\n",
              "    <tr>\n",
              "      <th>49.4</th>\n",
              "      <td>-0.761408</td>\n",
              "    </tr>\n",
              "    <tr>\n",
              "      <th>49.5</th>\n",
              "      <td>-0.692885</td>\n",
              "    </tr>\n",
              "    <tr>\n",
              "      <th>49.6</th>\n",
              "      <td>-0.617439</td>\n",
              "    </tr>\n",
              "    <tr>\n",
              "      <th>49.7</th>\n",
              "      <td>-0.535823</td>\n",
              "    </tr>\n",
              "    <tr>\n",
              "      <th>49.8</th>\n",
              "      <td>-0.448854</td>\n",
              "    </tr>\n",
              "    <tr>\n",
              "      <th>49.9</th>\n",
              "      <td>-0.357400</td>\n",
              "    </tr>\n",
              "    <tr>\n",
              "      <th>50.0</th>\n",
              "      <td>-0.262375</td>\n",
              "    </tr>\n",
              "  </tbody>\n",
              "</table>\n",
              "</div>"
            ],
            "text/plain": [
              "          Sine\n",
              "45.1  0.899097\n",
              "45.2  0.938307\n",
              "45.3  0.968142\n",
              "45.4  0.988304\n",
              "45.5  0.998591\n",
              "45.6  0.998900\n",
              "45.7  0.989229\n",
              "45.8  0.969673\n",
              "45.9  0.940429\n",
              "46.0  0.901788\n",
              "46.1  0.854137\n",
              "46.2  0.797952\n",
              "46.3  0.733794\n",
              "46.4  0.662304\n",
              "46.5  0.584197\n",
              "46.6  0.500252\n",
              "46.7  0.411309\n",
              "46.8  0.318257\n",
              "46.9  0.222024\n",
              "47.0  0.123573\n",
              "47.1  0.023888\n",
              "47.2 -0.076037\n",
              "47.3 -0.175201\n",
              "47.4 -0.272615\n",
              "47.5 -0.367305\n",
              "47.6 -0.458325\n",
              "47.7 -0.544766\n",
              "47.8 -0.625764\n",
              "47.9 -0.700509\n",
              "48.0 -0.768255\n",
              "48.1 -0.828324\n",
              "48.2 -0.880118\n",
              "48.3 -0.923117\n",
              "48.4 -0.956893\n",
              "48.5 -0.981108\n",
              "48.6 -0.995521\n",
              "48.7 -0.999986\n",
              "48.8 -0.994460\n",
              "48.9 -0.978997\n",
              "49.0 -0.953753\n",
              "49.1 -0.918979\n",
              "49.2 -0.875023\n",
              "49.3 -0.822324\n",
              "49.4 -0.761408\n",
              "49.5 -0.692885\n",
              "49.6 -0.617439\n",
              "49.7 -0.535823\n",
              "49.8 -0.448854\n",
              "49.9 -0.357400\n",
              "50.0 -0.262375"
            ]
          },
          "metadata": {
            "tags": []
          },
          "execution_count": 22
        }
      ]
    },
    {
      "cell_type": "markdown",
      "metadata": {
        "id": "ls1KDlYnaOqD"
      },
      "source": [
        "## Scale our data"
      ]
    },
    {
      "cell_type": "code",
      "metadata": {
        "id": "HisBST9BaJt8"
      },
      "source": [
        "from sklearn.preprocessing import MinMaxScaler"
      ],
      "execution_count": null,
      "outputs": []
    },
    {
      "cell_type": "code",
      "metadata": {
        "id": "mCsLA3qvaSqo"
      },
      "source": [
        "scaler = MinMaxScaler()"
      ],
      "execution_count": null,
      "outputs": []
    },
    {
      "cell_type": "code",
      "metadata": {
        "colab": {
          "base_uri": "https://localhost:8080/"
        },
        "id": "pNsP5gNbaW6V",
        "outputId": "cb3ad67c-3901-4da5-917d-d19c35175809"
      },
      "source": [
        "scaler.fit(train)"
      ],
      "execution_count": null,
      "outputs": [
        {
          "output_type": "execute_result",
          "data": {
            "text/plain": [
              "MinMaxScaler(copy=True, feature_range=(0, 1))"
            ]
          },
          "metadata": {
            "tags": []
          },
          "execution_count": 25
        }
      ]
    },
    {
      "cell_type": "code",
      "metadata": {
        "id": "kkAc2Z-aaZ5_"
      },
      "source": [
        "scaled_train = scaler.transform(train)\n",
        "scaled_test = scaler.transform(test)"
      ],
      "execution_count": null,
      "outputs": []
    },
    {
      "cell_type": "markdown",
      "metadata": {
        "id": "qTavaa-Qahvd"
      },
      "source": [
        "# Time Series Generator\n",
        "\n",
        "This class takes in a sequence of data-points gathered at\n",
        "equal intervals, along with time series parameters such as\n",
        "stride, length of history, etc., to produce batches for\n",
        "training/validation.\n",
        "\n",
        "#### Arguments\n",
        "    data: Indexable generator (such as list or Numpy array)\n",
        "        containing consecutive data points (timesteps).\n",
        "        The data should be at 2D, and axis 0 is expected\n",
        "        to be the time dimension.\n",
        "    targets: Targets corresponding to timesteps in `data`.\n",
        "        It should have same length as `data`.\n",
        "    length: Length of the output sequences (in number of timesteps).\n",
        "    sampling_rate: Period between successive individual timesteps\n",
        "        within sequences. For rate `r`, timesteps\n",
        "        `data[i]`, `data[i-r]`, ... `data[i - length]`\n",
        "        are used for create a sample sequence.\n",
        "    stride: Period between successive output sequences.\n",
        "        For stride `s`, consecutive output samples would\n",
        "        be centered around `data[i]`, `data[i+s]`, `data[i+2*s]`, etc.\n",
        "    start_index: Data points earlier than `start_index` will not be used\n",
        "        in the output sequences. This is useful to reserve part of the\n",
        "        data for test or validation.\n",
        "    end_index: Data points later than `end_index` will not be used\n",
        "        in the output sequences. This is useful to reserve part of the\n",
        "        data for test or validation.\n",
        "    shuffle: Whether to shuffle output samples,\n",
        "        or instead draw them in chronological order.\n",
        "    reverse: Boolean: if `true`, timesteps in each output sample will be\n",
        "        in reverse chronological order.\n",
        "    batch_size: Number of timeseries samples in each batch\n",
        "        (except maybe the last one)."
      ]
    },
    {
      "cell_type": "code",
      "metadata": {
        "id": "ew13WDUnag_F"
      },
      "source": [
        "from tensorflow.keras.preprocessing.sequence import TimeseriesGenerator"
      ],
      "execution_count": null,
      "outputs": []
    },
    {
      "cell_type": "code",
      "metadata": {
        "id": "Y6BmgrVQanOM"
      },
      "source": [
        "# define generator\n",
        "length = 2 # Length of the output sequences (in number of timesteps)\n",
        "batch_size = 1 #Number of timeseries samples in each batch\n",
        "generator = TimeseriesGenerator(scaled_train, scaled_train, length=length, batch_size=batch_size)"
      ],
      "execution_count": null,
      "outputs": []
    },
    {
      "cell_type": "code",
      "metadata": {
        "colab": {
          "base_uri": "https://localhost:8080/"
        },
        "id": "s5oIPYnHbLYN",
        "outputId": "aeb27c4d-ca60-4319-e4fb-86d36fd9651b"
      },
      "source": [
        "len(scaled_train)"
      ],
      "execution_count": null,
      "outputs": [
        {
          "output_type": "execute_result",
          "data": {
            "text/plain": [
              "451"
            ]
          },
          "metadata": {
            "tags": []
          },
          "execution_count": 29
        }
      ]
    },
    {
      "cell_type": "code",
      "metadata": {
        "colab": {
          "base_uri": "https://localhost:8080/"
        },
        "id": "5Vx_kW5Dbgx1",
        "outputId": "5f310499-0bab-4b91-d26a-74d8f723e507"
      },
      "source": [
        "len(generator)# n_input = 2"
      ],
      "execution_count": null,
      "outputs": [
        {
          "output_type": "execute_result",
          "data": {
            "text/plain": [
              "449"
            ]
          },
          "metadata": {
            "tags": []
          },
          "execution_count": 30
        }
      ]
    },
    {
      "cell_type": "code",
      "metadata": {
        "id": "hM_bjGSpbhqK"
      },
      "source": [
        "# What does the first batch look like?\n",
        "X,y = generator[0]"
      ],
      "execution_count": null,
      "outputs": []
    },
    {
      "cell_type": "code",
      "metadata": {
        "colab": {
          "base_uri": "https://localhost:8080/"
        },
        "id": "CKcClfwWboXY",
        "outputId": "a74c52f7-af51-4d99-b0b0-026e85ec1f76"
      },
      "source": [
        "print(f'Given the Array: \\n{X.flatten()}')\n",
        "print(f'Predict this y: \\n {y}')"
      ],
      "execution_count": null,
      "outputs": [
        {
          "output_type": "stream",
          "text": [
            "Given the Array: \n",
            "[0.49999912 0.54991622]\n",
            "Predict this y: \n",
            " [[0.59933458]]\n"
          ],
          "name": "stdout"
        }
      ]
    },
    {
      "cell_type": "code",
      "metadata": {
        "colab": {
          "base_uri": "https://localhost:8080/"
        },
        "id": "U91vf-Zabqv9",
        "outputId": "25c0d291-0017-4737-a5b0-3d75f2c270da"
      },
      "source": [
        "scaled_train"
      ],
      "execution_count": null,
      "outputs": [
        {
          "output_type": "execute_result",
          "data": {
            "text/plain": [
              "array([[4.99999116e-01],\n",
              "       [5.49916225e-01],\n",
              "       [5.99334579e-01],\n",
              "       [6.47760405e-01],\n",
              "       [6.94709850e-01],\n",
              "       [7.39713809e-01],\n",
              "       [7.82322618e-01],\n",
              "       [8.22110545e-01],\n",
              "       [8.58680040e-01],\n",
              "       [8.91665714e-01],\n",
              "       [9.20737985e-01],\n",
              "       [9.45606372e-01],\n",
              "       [9.66022399e-01],\n",
              "       [9.81782075e-01],\n",
              "       [9.92727935e-01],\n",
              "       [9.98750612e-01],\n",
              "       [9.99789928e-01],\n",
              "       [9.95835500e-01],\n",
              "       [9.86926839e-01],\n",
              "       [9.73152957e-01],\n",
              "       [9.54651478e-01],\n",
              "       [9.31607263e-01],\n",
              "       [9.04250562e-01],\n",
              "       [8.72854714e-01],\n",
              "       [8.37733417e-01],\n",
              "       [7.99237589e-01],\n",
              "       [7.57751870e-01],\n",
              "       [7.13690771e-01],\n",
              "       [6.67494535e-01],\n",
              "       [6.19624741e-01],\n",
              "       [5.70559686e-01],\n",
              "       [5.20789614e-01],\n",
              "       [4.70811810e-01],\n",
              "       [4.21125636e-01],\n",
              "       [3.72227539e-01],\n",
              "       [3.24606094e-01],\n",
              "       [2.78737119e-01],\n",
              "       [2.35078919e-01],\n",
              "       [1.94067715e-01],\n",
              "       [1.56113277e-01],\n",
              "       [1.21594831e-01],\n",
              "       [9.08572769e-02],\n",
              "       [6.42077324e-02],\n",
              "       [4.19124713e-02],\n",
              "       [2.41942605e-02],\n",
              "       [1.12301346e-02],\n",
              "       [3.14962674e-03],\n",
              "       [3.34747619e-05],\n",
              "       [1.91281421e-03],\n",
              "       [8.76886734e-03],\n",
              "       [2.05331307e-02],\n",
              "       [3.70880598e-02],\n",
              "       [5.82682430e-02],\n",
              "       [8.38620552e-02],\n",
              "       [1.13613771e-01],\n",
              "       [1.47226122e-01],\n",
              "       [1.84363264e-01],\n",
              "       [2.24654135e-01],\n",
              "       [2.67696162e-01],\n",
              "       [3.13059283e-01],\n",
              "       [3.60290246e-01],\n",
              "       [4.08917133e-01],\n",
              "       [4.58454081e-01],\n",
              "       [5.08406134e-01],\n",
              "       [5.58274186e-01],\n",
              "       [6.07559973e-01],\n",
              "       [6.55771048e-01],\n",
              "       [7.02425701e-01],\n",
              "       [7.47057774e-01],\n",
              "       [7.89221319e-01],\n",
              "       [8.28495052e-01],\n",
              "       [8.64486561e-01],\n",
              "       [8.96836233e-01],\n",
              "       [9.25220839e-01],\n",
              "       [9.49356770e-01],\n",
              "       [9.69002868e-01],\n",
              "       [9.83962836e-01],\n",
              "       [9.94087198e-01],\n",
              "       [9.99274795e-01],\n",
              "       [9.99473795e-01],\n",
              "       [9.94682209e-01],\n",
              "       [9.84947913e-01],\n",
              "       [9.70368169e-01],\n",
              "       [9.51088653e-01],\n",
              "       [9.27301999e-01],\n",
              "       [8.99245876e-01],\n",
              "       [8.67200612e-01],\n",
              "       [8.31486391e-01],\n",
              "       [7.92460059e-01],\n",
              "       [7.50511555e-01],\n",
              "       [7.06060012e-01],\n",
              "       [6.59549578e-01],\n",
              "       [6.11444967e-01],\n",
              "       [5.62226827e-01],\n",
              "       [5.12386928e-01],\n",
              "       [4.62423254e-01],\n",
              "       [4.12835026e-01],\n",
              "       [3.64117712e-01],\n",
              "       [3.16758081e-01],\n",
              "       [2.71229333e-01],\n",
              "       [2.27986377e-01],\n",
              "       [1.87461283e-01],\n",
              "       [1.50058964e-01],\n",
              "       [1.16153131e-01],\n",
              "       [8.60825596e-02],\n",
              "       [6.01477060e-02],\n",
              "       [3.86077023e-02],\n",
              "       [2.16777691e-02],\n",
              "       [9.52706470e-03],\n",
              "       [2.27699490e-03],\n",
              "       [0.00000000e+00],\n",
              "       [2.71883099e-03],\n",
              "       [1.04063222e-02],\n",
              "       [2.29856628e-02],\n",
              "       [4.03311641e-02],\n",
              "       [6.22695157e-02],\n",
              "       [8.85815167e-02],\n",
              "       [1.19004266e-01],\n",
              "       [1.53233791e-01],\n",
              "       [1.90928079e-01],\n",
              "       [2.31710504e-01],\n",
              "       [2.75173579e-01],\n",
              "       [3.20883037e-01],\n",
              "       [3.68382164e-01],\n",
              "       [4.17196364e-01],\n",
              "       [4.66837901e-01],\n",
              "       [5.16810774e-01],\n",
              "       [5.66615671e-01],\n",
              "       [6.15754957e-01],\n",
              "       [6.63737650e-01],\n",
              "       [7.10084320e-01],\n",
              "       [7.54331889e-01],\n",
              "       [7.96038249e-01],\n",
              "       [8.34786684e-01],\n",
              "       [8.70190032e-01],\n",
              "       [9.01894555e-01],\n",
              "       [9.29583471e-01],\n",
              "       [9.52980122e-01],\n",
              "       [9.71850737e-01],\n",
              "       [9.86006767e-01],\n",
              "       [9.95306769e-01],\n",
              "       [9.99657820e-01],\n",
              "       [9.99016447e-01],\n",
              "       [9.93389058e-01],\n",
              "       [9.82831879e-01],\n",
              "       [9.67450395e-01],\n",
              "       [9.47398292e-01],\n",
              "       [9.22875925e-01],\n",
              "       [8.94128313e-01],\n",
              "       [8.61442691e-01],\n",
              "       [8.25145645e-01],\n",
              "       [7.85599843e-01],\n",
              "       [7.43200412e-01],\n",
              "       [6.98370994e-01],\n",
              "       [6.51559511e-01],\n",
              "       [6.03233685e-01],\n",
              "       [5.53876374e-01],\n",
              "       [5.03980740e-01],\n",
              "       [4.54045322e-01],\n",
              "       [4.04569059e-01],\n",
              "       [3.56046302e-01],\n",
              "       [3.08961874e-01],\n",
              "       [2.63786227e-01],\n",
              "       [2.20970741e-01],\n",
              "       [1.80943214e-01],\n",
              "       [1.44103589e-01],\n",
              "       [1.10819953e-01],\n",
              "       [8.14248677e-02],\n",
              "       [5.62120376e-02],\n",
              "       [3.54333813e-02],\n",
              "       [1.92965122e-02],\n",
              "       [7.96266464e-03],\n",
              "       [1.54508265e-03],\n",
              "       [1.07888605e-04],\n",
              "       [3.66544246e-03],\n",
              "       [1.21821983e-02],\n",
              "       [2.55730595e-02],\n",
              "       [4.37042291e-02],\n",
              "       [6.63945464e-02],\n",
              "       [9.34172971e-02],\n",
              "       [1.24502479e-01],\n",
              "       [1.59339499e-01],\n",
              "       [1.97580278e-01],\n",
              "       [2.38842725e-01],\n",
              "       [2.82714561e-01],\n",
              "       [3.28757432e-01],\n",
              "       [3.76511294e-01],\n",
              "       [4.25499005e-01],\n",
              "       [4.75231097e-01],\n",
              "       [5.25210662e-01],\n",
              "       [5.74938322e-01],\n",
              "       [6.23917214e-01],\n",
              "       [6.71657958e-01],\n",
              "       [7.17683543e-01],\n",
              "       [7.61534097e-01],\n",
              "       [8.02771481e-01],\n",
              "       [8.40983662e-01],\n",
              "       [8.75788839e-01],\n",
              "       [9.06839250e-01],\n",
              "       [9.33824648e-01],\n",
              "       [9.56475405e-01],\n",
              "       [9.74565201e-01],\n",
              "       [9.87913290e-01],\n",
              "       [9.96386302e-01],\n",
              "       [9.99899578e-01],\n",
              "       [9.98418013e-01],\n",
              "       [9.91956411e-01],\n",
              "       [9.80579335e-01],\n",
              "       [9.64400460e-01],\n",
              "       [9.43581440e-01],\n",
              "       [9.18330292e-01],\n",
              "       [8.88899318e-01],\n",
              "       [8.55582581e-01],\n",
              "       [8.18712972e-01],\n",
              "       [7.78658879e-01],\n",
              "       [7.35820510e-01],\n",
              "       [6.90625892e-01],\n",
              "       [6.43526593e-01],\n",
              "       [5.94993216e-01],\n",
              "       [5.45510689e-01],\n",
              "       [4.95573426e-01],\n",
              "       [4.45680382e-01],\n",
              "       [3.96330074e-01],\n",
              "       [3.48015592e-01],\n",
              "       [3.01219679e-01],\n",
              "       [2.56409905e-01],\n",
              "       [2.14033993e-01],\n",
              "       [1.74515351e-01],\n",
              "       [1.38248835e-01],\n",
              "       [1.05596808e-01],\n",
              "       [7.68855182e-02],\n",
              "       [5.24018399e-02],\n",
              "       [3.23904056e-02],\n",
              "       [1.70511630e-02],\n",
              "       [6.53737668e-03],\n",
              "       [9.54096943e-04],\n",
              "       [3.57110073e-04],\n",
              "       [4.75238097e-03],\n",
              "       [1.40959935e-02],\n",
              "       [2.82945895e-02],\n",
              "       [4.72063011e-02],\n",
              "       [7.06421689e-02],\n",
              "       [9.83680294e-02],\n",
              "       [1.30106855e-01],\n",
              "       [1.65541522e-01],\n",
              "       [2.04317978e-01],\n",
              "       [2.46048783e-01],\n",
              "       [2.90316975e-01],\n",
              "       [3.36680242e-01],\n",
              "       [3.84675337e-01],\n",
              "       [4.33822710e-01],\n",
              "       [4.83631295e-01],\n",
              "       [5.33603422e-01],\n",
              "       [5.83239786e-01],\n",
              "       [6.32044436e-01],\n",
              "       [6.79529734e-01],\n",
              "       [7.25221221e-01],\n",
              "       [7.68662363e-01],\n",
              "       [8.09419110e-01],\n",
              "       [8.47084236e-01],\n",
              "       [8.81281401e-01],\n",
              "       [9.11668920e-01],\n",
              "       [9.37943170e-01],\n",
              "       [9.59841629e-01],\n",
              "       [9.77145492e-01],\n",
              "       [9.89681867e-01],\n",
              "       [9.97325494e-01],\n",
              "       [1.00000000e+00],\n",
              "       [9.97678662e-01],\n",
              "       [9.90384675e-01],\n",
              "       [9.78190918e-01],\n",
              "       [9.61219226e-01],\n",
              "       [9.39639175e-01],\n",
              "       [9.13666386e-01],\n",
              "       [8.83560370e-01],\n",
              "       [8.49621938e-01],\n",
              "       [8.12190189e-01],\n",
              "       [7.71639131e-01],\n",
              "       [7.28373935e-01],\n",
              "       [6.82826893e-01],\n",
              "       [6.35453097e-01],\n",
              "       [5.86725890e-01],\n",
              "       [5.37132137e-01],\n",
              "       [4.87167363e-01],\n",
              "       [4.37330800e-01],\n",
              "       [3.88120398e-01],\n",
              "       [3.40027851e-01],\n",
              "       [2.93533684e-01],\n",
              "       [2.49102452e-01],\n",
              "       [2.07178096e-01],\n",
              "       [1.68179511e-01],\n",
              "       [1.32496358e-01],\n",
              "       [1.00485170e-01],\n",
              "       [7.24657944e-02],\n",
              "       [4.87181901e-02],\n",
              "       [2.94796357e-02],\n",
              "       [1.49423563e-02],\n",
              "       [5.25160379e-03],\n",
              "       [5.04204848e-04],\n",
              "       [7.47593943e-04],\n",
              "       [5.97933921e-03],\n",
              "       [1.61471668e-02],\n",
              "       [3.11494831e-02],\n",
              "       [5.08363900e-02],\n",
              "       [7.50111823e-02],\n",
              "       [1.03432314e-01],\n",
              "       [1.35815809e-01],\n",
              "       [1.71838104e-01],\n",
              "       [2.11139276e-01],\n",
              "       [2.53326639e-01],\n",
              "       [2.97978672e-01],\n",
              "       [3.44649227e-01],\n",
              "       [3.92871986e-01],\n",
              "       [4.42165124e-01],\n",
              "       [4.92036121e-01],\n",
              "       [5.41986681e-01],\n",
              "       [5.91517715e-01],\n",
              "       [6.40134325e-01],\n",
              "       [6.87350751e-01],\n",
              "       [7.32695222e-01],\n",
              "       [7.75714669e-01],\n",
              "       [8.15979258e-01],\n",
              "       [8.53086678e-01],\n",
              "       [8.86666164e-01],\n",
              "       [9.16382200e-01],\n",
              "       [9.41937874e-01],\n",
              "       [9.63077843e-01],\n",
              "       [9.79590881e-01],\n",
              "       [9.91311998e-01],\n",
              "       [9.98124078e-01],\n",
              "       [9.99959058e-01],\n",
              "       [9.96798604e-01],\n",
              "       [9.88674294e-01],\n",
              "       [9.75667303e-01],\n",
              "       [9.57907592e-01],\n",
              "       [9.35572612e-01],\n",
              "       [9.08885525e-01],\n",
              "       [8.78112980e-01],\n",
              "       [8.43562446e-01],\n",
              "       [8.05579141e-01],\n",
              "       [7.64542582e-01],\n",
              "       [7.20862792e-01],\n",
              "       [6.74976205e-01],\n",
              "       [6.27341304e-01],\n",
              "       [5.78434043e-01],\n",
              "       [5.28743086e-01],\n",
              "       [4.78764928e-01],\n",
              "       [4.28998936e-01],\n",
              "       [3.79942353e-01],\n",
              "       [3.32085339e-01],\n",
              "       [2.85906063e-01],\n",
              "       [2.41865934e-01],\n",
              "       [2.00404987e-01],\n",
              "       [1.61937485e-01],\n",
              "       [1.26847783e-01],\n",
              "       [9.54864865e-02],\n",
              "       [6.81669460e-02],\n",
              "       [4.51621298e-02],\n",
              "       [2.67018944e-02],\n",
              "       [1.29706884e-02],\n",
              "       [4.10570950e-03],\n",
              "       [1.95533568e-04],\n",
              "       [1.27922981e-03],\n",
              "       [7.34597031e-03],\n",
              "       [1.83351382e-02],\n",
              "       [3.41369333e-02],\n",
              "       [5.45934694e-02],\n",
              "       [7.95003514e-02],\n",
              "       [1.08608718e-01],\n",
              "       [1.41627728e-01],\n",
              "       [1.78227467e-01],\n",
              "       [2.18042242e-01],\n",
              "       [2.60674236e-01],\n",
              "       [3.05697486e-01],\n",
              "       [3.52662133e-01],\n",
              "       [4.01098922e-01],\n",
              "       [4.50523890e-01],\n",
              "       [5.00443198e-01],\n",
              "       [5.50358069e-01],\n",
              "       [5.99769769e-01],\n",
              "       [6.48184595e-01],\n",
              "       [6.95118799e-01],\n",
              "       [7.40103433e-01],\n",
              "       [7.82689024e-01],\n",
              "       [8.22450070e-01],\n",
              "       [8.58989293e-01],\n",
              "       [8.91941605e-01],\n",
              "       [9.20977757e-01],\n",
              "       [9.45807630e-01],\n",
              "       [9.66183132e-01],\n",
              "       [9.81900676e-01],\n",
              "       [9.92803220e-01],\n",
              "       [9.98781828e-01],\n",
              "       [9.99776764e-01],\n",
              "       [9.95778087e-01],\n",
              "       [9.86825751e-01],\n",
              "       [9.73009203e-01],\n",
              "       [9.54466495e-01],\n",
              "       [9.31382900e-01],\n",
              "       [9.03989060e-01],\n",
              "       [8.72558686e-01],\n",
              "       [8.37405820e-01],\n",
              "       [7.98881698e-01],\n",
              "       [7.57371240e-01],\n",
              "       [7.13289205e-01],\n",
              "       [6.67076045e-01],\n",
              "       [6.19193508e-01],\n",
              "       [5.70120021e-01],\n",
              "       [5.20345908e-01],\n",
              "       [4.70368497e-01],\n",
              "       [4.20687145e-01],\n",
              "       [3.71798252e-01],\n",
              "       [3.24190300e-01],\n",
              "       [2.78338972e-01],\n",
              "       [2.34702398e-01],\n",
              "       [1.93716581e-01],\n",
              "       [1.55791039e-01],\n",
              "       [1.21304709e-01],\n",
              "       [9.06021693e-02],\n",
              "       [6.39901882e-02],\n",
              "       [4.17346643e-02],\n",
              "       [2.40579672e-02],\n",
              "       [1.11367167e-02],\n",
              "       [3.10001778e-03],\n",
              "       [2.81703720e-05],\n",
              "       [1.95186738e-03],\n",
              "       [8.85188786e-03],\n",
              "       [2.06592891e-02],\n",
              "       [3.72560954e-02],\n",
              "       [5.84764771e-02],\n",
              "       [8.41084070e-02],\n",
              "       [1.13895779e-01],\n",
              "       [1.47540969e-01],\n",
              "       [1.84707803e-01],\n",
              "       [2.25024924e-01],\n",
              "       [2.68089497e-01],\n",
              "       [3.13471233e-01],\n",
              "       [3.60716695e-01],\n",
              "       [4.09353821e-01],\n",
              "       [4.58896644e-01],\n",
              "       [5.08850150e-01],\n",
              "       [5.58715219e-01],\n",
              "       [6.07993616e-01],\n",
              "       [6.56192968e-01],\n",
              "       [7.02831682e-01],\n",
              "       [7.47443761e-01],\n",
              "       [7.89583454e-01],\n",
              "       [8.28829716e-01],\n",
              "       [8.64790412e-01],\n",
              "       [8.97106234e-01],\n",
              "       [9.25454293e-01]])"
            ]
          },
          "metadata": {
            "tags": []
          },
          "execution_count": 33
        }
      ]
    },
    {
      "cell_type": "code",
      "metadata": {
        "id": "YXelJeDjbyBy"
      },
      "source": [
        "# define generator\n",
        "length = 4 # Length of the output sequences (in number of timesteps)\n",
        "batch_size = 1 #Number of timeseries samples in each batch\n",
        "generator = TimeseriesGenerator(scaled_train, scaled_train, length=length, batch_size=batch_size)"
      ],
      "execution_count": null,
      "outputs": []
    },
    {
      "cell_type": "code",
      "metadata": {
        "colab": {
          "base_uri": "https://localhost:8080/"
        },
        "id": "BKP6OawZcBj_",
        "outputId": "0901cb63-ab41-4abd-da02-cddae89bdf34"
      },
      "source": [
        "len(scaled_train)"
      ],
      "execution_count": null,
      "outputs": [
        {
          "output_type": "execute_result",
          "data": {
            "text/plain": [
              "451"
            ]
          },
          "metadata": {
            "tags": []
          },
          "execution_count": 35
        }
      ]
    },
    {
      "cell_type": "code",
      "metadata": {
        "colab": {
          "base_uri": "https://localhost:8080/"
        },
        "id": "QMic-VG5cDDk",
        "outputId": "546f23a7-a0e7-4448-9e58-75bc87b02a58"
      },
      "source": [
        "len(generator) #-4"
      ],
      "execution_count": null,
      "outputs": [
        {
          "output_type": "execute_result",
          "data": {
            "text/plain": [
              "447"
            ]
          },
          "metadata": {
            "tags": []
          },
          "execution_count": 36
        }
      ]
    },
    {
      "cell_type": "code",
      "metadata": {
        "id": "u2uua3xlcD0D"
      },
      "source": [
        "# What does the first batch look like?\n",
        "X,y = generator[0]"
      ],
      "execution_count": null,
      "outputs": []
    },
    {
      "cell_type": "code",
      "metadata": {
        "colab": {
          "base_uri": "https://localhost:8080/"
        },
        "id": "fauNGpLqcH3-",
        "outputId": "5c2a20e5-5c1f-4986-8e66-2080fda6c56b"
      },
      "source": [
        "X"
      ],
      "execution_count": null,
      "outputs": [
        {
          "output_type": "execute_result",
          "data": {
            "text/plain": [
              "array([[[0.49999912],\n",
              "        [0.54991622],\n",
              "        [0.59933458],\n",
              "        [0.64776041]]])"
            ]
          },
          "metadata": {
            "tags": []
          },
          "execution_count": 38
        }
      ]
    },
    {
      "cell_type": "code",
      "metadata": {
        "colab": {
          "base_uri": "https://localhost:8080/"
        },
        "id": "AE6CLtU2cJQ4",
        "outputId": "a359c66d-b164-433f-9906-30b98955a955"
      },
      "source": [
        "y"
      ],
      "execution_count": null,
      "outputs": [
        {
          "output_type": "execute_result",
          "data": {
            "text/plain": [
              "array([[0.69470985]])"
            ]
          },
          "metadata": {
            "tags": []
          },
          "execution_count": 39
        }
      ]
    },
    {
      "cell_type": "code",
      "metadata": {
        "colab": {
          "base_uri": "https://localhost:8080/"
        },
        "id": "9Y_pVtbXcJ5G",
        "outputId": "9c59f31b-50b3-45f2-caa0-f3173dad0cca"
      },
      "source": [
        "scaled_train"
      ],
      "execution_count": null,
      "outputs": [
        {
          "output_type": "execute_result",
          "data": {
            "text/plain": [
              "array([[4.99999116e-01],\n",
              "       [5.49916225e-01],\n",
              "       [5.99334579e-01],\n",
              "       [6.47760405e-01],\n",
              "       [6.94709850e-01],\n",
              "       [7.39713809e-01],\n",
              "       [7.82322618e-01],\n",
              "       [8.22110545e-01],\n",
              "       [8.58680040e-01],\n",
              "       [8.91665714e-01],\n",
              "       [9.20737985e-01],\n",
              "       [9.45606372e-01],\n",
              "       [9.66022399e-01],\n",
              "       [9.81782075e-01],\n",
              "       [9.92727935e-01],\n",
              "       [9.98750612e-01],\n",
              "       [9.99789928e-01],\n",
              "       [9.95835500e-01],\n",
              "       [9.86926839e-01],\n",
              "       [9.73152957e-01],\n",
              "       [9.54651478e-01],\n",
              "       [9.31607263e-01],\n",
              "       [9.04250562e-01],\n",
              "       [8.72854714e-01],\n",
              "       [8.37733417e-01],\n",
              "       [7.99237589e-01],\n",
              "       [7.57751870e-01],\n",
              "       [7.13690771e-01],\n",
              "       [6.67494535e-01],\n",
              "       [6.19624741e-01],\n",
              "       [5.70559686e-01],\n",
              "       [5.20789614e-01],\n",
              "       [4.70811810e-01],\n",
              "       [4.21125636e-01],\n",
              "       [3.72227539e-01],\n",
              "       [3.24606094e-01],\n",
              "       [2.78737119e-01],\n",
              "       [2.35078919e-01],\n",
              "       [1.94067715e-01],\n",
              "       [1.56113277e-01],\n",
              "       [1.21594831e-01],\n",
              "       [9.08572769e-02],\n",
              "       [6.42077324e-02],\n",
              "       [4.19124713e-02],\n",
              "       [2.41942605e-02],\n",
              "       [1.12301346e-02],\n",
              "       [3.14962674e-03],\n",
              "       [3.34747619e-05],\n",
              "       [1.91281421e-03],\n",
              "       [8.76886734e-03],\n",
              "       [2.05331307e-02],\n",
              "       [3.70880598e-02],\n",
              "       [5.82682430e-02],\n",
              "       [8.38620552e-02],\n",
              "       [1.13613771e-01],\n",
              "       [1.47226122e-01],\n",
              "       [1.84363264e-01],\n",
              "       [2.24654135e-01],\n",
              "       [2.67696162e-01],\n",
              "       [3.13059283e-01],\n",
              "       [3.60290246e-01],\n",
              "       [4.08917133e-01],\n",
              "       [4.58454081e-01],\n",
              "       [5.08406134e-01],\n",
              "       [5.58274186e-01],\n",
              "       [6.07559973e-01],\n",
              "       [6.55771048e-01],\n",
              "       [7.02425701e-01],\n",
              "       [7.47057774e-01],\n",
              "       [7.89221319e-01],\n",
              "       [8.28495052e-01],\n",
              "       [8.64486561e-01],\n",
              "       [8.96836233e-01],\n",
              "       [9.25220839e-01],\n",
              "       [9.49356770e-01],\n",
              "       [9.69002868e-01],\n",
              "       [9.83962836e-01],\n",
              "       [9.94087198e-01],\n",
              "       [9.99274795e-01],\n",
              "       [9.99473795e-01],\n",
              "       [9.94682209e-01],\n",
              "       [9.84947913e-01],\n",
              "       [9.70368169e-01],\n",
              "       [9.51088653e-01],\n",
              "       [9.27301999e-01],\n",
              "       [8.99245876e-01],\n",
              "       [8.67200612e-01],\n",
              "       [8.31486391e-01],\n",
              "       [7.92460059e-01],\n",
              "       [7.50511555e-01],\n",
              "       [7.06060012e-01],\n",
              "       [6.59549578e-01],\n",
              "       [6.11444967e-01],\n",
              "       [5.62226827e-01],\n",
              "       [5.12386928e-01],\n",
              "       [4.62423254e-01],\n",
              "       [4.12835026e-01],\n",
              "       [3.64117712e-01],\n",
              "       [3.16758081e-01],\n",
              "       [2.71229333e-01],\n",
              "       [2.27986377e-01],\n",
              "       [1.87461283e-01],\n",
              "       [1.50058964e-01],\n",
              "       [1.16153131e-01],\n",
              "       [8.60825596e-02],\n",
              "       [6.01477060e-02],\n",
              "       [3.86077023e-02],\n",
              "       [2.16777691e-02],\n",
              "       [9.52706470e-03],\n",
              "       [2.27699490e-03],\n",
              "       [0.00000000e+00],\n",
              "       [2.71883099e-03],\n",
              "       [1.04063222e-02],\n",
              "       [2.29856628e-02],\n",
              "       [4.03311641e-02],\n",
              "       [6.22695157e-02],\n",
              "       [8.85815167e-02],\n",
              "       [1.19004266e-01],\n",
              "       [1.53233791e-01],\n",
              "       [1.90928079e-01],\n",
              "       [2.31710504e-01],\n",
              "       [2.75173579e-01],\n",
              "       [3.20883037e-01],\n",
              "       [3.68382164e-01],\n",
              "       [4.17196364e-01],\n",
              "       [4.66837901e-01],\n",
              "       [5.16810774e-01],\n",
              "       [5.66615671e-01],\n",
              "       [6.15754957e-01],\n",
              "       [6.63737650e-01],\n",
              "       [7.10084320e-01],\n",
              "       [7.54331889e-01],\n",
              "       [7.96038249e-01],\n",
              "       [8.34786684e-01],\n",
              "       [8.70190032e-01],\n",
              "       [9.01894555e-01],\n",
              "       [9.29583471e-01],\n",
              "       [9.52980122e-01],\n",
              "       [9.71850737e-01],\n",
              "       [9.86006767e-01],\n",
              "       [9.95306769e-01],\n",
              "       [9.99657820e-01],\n",
              "       [9.99016447e-01],\n",
              "       [9.93389058e-01],\n",
              "       [9.82831879e-01],\n",
              "       [9.67450395e-01],\n",
              "       [9.47398292e-01],\n",
              "       [9.22875925e-01],\n",
              "       [8.94128313e-01],\n",
              "       [8.61442691e-01],\n",
              "       [8.25145645e-01],\n",
              "       [7.85599843e-01],\n",
              "       [7.43200412e-01],\n",
              "       [6.98370994e-01],\n",
              "       [6.51559511e-01],\n",
              "       [6.03233685e-01],\n",
              "       [5.53876374e-01],\n",
              "       [5.03980740e-01],\n",
              "       [4.54045322e-01],\n",
              "       [4.04569059e-01],\n",
              "       [3.56046302e-01],\n",
              "       [3.08961874e-01],\n",
              "       [2.63786227e-01],\n",
              "       [2.20970741e-01],\n",
              "       [1.80943214e-01],\n",
              "       [1.44103589e-01],\n",
              "       [1.10819953e-01],\n",
              "       [8.14248677e-02],\n",
              "       [5.62120376e-02],\n",
              "       [3.54333813e-02],\n",
              "       [1.92965122e-02],\n",
              "       [7.96266464e-03],\n",
              "       [1.54508265e-03],\n",
              "       [1.07888605e-04],\n",
              "       [3.66544246e-03],\n",
              "       [1.21821983e-02],\n",
              "       [2.55730595e-02],\n",
              "       [4.37042291e-02],\n",
              "       [6.63945464e-02],\n",
              "       [9.34172971e-02],\n",
              "       [1.24502479e-01],\n",
              "       [1.59339499e-01],\n",
              "       [1.97580278e-01],\n",
              "       [2.38842725e-01],\n",
              "       [2.82714561e-01],\n",
              "       [3.28757432e-01],\n",
              "       [3.76511294e-01],\n",
              "       [4.25499005e-01],\n",
              "       [4.75231097e-01],\n",
              "       [5.25210662e-01],\n",
              "       [5.74938322e-01],\n",
              "       [6.23917214e-01],\n",
              "       [6.71657958e-01],\n",
              "       [7.17683543e-01],\n",
              "       [7.61534097e-01],\n",
              "       [8.02771481e-01],\n",
              "       [8.40983662e-01],\n",
              "       [8.75788839e-01],\n",
              "       [9.06839250e-01],\n",
              "       [9.33824648e-01],\n",
              "       [9.56475405e-01],\n",
              "       [9.74565201e-01],\n",
              "       [9.87913290e-01],\n",
              "       [9.96386302e-01],\n",
              "       [9.99899578e-01],\n",
              "       [9.98418013e-01],\n",
              "       [9.91956411e-01],\n",
              "       [9.80579335e-01],\n",
              "       [9.64400460e-01],\n",
              "       [9.43581440e-01],\n",
              "       [9.18330292e-01],\n",
              "       [8.88899318e-01],\n",
              "       [8.55582581e-01],\n",
              "       [8.18712972e-01],\n",
              "       [7.78658879e-01],\n",
              "       [7.35820510e-01],\n",
              "       [6.90625892e-01],\n",
              "       [6.43526593e-01],\n",
              "       [5.94993216e-01],\n",
              "       [5.45510689e-01],\n",
              "       [4.95573426e-01],\n",
              "       [4.45680382e-01],\n",
              "       [3.96330074e-01],\n",
              "       [3.48015592e-01],\n",
              "       [3.01219679e-01],\n",
              "       [2.56409905e-01],\n",
              "       [2.14033993e-01],\n",
              "       [1.74515351e-01],\n",
              "       [1.38248835e-01],\n",
              "       [1.05596808e-01],\n",
              "       [7.68855182e-02],\n",
              "       [5.24018399e-02],\n",
              "       [3.23904056e-02],\n",
              "       [1.70511630e-02],\n",
              "       [6.53737668e-03],\n",
              "       [9.54096943e-04],\n",
              "       [3.57110073e-04],\n",
              "       [4.75238097e-03],\n",
              "       [1.40959935e-02],\n",
              "       [2.82945895e-02],\n",
              "       [4.72063011e-02],\n",
              "       [7.06421689e-02],\n",
              "       [9.83680294e-02],\n",
              "       [1.30106855e-01],\n",
              "       [1.65541522e-01],\n",
              "       [2.04317978e-01],\n",
              "       [2.46048783e-01],\n",
              "       [2.90316975e-01],\n",
              "       [3.36680242e-01],\n",
              "       [3.84675337e-01],\n",
              "       [4.33822710e-01],\n",
              "       [4.83631295e-01],\n",
              "       [5.33603422e-01],\n",
              "       [5.83239786e-01],\n",
              "       [6.32044436e-01],\n",
              "       [6.79529734e-01],\n",
              "       [7.25221221e-01],\n",
              "       [7.68662363e-01],\n",
              "       [8.09419110e-01],\n",
              "       [8.47084236e-01],\n",
              "       [8.81281401e-01],\n",
              "       [9.11668920e-01],\n",
              "       [9.37943170e-01],\n",
              "       [9.59841629e-01],\n",
              "       [9.77145492e-01],\n",
              "       [9.89681867e-01],\n",
              "       [9.97325494e-01],\n",
              "       [1.00000000e+00],\n",
              "       [9.97678662e-01],\n",
              "       [9.90384675e-01],\n",
              "       [9.78190918e-01],\n",
              "       [9.61219226e-01],\n",
              "       [9.39639175e-01],\n",
              "       [9.13666386e-01],\n",
              "       [8.83560370e-01],\n",
              "       [8.49621938e-01],\n",
              "       [8.12190189e-01],\n",
              "       [7.71639131e-01],\n",
              "       [7.28373935e-01],\n",
              "       [6.82826893e-01],\n",
              "       [6.35453097e-01],\n",
              "       [5.86725890e-01],\n",
              "       [5.37132137e-01],\n",
              "       [4.87167363e-01],\n",
              "       [4.37330800e-01],\n",
              "       [3.88120398e-01],\n",
              "       [3.40027851e-01],\n",
              "       [2.93533684e-01],\n",
              "       [2.49102452e-01],\n",
              "       [2.07178096e-01],\n",
              "       [1.68179511e-01],\n",
              "       [1.32496358e-01],\n",
              "       [1.00485170e-01],\n",
              "       [7.24657944e-02],\n",
              "       [4.87181901e-02],\n",
              "       [2.94796357e-02],\n",
              "       [1.49423563e-02],\n",
              "       [5.25160379e-03],\n",
              "       [5.04204848e-04],\n",
              "       [7.47593943e-04],\n",
              "       [5.97933921e-03],\n",
              "       [1.61471668e-02],\n",
              "       [3.11494831e-02],\n",
              "       [5.08363900e-02],\n",
              "       [7.50111823e-02],\n",
              "       [1.03432314e-01],\n",
              "       [1.35815809e-01],\n",
              "       [1.71838104e-01],\n",
              "       [2.11139276e-01],\n",
              "       [2.53326639e-01],\n",
              "       [2.97978672e-01],\n",
              "       [3.44649227e-01],\n",
              "       [3.92871986e-01],\n",
              "       [4.42165124e-01],\n",
              "       [4.92036121e-01],\n",
              "       [5.41986681e-01],\n",
              "       [5.91517715e-01],\n",
              "       [6.40134325e-01],\n",
              "       [6.87350751e-01],\n",
              "       [7.32695222e-01],\n",
              "       [7.75714669e-01],\n",
              "       [8.15979258e-01],\n",
              "       [8.53086678e-01],\n",
              "       [8.86666164e-01],\n",
              "       [9.16382200e-01],\n",
              "       [9.41937874e-01],\n",
              "       [9.63077843e-01],\n",
              "       [9.79590881e-01],\n",
              "       [9.91311998e-01],\n",
              "       [9.98124078e-01],\n",
              "       [9.99959058e-01],\n",
              "       [9.96798604e-01],\n",
              "       [9.88674294e-01],\n",
              "       [9.75667303e-01],\n",
              "       [9.57907592e-01],\n",
              "       [9.35572612e-01],\n",
              "       [9.08885525e-01],\n",
              "       [8.78112980e-01],\n",
              "       [8.43562446e-01],\n",
              "       [8.05579141e-01],\n",
              "       [7.64542582e-01],\n",
              "       [7.20862792e-01],\n",
              "       [6.74976205e-01],\n",
              "       [6.27341304e-01],\n",
              "       [5.78434043e-01],\n",
              "       [5.28743086e-01],\n",
              "       [4.78764928e-01],\n",
              "       [4.28998936e-01],\n",
              "       [3.79942353e-01],\n",
              "       [3.32085339e-01],\n",
              "       [2.85906063e-01],\n",
              "       [2.41865934e-01],\n",
              "       [2.00404987e-01],\n",
              "       [1.61937485e-01],\n",
              "       [1.26847783e-01],\n",
              "       [9.54864865e-02],\n",
              "       [6.81669460e-02],\n",
              "       [4.51621298e-02],\n",
              "       [2.67018944e-02],\n",
              "       [1.29706884e-02],\n",
              "       [4.10570950e-03],\n",
              "       [1.95533568e-04],\n",
              "       [1.27922981e-03],\n",
              "       [7.34597031e-03],\n",
              "       [1.83351382e-02],\n",
              "       [3.41369333e-02],\n",
              "       [5.45934694e-02],\n",
              "       [7.95003514e-02],\n",
              "       [1.08608718e-01],\n",
              "       [1.41627728e-01],\n",
              "       [1.78227467e-01],\n",
              "       [2.18042242e-01],\n",
              "       [2.60674236e-01],\n",
              "       [3.05697486e-01],\n",
              "       [3.52662133e-01],\n",
              "       [4.01098922e-01],\n",
              "       [4.50523890e-01],\n",
              "       [5.00443198e-01],\n",
              "       [5.50358069e-01],\n",
              "       [5.99769769e-01],\n",
              "       [6.48184595e-01],\n",
              "       [6.95118799e-01],\n",
              "       [7.40103433e-01],\n",
              "       [7.82689024e-01],\n",
              "       [8.22450070e-01],\n",
              "       [8.58989293e-01],\n",
              "       [8.91941605e-01],\n",
              "       [9.20977757e-01],\n",
              "       [9.45807630e-01],\n",
              "       [9.66183132e-01],\n",
              "       [9.81900676e-01],\n",
              "       [9.92803220e-01],\n",
              "       [9.98781828e-01],\n",
              "       [9.99776764e-01],\n",
              "       [9.95778087e-01],\n",
              "       [9.86825751e-01],\n",
              "       [9.73009203e-01],\n",
              "       [9.54466495e-01],\n",
              "       [9.31382900e-01],\n",
              "       [9.03989060e-01],\n",
              "       [8.72558686e-01],\n",
              "       [8.37405820e-01],\n",
              "       [7.98881698e-01],\n",
              "       [7.57371240e-01],\n",
              "       [7.13289205e-01],\n",
              "       [6.67076045e-01],\n",
              "       [6.19193508e-01],\n",
              "       [5.70120021e-01],\n",
              "       [5.20345908e-01],\n",
              "       [4.70368497e-01],\n",
              "       [4.20687145e-01],\n",
              "       [3.71798252e-01],\n",
              "       [3.24190300e-01],\n",
              "       [2.78338972e-01],\n",
              "       [2.34702398e-01],\n",
              "       [1.93716581e-01],\n",
              "       [1.55791039e-01],\n",
              "       [1.21304709e-01],\n",
              "       [9.06021693e-02],\n",
              "       [6.39901882e-02],\n",
              "       [4.17346643e-02],\n",
              "       [2.40579672e-02],\n",
              "       [1.11367167e-02],\n",
              "       [3.10001778e-03],\n",
              "       [2.81703720e-05],\n",
              "       [1.95186738e-03],\n",
              "       [8.85188786e-03],\n",
              "       [2.06592891e-02],\n",
              "       [3.72560954e-02],\n",
              "       [5.84764771e-02],\n",
              "       [8.41084070e-02],\n",
              "       [1.13895779e-01],\n",
              "       [1.47540969e-01],\n",
              "       [1.84707803e-01],\n",
              "       [2.25024924e-01],\n",
              "       [2.68089497e-01],\n",
              "       [3.13471233e-01],\n",
              "       [3.60716695e-01],\n",
              "       [4.09353821e-01],\n",
              "       [4.58896644e-01],\n",
              "       [5.08850150e-01],\n",
              "       [5.58715219e-01],\n",
              "       [6.07993616e-01],\n",
              "       [6.56192968e-01],\n",
              "       [7.02831682e-01],\n",
              "       [7.47443761e-01],\n",
              "       [7.89583454e-01],\n",
              "       [8.28829716e-01],\n",
              "       [8.64790412e-01],\n",
              "       [8.97106234e-01],\n",
              "       [9.25454293e-01]])"
            ]
          },
          "metadata": {
            "tags": []
          },
          "execution_count": 40
        }
      ]
    },
    {
      "cell_type": "code",
      "metadata": {
        "colab": {
          "base_uri": "https://localhost:8080/",
          "height": 282
        },
        "id": "ePJv5A6fcO58",
        "outputId": "620a6666-af49-4c84-b773-14d9979fa16c"
      },
      "source": [
        "df.plot()"
      ],
      "execution_count": null,
      "outputs": [
        {
          "output_type": "execute_result",
          "data": {
            "text/plain": [
              "<matplotlib.axes._subplots.AxesSubplot at 0x7f3868800550>"
            ]
          },
          "metadata": {
            "tags": []
          },
          "execution_count": 41
        },
        {
          "output_type": "display_data",
          "data": {
            "image/png": "[encoded data removed]",
            "text/plain": [
              "<Figure size 432x288 with 1 Axes>"
            ]
          },
          "metadata": {
            "tags": [],
            "needs_background": "light"
          }
        }
      ]
    },
    {
      "cell_type": "code",
      "metadata": {
        "id": "Avw1t-lMc0YU"
      },
      "source": [
        "# define generator\n",
        "length = 50 # Length of the output sequences (in number of timesteps)\n",
        "batch_size = 1 #Number of timeseries samples in each batch\n",
        "generator = TimeseriesGenerator(scaled_train, scaled_train, length=length, batch_size=batch_size)"
      ],
      "execution_count": null,
      "outputs": []
    },
    {
      "cell_type": "markdown",
      "metadata": {
        "id": "rRpnt8LPcrIu"
      },
      "source": [
        "  ## Create the model"
      ]
    },
    {
      "cell_type": "code",
      "metadata": {
        "id": "WtXDxqWAcU_3"
      },
      "source": [
        "from tensorflow.keras.models import Sequential\n",
        "from tensorflow.keras.layers import Dense, SimpleRNN, LSTM"
      ],
      "execution_count": null,
      "outputs": []
    },
    {
      "cell_type": "code",
      "metadata": {
        "id": "Lj4d_pUUc8dg"
      },
      "source": [
        "# We're only using one feature in our time series\n",
        "n_features = 1"
      ],
      "execution_count": null,
      "outputs": []
    },
    {
      "cell_type": "code",
      "metadata": {
        "id": "zuecPIgLdALf"
      },
      "source": [
        "# define model\n",
        "model = Sequential()\n",
        "\n",
        "# Simple RNN layer with 50 neurons\n",
        "model.add(SimpleRNN(50,input_shape=(length, n_features)))\n",
        "\n",
        "# Final Prediction\n",
        "model.add(Dense(1))\n",
        "\n",
        "model.compile(optimizer='adam', loss='mse')"
      ],
      "execution_count": null,
      "outputs": []
    },
    {
      "cell_type": "code",
      "metadata": {
        "colab": {
          "base_uri": "https://localhost:8080/"
        },
        "id": "l4BeUbmMdDY1",
        "outputId": "ab7a41bb-89c8-4dc8-a718-d0d8d8ea2977"
      },
      "source": [
        "model.summary()"
      ],
      "execution_count": null,
      "outputs": [
        {
          "output_type": "stream",
          "text": [
            "Model: \"sequential\"\n",
            "_________________________________________________________________\n",
            "Layer (type)                 Output Shape              Param #   \n",
            "=================================================================\n",
            "simple_rnn (SimpleRNN)       (None, 50)                2600      \n",
            "_________________________________________________________________\n",
            "dense (Dense)                (None, 1)                 51        \n",
            "=================================================================\n",
            "Total params: 2,651\n",
            "Trainable params: 2,651\n",
            "Non-trainable params: 0\n",
            "_________________________________________________________________\n"
          ],
          "name": "stdout"
        }
      ]
    },
    {
      "cell_type": "code",
      "metadata": {
        "colab": {
          "base_uri": "https://localhost:8080/"
        },
        "id": "3lMnizvzdKYt",
        "outputId": "be24a023-f5b3-4735-f607-e1bbfaca5a6d"
      },
      "source": [
        "# fit model\n",
        "model.fit_generator(generator,epochs=5)"
      ],
      "execution_count": null,
      "outputs": [
        {
          "output_type": "stream",
          "text": [
            "/usr/local/lib/python3.6/dist-packages/tensorflow/python/keras/engine/training.py:1844: UserWarning: `Model.fit_generator` is deprecated and will be removed in a future version. Please use `Model.fit`, which supports generators.\n",
            "  warnings.warn('`Model.fit_generator` is deprecated and '\n"
          ],
          "name": "stderr"
        },
        {
          "output_type": "stream",
          "text": [
            "Epoch 1/5\n",
            "401/401 [==============================] - 4s 7ms/step - loss: 0.0434\n",
            "Epoch 2/5\n",
            "401/401 [==============================] - 2s 6ms/step - loss: 9.0146e-05\n",
            "Epoch 3/5\n",
            "401/401 [==============================] - 2s 6ms/step - loss: 1.5581e-04\n",
            "Epoch 4/5\n",
            "401/401 [==============================] - 3s 6ms/step - loss: 6.8086e-04\n",
            "Epoch 5/5\n",
            "401/401 [==============================] - 3s 6ms/step - loss: 3.4780e-04\n"
          ],
          "name": "stdout"
        },
        {
          "output_type": "execute_result",
          "data": {
            "text/plain": [
              "<tensorflow.python.keras.callbacks.History at 0x7f3864051fd0>"
            ]
          },
          "metadata": {
            "tags": []
          },
          "execution_count": 47
        }
      ]
    },
    {
      "cell_type": "code",
      "metadata": {
        "colab": {
          "base_uri": "https://localhost:8080/"
        },
        "id": "-thyqslDfXIs",
        "outputId": "881e2030-3e03-46db-c1c8-e35a4454b903"
      },
      "source": [
        "model.history.history.keys()"
      ],
      "execution_count": null,
      "outputs": [
        {
          "output_type": "execute_result",
          "data": {
            "text/plain": [
              "dict_keys(['loss'])"
            ]
          },
          "metadata": {
            "tags": []
          },
          "execution_count": 48
        }
      ]
    },
    {
      "cell_type": "code",
      "metadata": {
        "colab": {
          "base_uri": "https://localhost:8080/",
          "height": 285
        },
        "id": "v5nCqz5Jfigw",
        "outputId": "70b03137-6344-45f7-bbf4-ac21afd10f9b"
      },
      "source": [
        "losses = pd.DataFrame(model.history.history)\n",
        "losses.plot()"
      ],
      "execution_count": null,
      "outputs": [
        {
          "output_type": "execute_result",
          "data": {
            "text/plain": [
              "<matplotlib.axes._subplots.AxesSubplot at 0x7f38620485c0>"
            ]
          },
          "metadata": {
            "tags": []
          },
          "execution_count": 49
        },
        {
          "output_type": "display_data",
          "data": {
            "image/png": "[encoded data removed]",
            "text/plain": [
              "<Figure size 432x288 with 1 Axes>"
            ]
          },
          "metadata": {
            "tags": [],
            "needs_background": "light"
          }
        }
      ]
    },
    {
      "cell_type": "markdown",
      "metadata": {
        "id": "IERVuNMafnOn"
      },
      "source": [
        "## Evaluate on Test Data"
      ]
    },
    {
      "cell_type": "code",
      "metadata": {
        "id": "K23dib8ifkyH"
      },
      "source": [
        "first_eval_batch = scaled_train[-length:]#last 25 five points to predict 1 point in the future"
      ],
      "execution_count": null,
      "outputs": []
    },
    {
      "cell_type": "code",
      "metadata": {
        "colab": {
          "base_uri": "https://localhost:8080/"
        },
        "id": "vwZWJKvlfyZl",
        "outputId": "54d35734-40d4-4d43-b097-8fc491cd6806"
      },
      "source": [
        "first_eval_batch"
      ],
      "execution_count": null,
      "outputs": [
        {
          "output_type": "execute_result",
          "data": {
            "text/plain": [
              "array([[8.37405820e-01],\n",
              "       [7.98881698e-01],\n",
              "       [7.57371240e-01],\n",
              "       [7.13289205e-01],\n",
              "       [6.67076045e-01],\n",
              "       [6.19193508e-01],\n",
              "       [5.70120021e-01],\n",
              "       [5.20345908e-01],\n",
              "       [4.70368497e-01],\n",
              "       [4.20687145e-01],\n",
              "       [3.71798252e-01],\n",
              "       [3.24190300e-01],\n",
              "       [2.78338972e-01],\n",
              "       [2.34702398e-01],\n",
              "       [1.93716581e-01],\n",
              "       [1.55791039e-01],\n",
              "       [1.21304709e-01],\n",
              "       [9.06021693e-02],\n",
              "       [6.39901882e-02],\n",
              "       [4.17346643e-02],\n",
              "       [2.40579672e-02],\n",
              "       [1.11367167e-02],\n",
              "       [3.10001778e-03],\n",
              "       [2.81703720e-05],\n",
              "       [1.95186738e-03],\n",
              "       [8.85188786e-03],\n",
              "       [2.06592891e-02],\n",
              "       [3.72560954e-02],\n",
              "       [5.84764771e-02],\n",
              "       [8.41084070e-02],\n",
              "       [1.13895779e-01],\n",
              "       [1.47540969e-01],\n",
              "       [1.84707803e-01],\n",
              "       [2.25024924e-01],\n",
              "       [2.68089497e-01],\n",
              "       [3.13471233e-01],\n",
              "       [3.60716695e-01],\n",
              "       [4.09353821e-01],\n",
              "       [4.58896644e-01],\n",
              "       [5.08850150e-01],\n",
              "       [5.58715219e-01],\n",
              "       [6.07993616e-01],\n",
              "       [6.56192968e-01],\n",
              "       [7.02831682e-01],\n",
              "       [7.47443761e-01],\n",
              "       [7.89583454e-01],\n",
              "       [8.28829716e-01],\n",
              "       [8.64790412e-01],\n",
              "       [8.97106234e-01],\n",
              "       [9.25454293e-01]])"
            ]
          },
          "metadata": {
            "tags": []
          },
          "execution_count": 51
        }
      ]
    },
    {
      "cell_type": "code",
      "metadata": {
        "id": "W2NYoh7Vfzio"
      },
      "source": [
        "first_eval_batch = first_eval_batch.reshape((1, length, n_features))"
      ],
      "execution_count": null,
      "outputs": []
    },
    {
      "cell_type": "code",
      "metadata": {
        "colab": {
          "base_uri": "https://localhost:8080/"
        },
        "id": "UUwIwWZtf1_C",
        "outputId": "65494491-aa85-425c-dd89-90582119b2a8"
      },
      "source": [
        "model.predict(first_eval_batch)"
      ],
      "execution_count": null,
      "outputs": [
        {
          "output_type": "execute_result",
          "data": {
            "text/plain": [
              "array([[0.9594406]], dtype=float32)"
            ]
          },
          "metadata": {
            "tags": []
          },
          "execution_count": 53
        }
      ]
    },
    {
      "cell_type": "code",
      "metadata": {
        "colab": {
          "base_uri": "https://localhost:8080/"
        },
        "id": "K8kfM7YJf4et",
        "outputId": "bace108d-bb66-41a7-a540-a8d662bfd61e"
      },
      "source": [
        "scaled_test[0]"
      ],
      "execution_count": null,
      "outputs": [
        {
          "output_type": "execute_result",
          "data": {
            "text/plain": [
              "array([0.94955134])"
            ]
          },
          "metadata": {
            "tags": []
          },
          "execution_count": 54
        }
      ]
    },
    {
      "cell_type": "markdown",
      "metadata": {
        "id": "dVpsU7z_gCNu"
      },
      "source": [
        "Now let's put this logic in a for loop to predict into the future for the entire test range.\n",
        "\n",
        "----"
      ]
    },
    {
      "cell_type": "code",
      "metadata": {
        "id": "QgPnQcUngBSq"
      },
      "source": [
        "test_predictions = []\n",
        "\n",
        "first_eval_batch = scaled_train[-length:]\n",
        "current_batch = first_eval_batch.reshape((1, length, n_features))"
      ],
      "execution_count": null,
      "outputs": []
    },
    {
      "cell_type": "code",
      "metadata": {
        "id": "hd93zvrhgKP_"
      },
      "source": [
        "#current_batch"
      ],
      "execution_count": null,
      "outputs": []
    },
    {
      "cell_type": "code",
      "metadata": {
        "colab": {
          "base_uri": "https://localhost:8080/"
        },
        "id": "I1irLPn7gMip",
        "outputId": "c2d39435-8aff-499e-cf7f-f557ae2453b5"
      },
      "source": [
        "np.append(current_batch[:,1:,:],[[[99]]],axis=1)"
      ],
      "execution_count": null,
      "outputs": [
        {
          "output_type": "execute_result",
          "data": {
            "text/plain": [
              "array([[[7.98881698e-01],\n",
              "        [7.57371240e-01],\n",
              "        [7.13289205e-01],\n",
              "        [6.67076045e-01],\n",
              "        [6.19193508e-01],\n",
              "        [5.70120021e-01],\n",
              "        [5.20345908e-01],\n",
              "        [4.70368497e-01],\n",
              "        [4.20687145e-01],\n",
              "        [3.71798252e-01],\n",
              "        [3.24190300e-01],\n",
              "        [2.78338972e-01],\n",
              "        [2.34702398e-01],\n",
              "        [1.93716581e-01],\n",
              "        [1.55791039e-01],\n",
              "        [1.21304709e-01],\n",
              "        [9.06021693e-02],\n",
              "        [6.39901882e-02],\n",
              "        [4.17346643e-02],\n",
              "        [2.40579672e-02],\n",
              "        [1.11367167e-02],\n",
              "        [3.10001778e-03],\n",
              "        [2.81703720e-05],\n",
              "        [1.95186738e-03],\n",
              "        [8.85188786e-03],\n",
              "        [2.06592891e-02],\n",
              "        [3.72560954e-02],\n",
              "        [5.84764771e-02],\n",
              "        [8.41084070e-02],\n",
              "        [1.13895779e-01],\n",
              "        [1.47540969e-01],\n",
              "        [1.84707803e-01],\n",
              "        [2.25024924e-01],\n",
              "        [2.68089497e-01],\n",
              "        [3.13471233e-01],\n",
              "        [3.60716695e-01],\n",
              "        [4.09353821e-01],\n",
              "        [4.58896644e-01],\n",
              "        [5.08850150e-01],\n",
              "        [5.58715219e-01],\n",
              "        [6.07993616e-01],\n",
              "        [6.56192968e-01],\n",
              "        [7.02831682e-01],\n",
              "        [7.47443761e-01],\n",
              "        [7.89583454e-01],\n",
              "        [8.28829716e-01],\n",
              "        [8.64790412e-01],\n",
              "        [8.97106234e-01],\n",
              "        [9.25454293e-01],\n",
              "        [9.90000000e+01]]])"
            ]
          },
          "metadata": {
            "tags": []
          },
          "execution_count": 59
        }
      ]
    },
    {
      "cell_type": "code",
      "metadata": {
        "id": "o5kCTow_ghDY"
      },
      "source": [
        "test_predictions = []\n",
        "\n",
        "first_eval_batch = scaled_train[-length:]\n",
        "current_batch = first_eval_batch.reshape((1, length, n_features))\n",
        "\n",
        "for i in range(len(test)):\n",
        "    \n",
        "    # get prediction 1 time stamp ahead ([0] is for grabbing just the number instead of [array])\n",
        "    current_pred = model.predict(current_batch)[0]\n",
        "    \n",
        "    # store prediction\n",
        "    test_predictions.append(current_pred) \n",
        "    \n",
        "    # update batch to now include prediction and drop first value\n",
        "    current_batch = np.append(current_batch[:,1:,:],[[current_pred]],axis=1)"
      ],
      "execution_count": null,
      "outputs": []
    },
    {
      "cell_type": "code",
      "metadata": {
        "colab": {
          "base_uri": "https://localhost:8080/"
        },
        "id": "JWQy2Bx_gtD7",
        "outputId": "f1feefa8-2cb3-4c10-c1c8-c08e75835874"
      },
      "source": [
        "test_predictions"
      ],
      "execution_count": null,
      "outputs": [
        {
          "output_type": "execute_result",
          "data": {
            "text/plain": [
              "[array([0.9594406], dtype=float32),\n",
              " array([0.97862524], dtype=float32),\n",
              " array([0.9954989], dtype=float32),\n",
              " array([1.0051793], dtype=float32),\n",
              " array([1.0142709], dtype=float32),\n",
              " array([1.0141537], dtype=float32),\n",
              " array([1.0103956], dtype=float32),\n",
              " array([1.002377], dtype=float32),\n",
              " array([0.9878528], dtype=float32),\n",
              " array([0.9701327], dtype=float32),\n",
              " array([0.9456191], dtype=float32),\n",
              " array([0.91809505], dtype=float32),\n",
              " array([0.88683844], dtype=float32),\n",
              " array([0.8519137], dtype=float32),\n",
              " array([0.81391954], dtype=float32),\n",
              " array([0.77374834], dtype=float32),\n",
              " array([0.7320709], dtype=float32),\n",
              " array([0.6877829], dtype=float32),\n",
              " array([0.64186364], dtype=float32),\n",
              " array([0.5959974], dtype=float32),\n",
              " array([0.54910517], dtype=float32),\n",
              " array([0.50256795], dtype=float32),\n",
              " array([0.4550234], dtype=float32),\n",
              " array([0.40966693], dtype=float32),\n",
              " array([0.36447158], dtype=float32),\n",
              " array([0.3218228], dtype=float32),\n",
              " array([0.28022915], dtype=float32),\n",
              " array([0.2423723], dtype=float32),\n",
              " array([0.20658022], dtype=float32),\n",
              " array([0.17453925], dtype=float32),\n",
              " array([0.1457454], dtype=float32),\n",
              " array([0.12056671], dtype=float32),\n",
              " array([0.09999239], dtype=float32),\n",
              " array([0.08295012], dtype=float32),\n",
              " array([0.07160893], dtype=float32),\n",
              " array([0.06292827], dtype=float32),\n",
              " array([0.06060413], dtype=float32),\n",
              " array([0.06091854], dtype=float32),\n",
              " array([0.06688584], dtype=float32),\n",
              " array([0.07649883], dtype=float32),\n",
              " array([0.09031899], dtype=float32),\n",
              " array([0.1083222], dtype=float32),\n",
              " array([0.13003416], dtype=float32),\n",
              " array([0.15591978], dtype=float32),\n",
              " array([0.18358763], dtype=float32),\n",
              " array([0.21591163], dtype=float32),\n",
              " array([0.25068513], dtype=float32),\n",
              " array([0.2878961], dtype=float32),\n",
              " array([0.32773095], dtype=float32),\n",
              " array([0.36969548], dtype=float32)]"
            ]
          },
          "metadata": {
            "tags": []
          },
          "execution_count": 61
        }
      ]
    },
    {
      "cell_type": "code",
      "metadata": {
        "colab": {
          "base_uri": "https://localhost:8080/"
        },
        "id": "gTljmSNCgvKC",
        "outputId": "9ae13dd2-4dbe-42c2-c7a3-937382caef84"
      },
      "source": [
        "scaled_test"
      ],
      "execution_count": null,
      "outputs": [
        {
          "output_type": "execute_result",
          "data": {
            "text/plain": [
              "array([[9.49551344e-01],\n",
              "       [9.69156618e-01],\n",
              "       [9.84074225e-01],\n",
              "       [9.94155114e-01],\n",
              "       [9.99298559e-01],\n",
              "       [9.99453170e-01],\n",
              "       [9.94617400e-01],\n",
              "       [9.84839568e-01],\n",
              "       [9.70217371e-01],\n",
              "       [9.50896908e-01],\n",
              "       [9.27071224e-01],\n",
              "       [8.98978376e-01],\n",
              "       [8.66899060e-01],\n",
              "       [8.31153800e-01],\n",
              "       [7.92099752e-01],\n",
              "       [7.50127132e-01],\n",
              "       [7.05655314e-01],\n",
              "       [6.59128649e-01],\n",
              "       [6.11012013e-01],\n",
              "       [5.61786173e-01],\n",
              "       [5.11942978e-01],\n",
              "       [4.61980443e-01],\n",
              "       [4.12397778e-01],\n",
              "       [3.63690397e-01],\n",
              "       [3.16344967e-01],\n",
              "       [2.70834550e-01],\n",
              "       [2.27613868e-01],\n",
              "       [1.87114770e-01],\n",
              "       [1.49741909e-01],\n",
              "       [1.15868702e-01],\n",
              "       [8.58335998e-02],\n",
              "       [5.99367021e-02],\n",
              "       [3.84367625e-02],\n",
              "       [2.15486014e-02],\n",
              "       [9.44095974e-03],\n",
              "       [2.23481297e-03],\n",
              "       [2.16257798e-06],\n",
              "       [2.76531647e-03],\n",
              "       [1.04966661e-02],\n",
              "       [2.31189624e-02],\n",
              "       [4.05060876e-02],\n",
              "       [6.24843152e-02],\n",
              "       [8.88340461e-02],\n",
              "       [1.19292002e-01],\n",
              "       [1.53553858e-01],\n",
              "       [1.91277281e-01],\n",
              "       [2.32085350e-01],\n",
              "       [2.75570325e-01],\n",
              "       [3.21297718e-01],\n",
              "       [3.68810636e-01]])"
            ]
          },
          "metadata": {
            "tags": []
          },
          "execution_count": 62
        }
      ]
    },
    {
      "cell_type": "markdown",
      "metadata": {
        "id": "PyZsEkeRg7jT"
      },
      "source": [
        "## Inverse Transformations and Compare"
      ]
    },
    {
      "cell_type": "code",
      "metadata": {
        "id": "-cEGW3qHgzVw"
      },
      "source": [
        "true_predictions = scaler.inverse_transform(test_predictions)"
      ],
      "execution_count": null,
      "outputs": []
    },
    {
      "cell_type": "code",
      "metadata": {
        "colab": {
          "base_uri": "https://localhost:8080/"
        },
        "id": "tOufHCcyg-DT",
        "outputId": "088683c0-2459-495f-ace8-2acaee160208"
      },
      "source": [
        "true_predictions"
      ],
      "execution_count": null,
      "outputs": [
        {
          "output_type": "execute_result",
          "data": {
            "text/plain": [
              "array([[ 0.91887557],\n",
              "       [ 0.95724456],\n",
              "       [ 0.99099161],\n",
              "       [ 1.01035223],\n",
              "       [ 1.02853532],\n",
              "       [ 1.02830095],\n",
              "       [ 1.02078487],\n",
              "       [ 1.00474777],\n",
              "       [ 0.97569956],\n",
              "       [ 0.94025964],\n",
              "       [ 0.89123283],\n",
              "       [ 0.83618516],\n",
              "       [ 0.77367243],\n",
              "       [ 0.7038235 ],\n",
              "       [ 0.62783582],\n",
              "       [ 0.54749405],\n",
              "       [ 0.46413989],\n",
              "       [ 0.37556452],\n",
              "       [ 0.28372678],\n",
              "       [ 0.19199501],\n",
              "       [ 0.09821131],\n",
              "       [ 0.00513762],\n",
              "       [-0.08995069],\n",
              "       [-0.18066293],\n",
              "       [-0.27105289],\n",
              "       [-0.35634979],\n",
              "       [-0.4395364 ],\n",
              "       [-0.51524949],\n",
              "       [-0.58683308],\n",
              "       [-0.6509145 ],\n",
              "       [-0.70850175],\n",
              "       [-0.75885872],\n",
              "       [-0.80000704],\n",
              "       [-0.83409131],\n",
              "       [-0.85677349],\n",
              "       [-0.87413468],\n",
              "       [-0.87878291],\n",
              "       [-0.87815411],\n",
              "       [-0.86621961],\n",
              "       [-0.84699378],\n",
              "       [-0.81935367],\n",
              "       [-0.78334755],\n",
              "       [-0.73992397],\n",
              "       [-0.68815316],\n",
              "       [-0.6328179 ],\n",
              "       [-0.56817042],\n",
              "       [-0.49862398],\n",
              "       [-0.42420263],\n",
              "       [-0.34453356],\n",
              "       [-0.26060517]])"
            ]
          },
          "metadata": {
            "tags": []
          },
          "execution_count": 64
        }
      ]
    },
    {
      "cell_type": "code",
      "metadata": {
        "colab": {
          "base_uri": "https://localhost:8080/",
          "height": 1000
        },
        "id": "0ohZBqtwg-_a",
        "outputId": "b2bdd590-8b07-4d22-94c9-3aca910c55da"
      },
      "source": [
        "test"
      ],
      "execution_count": null,
      "outputs": [
        {
          "output_type": "execute_result",
          "data": {
            "text/html": [
              "<div>\n",
              "<style scoped>\n",
              "    .dataframe tbody tr th:only-of-type {\n",
              "        vertical-align: middle;\n",
              "    }\n",
              "\n",
              "    .dataframe tbody tr th {\n",
              "        vertical-align: top;\n",
              "    }\n",
              "\n",
              "    .dataframe thead th {\n",
              "        text-align: right;\n",
              "    }\n",
              "</style>\n",
              "<table border=\"1\" class=\"dataframe\">\n",
              "  <thead>\n",
              "    <tr style=\"text-align: right;\">\n",
              "      <th></th>\n",
              "      <th>Sine</th>\n",
              "    </tr>\n",
              "  </thead>\n",
              "  <tbody>\n",
              "    <tr>\n",
              "      <th>45.1</th>\n",
              "      <td>0.899097</td>\n",
              "    </tr>\n",
              "    <tr>\n",
              "      <th>45.2</th>\n",
              "      <td>0.938307</td>\n",
              "    </tr>\n",
              "    <tr>\n",
              "      <th>45.3</th>\n",
              "      <td>0.968142</td>\n",
              "    </tr>\n",
              "    <tr>\n",
              "      <th>45.4</th>\n",
              "      <td>0.988304</td>\n",
              "    </tr>\n",
              "    <tr>\n",
              "      <th>45.5</th>\n",
              "      <td>0.998591</td>\n",
              "    </tr>\n",
              "    <tr>\n",
              "      <th>45.6</th>\n",
              "      <td>0.998900</td>\n",
              "    </tr>\n",
              "    <tr>\n",
              "      <th>45.7</th>\n",
              "      <td>0.989229</td>\n",
              "    </tr>\n",
              "    <tr>\n",
              "      <th>45.8</th>\n",
              "      <td>0.969673</td>\n",
              "    </tr>\n",
              "    <tr>\n",
              "      <th>45.9</th>\n",
              "      <td>0.940429</td>\n",
              "    </tr>\n",
              "    <tr>\n",
              "      <th>46.0</th>\n",
              "      <td>0.901788</td>\n",
              "    </tr>\n",
              "    <tr>\n",
              "      <th>46.1</th>\n",
              "      <td>0.854137</td>\n",
              "    </tr>\n",
              "    <tr>\n",
              "      <th>46.2</th>\n",
              "      <td>0.797952</td>\n",
              "    </tr>\n",
              "    <tr>\n",
              "      <th>46.3</th>\n",
              "      <td>0.733794</td>\n",
              "    </tr>\n",
              "    <tr>\n",
              "      <th>46.4</th>\n",
              "      <td>0.662304</td>\n",
              "    </tr>\n",
              "    <tr>\n",
              "      <th>46.5</th>\n",
              "      <td>0.584197</td>\n",
              "    </tr>\n",
              "    <tr>\n",
              "      <th>46.6</th>\n",
              "      <td>0.500252</td>\n",
              "    </tr>\n",
              "    <tr>\n",
              "      <th>46.7</th>\n",
              "      <td>0.411309</td>\n",
              "    </tr>\n",
              "    <tr>\n",
              "      <th>46.8</th>\n",
              "      <td>0.318257</td>\n",
              "    </tr>\n",
              "    <tr>\n",
              "      <th>46.9</th>\n",
              "      <td>0.222024</td>\n",
              "    </tr>\n",
              "    <tr>\n",
              "      <th>47.0</th>\n",
              "      <td>0.123573</td>\n",
              "    </tr>\n",
              "    <tr>\n",
              "      <th>47.1</th>\n",
              "      <td>0.023888</td>\n",
              "    </tr>\n",
              "    <tr>\n",
              "      <th>47.2</th>\n",
              "      <td>-0.076037</td>\n",
              "    </tr>\n",
              "    <tr>\n",
              "      <th>47.3</th>\n",
              "      <td>-0.175201</td>\n",
              "    </tr>\n",
              "    <tr>\n",
              "      <th>47.4</th>\n",
              "      <td>-0.272615</td>\n",
              "    </tr>\n",
              "    <tr>\n",
              "      <th>47.5</th>\n",
              "      <td>-0.367305</td>\n",
              "    </tr>\n",
              "    <tr>\n",
              "      <th>47.6</th>\n",
              "      <td>-0.458325</td>\n",
              "    </tr>\n",
              "    <tr>\n",
              "      <th>47.7</th>\n",
              "      <td>-0.544766</td>\n",
              "    </tr>\n",
              "    <tr>\n",
              "      <th>47.8</th>\n",
              "      <td>-0.625764</td>\n",
              "    </tr>\n",
              "    <tr>\n",
              "      <th>47.9</th>\n",
              "      <td>-0.700509</td>\n",
              "    </tr>\n",
              "    <tr>\n",
              "      <th>48.0</th>\n",
              "      <td>-0.768255</td>\n",
              "    </tr>\n",
              "    <tr>\n",
              "      <th>48.1</th>\n",
              "      <td>-0.828324</td>\n",
              "    </tr>\n",
              "    <tr>\n",
              "      <th>48.2</th>\n",
              "      <td>-0.880118</td>\n",
              "    </tr>\n",
              "    <tr>\n",
              "      <th>48.3</th>\n",
              "      <td>-0.923117</td>\n",
              "    </tr>\n",
              "    <tr>\n",
              "      <th>48.4</th>\n",
              "      <td>-0.956893</td>\n",
              "    </tr>\n",
              "    <tr>\n",
              "      <th>48.5</th>\n",
              "      <td>-0.981108</td>\n",
              "    </tr>\n",
              "    <tr>\n",
              "      <th>48.6</th>\n",
              "      <td>-0.995521</td>\n",
              "    </tr>\n",
              "    <tr>\n",
              "      <th>48.7</th>\n",
              "      <td>-0.999986</td>\n",
              "    </tr>\n",
              "    <tr>\n",
              "      <th>48.8</th>\n",
              "      <td>-0.994460</td>\n",
              "    </tr>\n",
              "    <tr>\n",
              "      <th>48.9</th>\n",
              "      <td>-0.978997</td>\n",
              "    </tr>\n",
              "    <tr>\n",
              "      <th>49.0</th>\n",
              "      <td>-0.953753</td>\n",
              "    </tr>\n",
              "    <tr>\n",
              "      <th>49.1</th>\n",
              "      <td>-0.918979</td>\n",
              "    </tr>\n",
              "    <tr>\n",
              "      <th>49.2</th>\n",
              "      <td>-0.875023</td>\n",
              "    </tr>\n",
              "    <tr>\n",
              "      <th>49.3</th>\n",
              "      <td>-0.822324</td>\n",
              "    </tr>\n",
              "    <tr>\n",
              "      <th>49.4</th>\n",
              "      <td>-0.761408</td>\n",
              "    </tr>\n",
              "    <tr>\n",
              "      <th>49.5</th>\n",
              "      <td>-0.692885</td>\n",
              "    </tr>\n",
              "    <tr>\n",
              "      <th>49.6</th>\n",
              "      <td>-0.617439</td>\n",
              "    </tr>\n",
              "    <tr>\n",
              "      <th>49.7</th>\n",
              "      <td>-0.535823</td>\n",
              "    </tr>\n",
              "    <tr>\n",
              "      <th>49.8</th>\n",
              "      <td>-0.448854</td>\n",
              "    </tr>\n",
              "    <tr>\n",
              "      <th>49.9</th>\n",
              "      <td>-0.357400</td>\n",
              "    </tr>\n",
              "    <tr>\n",
              "      <th>50.0</th>\n",
              "      <td>-0.262375</td>\n",
              "    </tr>\n",
              "  </tbody>\n",
              "</table>\n",
              "</div>"
            ],
            "text/plain": [
              "          Sine\n",
              "45.1  0.899097\n",
              "45.2  0.938307\n",
              "45.3  0.968142\n",
              "45.4  0.988304\n",
              "45.5  0.998591\n",
              "45.6  0.998900\n",
              "45.7  0.989229\n",
              "45.8  0.969673\n",
              "45.9  0.940429\n",
              "46.0  0.901788\n",
              "46.1  0.854137\n",
              "46.2  0.797952\n",
              "46.3  0.733794\n",
              "46.4  0.662304\n",
              "46.5  0.584197\n",
              "46.6  0.500252\n",
              "46.7  0.411309\n",
              "46.8  0.318257\n",
              "46.9  0.222024\n",
              "47.0  0.123573\n",
              "47.1  0.023888\n",
              "47.2 -0.076037\n",
              "47.3 -0.175201\n",
              "47.4 -0.272615\n",
              "47.5 -0.367305\n",
              "47.6 -0.458325\n",
              "47.7 -0.544766\n",
              "47.8 -0.625764\n",
              "47.9 -0.700509\n",
              "48.0 -0.768255\n",
              "48.1 -0.828324\n",
              "48.2 -0.880118\n",
              "48.3 -0.923117\n",
              "48.4 -0.956893\n",
              "48.5 -0.981108\n",
              "48.6 -0.995521\n",
              "48.7 -0.999986\n",
              "48.8 -0.994460\n",
              "48.9 -0.978997\n",
              "49.0 -0.953753\n",
              "49.1 -0.918979\n",
              "49.2 -0.875023\n",
              "49.3 -0.822324\n",
              "49.4 -0.761408\n",
              "49.5 -0.692885\n",
              "49.6 -0.617439\n",
              "49.7 -0.535823\n",
              "49.8 -0.448854\n",
              "49.9 -0.357400\n",
              "50.0 -0.262375"
            ]
          },
          "metadata": {
            "tags": []
          },
          "execution_count": 65
        }
      ]
    },
    {
      "cell_type": "code",
      "metadata": {
        "colab": {
          "base_uri": "https://localhost:8080/"
        },
        "id": "kmnrKzVshAlF",
        "outputId": "9c2ea3be-2276-4843-951d-72fc1a55a453"
      },
      "source": [
        "# IGNORE WARNINGS\n",
        "test['Predictions'] = true_predictions"
      ],
      "execution_count": null,
      "outputs": [
        {
          "output_type": "stream",
          "text": [
            "/usr/local/lib/python3.6/dist-packages/ipykernel_launcher.py:2: SettingWithCopyWarning: \n",
            "A value is trying to be set on a copy of a slice from a DataFrame.\n",
            "Try using .loc[row_indexer,col_indexer] = value instead\n",
            "\n",
            "See the caveats in the documentation: https://pandas.pydata.org/pandas-docs/stable/user_guide/indexing.html#returning-a-view-versus-a-copy\n",
            "  \n"
          ],
          "name": "stderr"
        }
      ]
    },
    {
      "cell_type": "code",
      "metadata": {
        "colab": {
          "base_uri": "https://localhost:8080/",
          "height": 1000
        },
        "id": "FPH7I54ZhBv7",
        "outputId": "83fc20e6-4e03-48f2-fac2-396c4decfa07"
      },
      "source": [
        "test"
      ],
      "execution_count": null,
      "outputs": [
        {
          "output_type": "execute_result",
          "data": {
            "text/html": [
              "<div>\n",
              "<style scoped>\n",
              "    .dataframe tbody tr th:only-of-type {\n",
              "        vertical-align: middle;\n",
              "    }\n",
              "\n",
              "    .dataframe tbody tr th {\n",
              "        vertical-align: top;\n",
              "    }\n",
              "\n",
              "    .dataframe thead th {\n",
              "        text-align: right;\n",
              "    }\n",
              "</style>\n",
              "<table border=\"1\" class=\"dataframe\">\n",
              "  <thead>\n",
              "    <tr style=\"text-align: right;\">\n",
              "      <th></th>\n",
              "      <th>Sine</th>\n",
              "      <th>Predictions</th>\n",
              "    </tr>\n",
              "  </thead>\n",
              "  <tbody>\n",
              "    <tr>\n",
              "      <th>45.1</th>\n",
              "      <td>0.899097</td>\n",
              "      <td>0.918876</td>\n",
              "    </tr>\n",
              "    <tr>\n",
              "      <th>45.2</th>\n",
              "      <td>0.938307</td>\n",
              "      <td>0.957245</td>\n",
              "    </tr>\n",
              "    <tr>\n",
              "      <th>45.3</th>\n",
              "      <td>0.968142</td>\n",
              "      <td>0.990992</td>\n",
              "    </tr>\n",
              "    <tr>\n",
              "      <th>45.4</th>\n",
              "      <td>0.988304</td>\n",
              "      <td>1.010352</td>\n",
              "    </tr>\n",
              "    <tr>\n",
              "      <th>45.5</th>\n",
              "      <td>0.998591</td>\n",
              "      <td>1.028535</td>\n",
              "    </tr>\n",
              "    <tr>\n",
              "      <th>45.6</th>\n",
              "      <td>0.998900</td>\n",
              "      <td>1.028301</td>\n",
              "    </tr>\n",
              "    <tr>\n",
              "      <th>45.7</th>\n",
              "      <td>0.989229</td>\n",
              "      <td>1.020785</td>\n",
              "    </tr>\n",
              "    <tr>\n",
              "      <th>45.8</th>\n",
              "      <td>0.969673</td>\n",
              "      <td>1.004748</td>\n",
              "    </tr>\n",
              "    <tr>\n",
              "      <th>45.9</th>\n",
              "      <td>0.940429</td>\n",
              "      <td>0.975700</td>\n",
              "    </tr>\n",
              "    <tr>\n",
              "      <th>46.0</th>\n",
              "      <td>0.901788</td>\n",
              "      <td>0.940260</td>\n",
              "    </tr>\n",
              "    <tr>\n",
              "      <th>46.1</th>\n",
              "      <td>0.854137</td>\n",
              "      <td>0.891233</td>\n",
              "    </tr>\n",
              "    <tr>\n",
              "      <th>46.2</th>\n",
              "      <td>0.797952</td>\n",
              "      <td>0.836185</td>\n",
              "    </tr>\n",
              "    <tr>\n",
              "      <th>46.3</th>\n",
              "      <td>0.733794</td>\n",
              "      <td>0.773672</td>\n",
              "    </tr>\n",
              "    <tr>\n",
              "      <th>46.4</th>\n",
              "      <td>0.662304</td>\n",
              "      <td>0.703824</td>\n",
              "    </tr>\n",
              "    <tr>\n",
              "      <th>46.5</th>\n",
              "      <td>0.584197</td>\n",
              "      <td>0.627836</td>\n",
              "    </tr>\n",
              "    <tr>\n",
              "      <th>46.6</th>\n",
              "      <td>0.500252</td>\n",
              "      <td>0.547494</td>\n",
              "    </tr>\n",
              "    <tr>\n",
              "      <th>46.7</th>\n",
              "      <td>0.411309</td>\n",
              "      <td>0.464140</td>\n",
              "    </tr>\n",
              "    <tr>\n",
              "      <th>46.8</th>\n",
              "      <td>0.318257</td>\n",
              "      <td>0.375565</td>\n",
              "    </tr>\n",
              "    <tr>\n",
              "      <th>46.9</th>\n",
              "      <td>0.222024</td>\n",
              "      <td>0.283727</td>\n",
              "    </tr>\n",
              "    <tr>\n",
              "      <th>47.0</th>\n",
              "      <td>0.123573</td>\n",
              "      <td>0.191995</td>\n",
              "    </tr>\n",
              "    <tr>\n",
              "      <th>47.1</th>\n",
              "      <td>0.023888</td>\n",
              "      <td>0.098211</td>\n",
              "    </tr>\n",
              "    <tr>\n",
              "      <th>47.2</th>\n",
              "      <td>-0.076037</td>\n",
              "      <td>0.005138</td>\n",
              "    </tr>\n",
              "    <tr>\n",
              "      <th>47.3</th>\n",
              "      <td>-0.175201</td>\n",
              "      <td>-0.089951</td>\n",
              "    </tr>\n",
              "    <tr>\n",
              "      <th>47.4</th>\n",
              "      <td>-0.272615</td>\n",
              "      <td>-0.180663</td>\n",
              "    </tr>\n",
              "    <tr>\n",
              "      <th>47.5</th>\n",
              "      <td>-0.367305</td>\n",
              "      <td>-0.271053</td>\n",
              "    </tr>\n",
              "    <tr>\n",
              "      <th>47.6</th>\n",
              "      <td>-0.458325</td>\n",
              "      <td>-0.356350</td>\n",
              "    </tr>\n",
              "    <tr>\n",
              "      <th>47.7</th>\n",
              "      <td>-0.544766</td>\n",
              "      <td>-0.439536</td>\n",
              "    </tr>\n",
              "    <tr>\n",
              "      <th>47.8</th>\n",
              "      <td>-0.625764</td>\n",
              "      <td>-0.515249</td>\n",
              "    </tr>\n",
              "    <tr>\n",
              "      <th>47.9</th>\n",
              "      <td>-0.700509</td>\n",
              "      <td>-0.586833</td>\n",
              "    </tr>\n",
              "    <tr>\n",
              "      <th>48.0</th>\n",
              "      <td>-0.768255</td>\n",
              "      <td>-0.650915</td>\n",
              "    </tr>\n",
              "    <tr>\n",
              "      <th>48.1</th>\n",
              "      <td>-0.828324</td>\n",
              "      <td>-0.708502</td>\n",
              "    </tr>\n",
              "    <tr>\n",
              "      <th>48.2</th>\n",
              "      <td>-0.880118</td>\n",
              "      <td>-0.758859</td>\n",
              "    </tr>\n",
              "    <tr>\n",
              "      <th>48.3</th>\n",
              "      <td>-0.923117</td>\n",
              "      <td>-0.800007</td>\n",
              "    </tr>\n",
              "    <tr>\n",
              "      <th>48.4</th>\n",
              "      <td>-0.956893</td>\n",
              "      <td>-0.834091</td>\n",
              "    </tr>\n",
              "    <tr>\n",
              "      <th>48.5</th>\n",
              "      <td>-0.981108</td>\n",
              "      <td>-0.856773</td>\n",
              "    </tr>\n",
              "    <tr>\n",
              "      <th>48.6</th>\n",
              "      <td>-0.995521</td>\n",
              "      <td>-0.874135</td>\n",
              "    </tr>\n",
              "    <tr>\n",
              "      <th>48.7</th>\n",
              "      <td>-0.999986</td>\n",
              "      <td>-0.878783</td>\n",
              "    </tr>\n",
              "    <tr>\n",
              "      <th>48.8</th>\n",
              "      <td>-0.994460</td>\n",
              "      <td>-0.878154</td>\n",
              "    </tr>\n",
              "    <tr>\n",
              "      <th>48.9</th>\n",
              "      <td>-0.978997</td>\n",
              "      <td>-0.866220</td>\n",
              "    </tr>\n",
              "    <tr>\n",
              "      <th>49.0</th>\n",
              "      <td>-0.953753</td>\n",
              "      <td>-0.846994</td>\n",
              "    </tr>\n",
              "    <tr>\n",
              "      <th>49.1</th>\n",
              "      <td>-0.918979</td>\n",
              "      <td>-0.819354</td>\n",
              "    </tr>\n",
              "    <tr>\n",
              "      <th>49.2</th>\n",
              "      <td>-0.875023</td>\n",
              "      <td>-0.783348</td>\n",
              "    </tr>\n",
              "    <tr>\n",
              "      <th>49.3</th>\n",
              "      <td>-0.822324</td>\n",
              "      <td>-0.739924</td>\n",
              "    </tr>\n",
              "    <tr>\n",
              "      <th>49.4</th>\n",
              "      <td>-0.761408</td>\n",
              "      <td>-0.688153</td>\n",
              "    </tr>\n",
              "    <tr>\n",
              "      <th>49.5</th>\n",
              "      <td>-0.692885</td>\n",
              "      <td>-0.632818</td>\n",
              "    </tr>\n",
              "    <tr>\n",
              "      <th>49.6</th>\n",
              "      <td>-0.617439</td>\n",
              "      <td>-0.568170</td>\n",
              "    </tr>\n",
              "    <tr>\n",
              "      <th>49.7</th>\n",
              "      <td>-0.535823</td>\n",
              "      <td>-0.498624</td>\n",
              "    </tr>\n",
              "    <tr>\n",
              "      <th>49.8</th>\n",
              "      <td>-0.448854</td>\n",
              "      <td>-0.424203</td>\n",
              "    </tr>\n",
              "    <tr>\n",
              "      <th>49.9</th>\n",
              "      <td>-0.357400</td>\n",
              "      <td>-0.344534</td>\n",
              "    </tr>\n",
              "    <tr>\n",
              "      <th>50.0</th>\n",
              "      <td>-0.262375</td>\n",
              "      <td>-0.260605</td>\n",
              "    </tr>\n",
              "  </tbody>\n",
              "</table>\n",
              "</div>"
            ],
            "text/plain": [
              "          Sine  Predictions\n",
              "45.1  0.899097     0.918876\n",
              "45.2  0.938307     0.957245\n",
              "45.3  0.968142     0.990992\n",
              "45.4  0.988304     1.010352\n",
              "45.5  0.998591     1.028535\n",
              "45.6  0.998900     1.028301\n",
              "45.7  0.989229     1.020785\n",
              "45.8  0.969673     1.004748\n",
              "45.9  0.940429     0.975700\n",
              "46.0  0.901788     0.940260\n",
              "46.1  0.854137     0.891233\n",
              "46.2  0.797952     0.836185\n",
              "46.3  0.733794     0.773672\n",
              "46.4  0.662304     0.703824\n",
              "46.5  0.584197     0.627836\n",
              "46.6  0.500252     0.547494\n",
              "46.7  0.411309     0.464140\n",
              "46.8  0.318257     0.375565\n",
              "46.9  0.222024     0.283727\n",
              "47.0  0.123573     0.191995\n",
              "47.1  0.023888     0.098211\n",
              "47.2 -0.076037     0.005138\n",
              "47.3 -0.175201    -0.089951\n",
              "47.4 -0.272615    -0.180663\n",
              "47.5 -0.367305    -0.271053\n",
              "47.6 -0.458325    -0.356350\n",
              "47.7 -0.544766    -0.439536\n",
              "47.8 -0.625764    -0.515249\n",
              "47.9 -0.700509    -0.586833\n",
              "48.0 -0.768255    -0.650915\n",
              "48.1 -0.828324    -0.708502\n",
              "48.2 -0.880118    -0.758859\n",
              "48.3 -0.923117    -0.800007\n",
              "48.4 -0.956893    -0.834091\n",
              "48.5 -0.981108    -0.856773\n",
              "48.6 -0.995521    -0.874135\n",
              "48.7 -0.999986    -0.878783\n",
              "48.8 -0.994460    -0.878154\n",
              "48.9 -0.978997    -0.866220\n",
              "49.0 -0.953753    -0.846994\n",
              "49.1 -0.918979    -0.819354\n",
              "49.2 -0.875023    -0.783348\n",
              "49.3 -0.822324    -0.739924\n",
              "49.4 -0.761408    -0.688153\n",
              "49.5 -0.692885    -0.632818\n",
              "49.6 -0.617439    -0.568170\n",
              "49.7 -0.535823    -0.498624\n",
              "49.8 -0.448854    -0.424203\n",
              "49.9 -0.357400    -0.344534\n",
              "50.0 -0.262375    -0.260605"
            ]
          },
          "metadata": {
            "tags": []
          },
          "execution_count": 67
        }
      ]
    },
    {
      "cell_type": "code",
      "metadata": {
        "colab": {
          "base_uri": "https://localhost:8080/",
          "height": 472
        },
        "id": "y3Phwj7_hDC8",
        "outputId": "5ac08f37-6210-4db1-af8e-5f9403430437"
      },
      "source": [
        "test.plot(figsize=(12,8))"
      ],
      "execution_count": null,
      "outputs": [
        {
          "output_type": "execute_result",
          "data": {
            "text/plain": [
              "<matplotlib.axes._subplots.AxesSubplot at 0x7f3861f16b70>"
            ]
          },
          "metadata": {
            "tags": []
          },
          "execution_count": 68
        },
        {
          "output_type": "display_data",
          "data": {
            "image/png": "[encoded data removed]",
            "text/plain": [
              "<Figure size 864x576 with 1 Axes>"
            ]
          },
          "metadata": {
            "tags": [],
            "needs_background": "light"
          }
        }
      ]
    },
    {
      "cell_type": "markdown",
      "metadata": {
        "id": "9Bjocf94hJUO"
      },
      "source": [
        "## Adding in Early Stopping and Validation Generator"
      ]
    },
    {
      "cell_type": "code",
      "metadata": {
        "id": "P2tHuWI2hGaF"
      },
      "source": [
        "from tensorflow.keras.callbacks import EarlyStopping"
      ],
      "execution_count": null,
      "outputs": []
    },
    {
      "cell_type": "code",
      "metadata": {
        "id": "q48uJ8tqhK24"
      },
      "source": [
        "early_stop = EarlyStopping(monitor='val_loss',patience=2)"
      ],
      "execution_count": null,
      "outputs": []
    },
    {
      "cell_type": "code",
      "metadata": {
        "id": "Dc1FrvUxhLxK"
      },
      "source": [
        "length = 49\n",
        "generator = TimeseriesGenerator(scaled_train,scaled_train,\n",
        "                               length=length,batch_size=1)\n",
        "\n",
        "\n",
        "validation_generator = TimeseriesGenerator(scaled_test,scaled_test,\n",
        "                                          length=length,batch_size=1)"
      ],
      "execution_count": null,
      "outputs": []
    },
    {
      "cell_type": "markdown",
      "metadata": {
        "id": "Cz9UTu_khRLY"
      },
      "source": [
        "## LSTM"
      ]
    },
    {
      "cell_type": "code",
      "metadata": {
        "id": "L64eOP6rhQrh"
      },
      "source": [
        "# define model\n",
        "model = Sequential()\n",
        "\n",
        "# Simple RNN layer\n",
        "model.add(LSTM(50,input_shape=(length, n_features)))\n",
        "\n",
        "# Final Prediction\n",
        "model.add(Dense(1))\n",
        "\n",
        "model.compile(optimizer='adam', loss='mse')"
      ],
      "execution_count": null,
      "outputs": []
    },
    {
      "cell_type": "code",
      "metadata": {
        "colab": {
          "base_uri": "https://localhost:8080/"
        },
        "id": "_LNpqamNjGF_",
        "outputId": "82e03231-cf41-4937-be4b-8f6e2d47a05a"
      },
      "source": [
        "model.fit_generator(generator,epochs=20,\n",
        "                   validation_data=validation_generator,\n",
        "                   callbacks=[early_stop])"
      ],
      "execution_count": null,
      "outputs": [
        {
          "output_type": "stream",
          "text": [
            "/usr/local/lib/python3.6/dist-packages/tensorflow/python/keras/engine/training.py:1844: UserWarning: `Model.fit_generator` is deprecated and will be removed in a future version. Please use `Model.fit`, which supports generators.\n",
            "  warnings.warn('`Model.fit_generator` is deprecated and '\n"
          ],
          "name": "stderr"
        },
        {
          "output_type": "stream",
          "text": [
            "Epoch 1/20\n",
            "402/402 [==============================] - 8s 17ms/step - loss: 0.0553 - val_loss: 3.4677e-05\n",
            "Epoch 2/20\n",
            "402/402 [==============================] - 6s 15ms/step - loss: 2.0752e-04 - val_loss: 6.4261e-05\n",
            "Epoch 3/20\n",
            "402/402 [==============================] - 6s 15ms/step - loss: 1.1024e-04 - val_loss: 2.4272e-05\n",
            "Epoch 4/20\n",
            "402/402 [==============================] - 6s 15ms/step - loss: 3.5093e-04 - val_loss: 2.0209e-08\n",
            "Epoch 5/20\n",
            "402/402 [==============================] - 6s 15ms/step - loss: 5.1194e-04 - val_loss: 4.9753e-05\n",
            "Epoch 6/20\n",
            "402/402 [==============================] - 6s 16ms/step - loss: 5.3497e-05 - val_loss: 6.9098e-06\n"
          ],
          "name": "stdout"
        },
        {
          "output_type": "execute_result",
          "data": {
            "text/plain": [
              "<tensorflow.python.keras.callbacks.History at 0x7f3860ccd940>"
            ]
          },
          "metadata": {
            "tags": []
          },
          "execution_count": 73
        }
      ]
    },
    {
      "cell_type": "code",
      "metadata": {
        "id": "uxbjrJo0jFAn"
      },
      "source": [
        "test_predictions = []\n",
        "\n",
        "first_eval_batch = scaled_train[-length:]\n",
        "current_batch = first_eval_batch.reshape((1, length, n_features))\n",
        "\n",
        "for i in range(len(test)):\n",
        "    \n",
        "    # get prediction 1 time stamp ahead ([0] is for grabbing just the number instead of [array])\n",
        "    current_pred = model.predict(current_batch)[0]\n",
        "    \n",
        "    # store prediction\n",
        "    test_predictions.append(current_pred) \n",
        "    \n",
        "    # update batch to now include prediction and drop first value\n",
        "    current_batch = np.append(current_batch[:,1:,:],[[current_pred]],axis=1)"
      ],
      "execution_count": null,
      "outputs": []
    },
    {
      "cell_type": "code",
      "metadata": {
        "colab": {
          "base_uri": "https://localhost:8080/",
          "height": 597
        },
        "id": "6nM1NVWmjYR6",
        "outputId": "62368f0c-6e92-40c9-acc9-3170044b6ded"
      },
      "source": [
        "# IGNORE WARNINGS\n",
        "true_predictions = scaler.inverse_transform(test_predictions)\n",
        "test['LSTM Predictions'] = true_predictions\n",
        "test.plot(figsize=(12,8))"
      ],
      "execution_count": null,
      "outputs": [
        {
          "output_type": "stream",
          "text": [
            "/usr/local/lib/python3.6/dist-packages/ipykernel_launcher.py:3: SettingWithCopyWarning: \n",
            "A value is trying to be set on a copy of a slice from a DataFrame.\n",
            "Try using .loc[row_indexer,col_indexer] = value instead\n",
            "\n",
            "See the caveats in the documentation: https://pandas.pydata.org/pandas-docs/stable/user_guide/indexing.html#returning-a-view-versus-a-copy\n",
            "  This is separate from the ipykernel package so we can avoid doing imports until\n"
          ],
          "name": "stderr"
        },
        {
          "output_type": "execute_result",
          "data": {
            "text/plain": [
              "<matplotlib.axes._subplots.AxesSubplot at 0x7f3860a2b358>"
            ]
          },
          "metadata": {
            "tags": []
          },
          "execution_count": 75
        },
        {
          "output_type": "display_data",
          "data": {
            "image/png": "[encoded data removed]",
            "text/plain": [
              "<Figure size 864x576 with 1 Axes>"
            ]
          },
          "metadata": {
            "tags": [],
            "needs_background": "light"
          }
        }
      ]
    },
    {
      "cell_type": "markdown",
      "metadata": {
        "id": "se3E-Z2Gjd6o"
      },
      "source": [
        "# Forecasting\n",
        "\n",
        "Forecast into unknown range. We should first utilize all our data, since we are now forecasting!"
      ]
    },
    {
      "cell_type": "code",
      "metadata": {
        "id": "HemPRz7AjZiv"
      },
      "source": [
        "full_scaler = MinMaxScaler()\n",
        "scaled_full_data = full_scaler.fit_transform(df)"
      ],
      "execution_count": null,
      "outputs": []
    },
    {
      "cell_type": "code",
      "metadata": {
        "id": "aWGqnT-8jfPu"
      },
      "source": [
        "length = 50 # Length of the output sequences (in number of timesteps)\n",
        "generator = TimeseriesGenerator(scaled_full_data, scaled_full_data, length=length, batch_size=1)"
      ],
      "execution_count": null,
      "outputs": []
    },
    {
      "cell_type": "code",
      "metadata": {
        "colab": {
          "base_uri": "https://localhost:8080/"
        },
        "id": "MYCPuseHjgVA",
        "outputId": "151dbf50-5769-4358-b24e-24cb555b4fe9"
      },
      "source": [
        "model = Sequential()\n",
        "model.add(LSTM(50, input_shape=(length, n_features)))\n",
        "model.add(Dense(1))\n",
        "model.compile(optimizer='adam', loss='mse')\n",
        "model.fit_generator(generator,epochs=6)"
      ],
      "execution_count": null,
      "outputs": [
        {
          "output_type": "stream",
          "text": [
            "/usr/local/lib/python3.6/dist-packages/tensorflow/python/keras/engine/training.py:1844: UserWarning: `Model.fit_generator` is deprecated and will be removed in a future version. Please use `Model.fit`, which supports generators.\n",
            "  warnings.warn('`Model.fit_generator` is deprecated and '\n"
          ],
          "name": "stderr"
        },
        {
          "output_type": "stream",
          "text": [
            "Epoch 1/6\n",
            "451/451 [==============================] - 9s 16ms/step - loss: 0.0219\n",
            "Epoch 2/6\n",
            "451/451 [==============================] - 7s 16ms/step - loss: 1.1307e-04\n",
            "Epoch 3/6\n",
            "451/451 [==============================] - 7s 16ms/step - loss: 2.2943e-04\n",
            "Epoch 4/6\n",
            "451/451 [==============================] - 7s 15ms/step - loss: 7.2202e-05\n",
            "Epoch 5/6\n",
            "451/451 [==============================] - 7s 15ms/step - loss: 0.0011\n",
            "Epoch 6/6\n",
            "451/451 [==============================] - 7s 15ms/step - loss: 3.7217e-05\n"
          ],
          "name": "stdout"
        },
        {
          "output_type": "execute_result",
          "data": {
            "text/plain": [
              "<tensorflow.python.keras.callbacks.History at 0x7f385ed8bfd0>"
            ]
          },
          "metadata": {
            "tags": []
          },
          "execution_count": 78
        }
      ]
    },
    {
      "cell_type": "code",
      "metadata": {
        "id": "OD0rRvP8jnRW"
      },
      "source": [
        "forecast = []\n",
        "\n",
        "first_eval_batch = scaled_full_data[-length:]\n",
        "current_batch = first_eval_batch.reshape((1, length, n_features))\n",
        "\n",
        "for i in range(len(test)):\n",
        "    \n",
        "    # get prediction 1 time stamp ahead ([0] is for grabbing just the number instead of [array])\n",
        "    current_pred = model.predict(current_batch)[0]\n",
        "    \n",
        "    # store prediction\n",
        "    forecast.append(current_pred) \n",
        "    \n",
        "    # update batch to now include prediction and drop first value\n",
        "    current_batch = np.append(current_batch[:,1:,:],[[current_pred]],axis=1)"
      ],
      "execution_count": null,
      "outputs": []
    },
    {
      "cell_type": "code",
      "metadata": {
        "id": "bGx7Tx11j00t"
      },
      "source": [
        "forecast = scaler.inverse_transform(forecast)"
      ],
      "execution_count": null,
      "outputs": []
    },
    {
      "cell_type": "code",
      "metadata": {
        "colab": {
          "base_uri": "https://localhost:8080/",
          "height": 419
        },
        "id": "NQ6s16P9kE7w",
        "outputId": "dac1b491-8601-43d9-ff91-76c4aca4cd7a"
      },
      "source": [
        "df"
      ],
      "execution_count": null,
      "outputs": [
        {
          "output_type": "execute_result",
          "data": {
            "text/html": [
              "<div>\n",
              "<style scoped>\n",
              "    .dataframe tbody tr th:only-of-type {\n",
              "        vertical-align: middle;\n",
              "    }\n",
              "\n",
              "    .dataframe tbody tr th {\n",
              "        vertical-align: top;\n",
              "    }\n",
              "\n",
              "    .dataframe thead th {\n",
              "        text-align: right;\n",
              "    }\n",
              "</style>\n",
              "<table border=\"1\" class=\"dataframe\">\n",
              "  <thead>\n",
              "    <tr style=\"text-align: right;\">\n",
              "      <th></th>\n",
              "      <th>Sine</th>\n",
              "    </tr>\n",
              "  </thead>\n",
              "  <tbody>\n",
              "    <tr>\n",
              "      <th>0.0</th>\n",
              "      <td>0.000000</td>\n",
              "    </tr>\n",
              "    <tr>\n",
              "      <th>0.1</th>\n",
              "      <td>0.099833</td>\n",
              "    </tr>\n",
              "    <tr>\n",
              "      <th>0.2</th>\n",
              "      <td>0.198669</td>\n",
              "    </tr>\n",
              "    <tr>\n",
              "      <th>0.3</th>\n",
              "      <td>0.295520</td>\n",
              "    </tr>\n",
              "    <tr>\n",
              "      <th>0.4</th>\n",
              "      <td>0.389418</td>\n",
              "    </tr>\n",
              "    <tr>\n",
              "      <th>...</th>\n",
              "      <td>...</td>\n",
              "    </tr>\n",
              "    <tr>\n",
              "      <th>49.6</th>\n",
              "      <td>-0.617439</td>\n",
              "    </tr>\n",
              "    <tr>\n",
              "      <th>49.7</th>\n",
              "      <td>-0.535823</td>\n",
              "    </tr>\n",
              "    <tr>\n",
              "      <th>49.8</th>\n",
              "      <td>-0.448854</td>\n",
              "    </tr>\n",
              "    <tr>\n",
              "      <th>49.9</th>\n",
              "      <td>-0.357400</td>\n",
              "    </tr>\n",
              "    <tr>\n",
              "      <th>50.0</th>\n",
              "      <td>-0.262375</td>\n",
              "    </tr>\n",
              "  </tbody>\n",
              "</table>\n",
              "<p>501 rows × 1 columns</p>\n",
              "</div>"
            ],
            "text/plain": [
              "          Sine\n",
              "0.0   0.000000\n",
              "0.1   0.099833\n",
              "0.2   0.198669\n",
              "0.3   0.295520\n",
              "0.4   0.389418\n",
              "...        ...\n",
              "49.6 -0.617439\n",
              "49.7 -0.535823\n",
              "49.8 -0.448854\n",
              "49.9 -0.357400\n",
              "50.0 -0.262375\n",
              "\n",
              "[501 rows x 1 columns]"
            ]
          },
          "metadata": {
            "tags": []
          },
          "execution_count": 81
        }
      ]
    },
    {
      "cell_type": "code",
      "metadata": {
        "colab": {
          "base_uri": "https://localhost:8080/"
        },
        "id": "zEo7EF08kGWd",
        "outputId": "e7cf33c0-8020-4e17-e565-9b330669034c"
      },
      "source": [
        "len(forecast)"
      ],
      "execution_count": null,
      "outputs": [
        {
          "output_type": "execute_result",
          "data": {
            "text/plain": [
              "50"
            ]
          },
          "metadata": {
            "tags": []
          },
          "execution_count": 82
        }
      ]
    },
    {
      "cell_type": "code",
      "metadata": {
        "colab": {
          "base_uri": "https://localhost:8080/"
        },
        "id": "QiXr6ByAkHYl",
        "outputId": "971b1c63-a45d-4122-82b8-5e331a943318"
      },
      "source": [
        "50*0.1"
      ],
      "execution_count": null,
      "outputs": [
        {
          "output_type": "execute_result",
          "data": {
            "text/plain": [
              "5.0"
            ]
          },
          "metadata": {
            "tags": []
          },
          "execution_count": 83
        }
      ]
    },
    {
      "cell_type": "code",
      "metadata": {
        "id": "LSDsPWn3kIx9"
      },
      "source": [
        "forecast_index = np.arange(50.1,55.1,step=0.1)"
      ],
      "execution_count": null,
      "outputs": []
    },
    {
      "cell_type": "code",
      "metadata": {
        "colab": {
          "base_uri": "https://localhost:8080/"
        },
        "id": "e38d8jX6kJ2s",
        "outputId": "b9163b84-e12b-4324-8612-c4a6736cfeca"
      },
      "source": [
        "len(forecast_index)"
      ],
      "execution_count": null,
      "outputs": [
        {
          "output_type": "execute_result",
          "data": {
            "text/plain": [
              "50"
            ]
          },
          "metadata": {
            "tags": []
          },
          "execution_count": 85
        }
      ]
    },
    {
      "cell_type": "code",
      "metadata": {
        "colab": {
          "base_uri": "https://localhost:8080/",
          "height": 282
        },
        "id": "uBOAtlJLkLG3",
        "outputId": "be16733b-085f-4da9-f4c3-a57b3239bd79"
      },
      "source": [
        "plt.plot(df.index,df['Sine'])\n",
        "plt.plot(forecast_index,forecast)"
      ],
      "execution_count": null,
      "outputs": [
        {
          "output_type": "execute_result",
          "data": {
            "text/plain": [
              "[<matplotlib.lines.Line2D at 0x7f385f071b70>]"
            ]
          },
          "metadata": {
            "tags": []
          },
          "execution_count": 86
        },
        {
          "output_type": "display_data",
          "data": {
            "image/png": "[encoded data removed]",
            "text/plain": [
              "<Figure size 432x288 with 1 Axes>"
            ]
          },
          "metadata": {
            "tags": [],
            "needs_background": "light"
          }
        }
      ]
    }
  ]
}