{
  "nbformat": 4,
  "nbformat_minor": 0,
  "metadata": {
    "kernelspec": {
      "display_name": "Python 3",
      "language": "python",
      "name": "python3"
    },
    "language_info": {
      "codemirror_mode": {
        "name": "ipython",
        "version": 3
      },
      "file_extension": ".py",
      "mimetype": "text/x-python",
      "name": "python",
      "nbconvert_exporter": "python",
      "pygments_lexer": "ipython3",
      "version": "3.7.4"
    },
    "colab": {
      "name": "Tensorboard.ipynb",
      "provenance": [],
      "collapsed_sections": [],
      "toc_visible": true
    }
  },
  "cells": [
    {
      "cell_type": "markdown",
      "metadata": {
        "id": "rayoRxCCQZ22"
      },
      "source": [
        "# Tensorboard\n",
        "\n",
        "Let's explore the built in data visualization capabilities that come with Tensorboard.\n",
        "\n",
        "Full official tutorial available here: https://www.tensorflow.org/tensorboard/get_started\n",
        "\n",
        "## Data"
      ]
    },
    {
      "cell_type": "code",
      "metadata": {
        "id": "fz_j4s_fQZ23"
      },
      "source": [
        "import pandas as pd\n",
        "import numpy as np"
      ],
      "execution_count": 3,
      "outputs": []
    },
    {
      "cell_type": "code",
      "metadata": {
        "id": "3vqHYTj6QZ23"
      },
      "source": [
        "df = pd.read_csv('/content/cancer_classification.csv')"
      ],
      "execution_count": 4,
      "outputs": []
    },
    {
      "cell_type": "markdown",
      "metadata": {
        "id": "hM4l2KPZQZ24"
      },
      "source": [
        "### Train Test Split"
      ]
    },
    {
      "cell_type": "code",
      "metadata": {
        "id": "qFdw6dC4QZ24"
      },
      "source": [
        "X = df.drop('benign_0__mal_1',axis=1).values\n",
        "y = df['benign_0__mal_1'].values"
      ],
      "execution_count": 5,
      "outputs": []
    },
    {
      "cell_type": "code",
      "metadata": {
        "id": "mCE0lxssQZ25"
      },
      "source": [
        "from sklearn.model_selection import train_test_split"
      ],
      "execution_count": 6,
      "outputs": []
    },
    {
      "cell_type": "code",
      "metadata": {
        "id": "EWFVx0voQZ25"
      },
      "source": [
        "X_train, X_test, y_train, y_test = train_test_split(X,y,test_size=0.25,random_state=101)"
      ],
      "execution_count": 7,
      "outputs": []
    },
    {
      "cell_type": "markdown",
      "metadata": {
        "id": "lSxBHBcVQZ25"
      },
      "source": [
        "\n",
        "### Scaling Data"
      ]
    },
    {
      "cell_type": "code",
      "metadata": {
        "id": "75VYJh27QZ26"
      },
      "source": [
        "from sklearn.preprocessing import MinMaxScaler"
      ],
      "execution_count": 8,
      "outputs": []
    },
    {
      "cell_type": "code",
      "metadata": {
        "id": "nepPqJVvQZ26"
      },
      "source": [
        "scaler = MinMaxScaler()"
      ],
      "execution_count": 9,
      "outputs": []
    },
    {
      "cell_type": "code",
      "metadata": {
        "colab": {
          "base_uri": "https://localhost:8080/"
        },
        "id": "EARMh9rfQZ26",
        "outputId": "9e0cfa1c-e1b9-4a20-d863-108558f56e12"
      },
      "source": [
        "scaler.fit(X_train)"
      ],
      "execution_count": 10,
      "outputs": [
        {
          "output_type": "execute_result",
          "data": {
            "text/plain": [
              "MinMaxScaler(copy=True, feature_range=(0, 1))"
            ]
          },
          "metadata": {
            "tags": []
          },
          "execution_count": 10
        }
      ]
    },
    {
      "cell_type": "code",
      "metadata": {
        "id": "ikrPgbzIQZ27"
      },
      "source": [
        "X_train = scaler.transform(X_train)\n",
        "X_test = scaler.transform(X_test)"
      ],
      "execution_count": 11,
      "outputs": []
    },
    {
      "cell_type": "markdown",
      "metadata": {
        "id": "YllFYEjxQZ27"
      },
      "source": [
        "## Creating the Model"
      ]
    },
    {
      "cell_type": "code",
      "metadata": {
        "id": "u4kIpReTQZ28"
      },
      "source": [
        "import tensorflow as tf\n",
        "from tensorflow.keras.models import Sequential\n",
        "from tensorflow.keras.layers import Dense, Activation,Dropout"
      ],
      "execution_count": 12,
      "outputs": []
    },
    {
      "cell_type": "code",
      "metadata": {
        "id": "0GXk_ekUQZ28"
      },
      "source": [
        "from tensorflow.keras.callbacks import EarlyStopping,TensorBoard"
      ],
      "execution_count": 13,
      "outputs": []
    },
    {
      "cell_type": "code",
      "metadata": {
        "id": "no1mLr-VQZ28"
      },
      "source": [
        "early_stop = EarlyStopping(monitor='val_loss', mode='min', verbose=1, patience=25)"
      ],
      "execution_count": 14,
      "outputs": []
    },
    {
      "cell_type": "code",
      "metadata": {
        "colab": {
          "base_uri": "https://localhost:8080/",
          "height": 37
        },
        "id": "satwiWX-QZ29",
        "outputId": "d889963b-997a-4c20-b342-1aea285755ac"
      },
      "source": [
        "pwd"
      ],
      "execution_count": 15,
      "outputs": [
        {
          "output_type": "execute_result",
          "data": {
            "application/vnd.google.colaboratory.intrinsic+json": {
              "type": "string"
            },
            "text/plain": [
              "'/content'"
            ]
          },
          "metadata": {
            "tags": []
          },
          "execution_count": 15
        }
      ]
    },
    {
      "cell_type": "code",
      "metadata": {
        "colab": {
          "base_uri": "https://localhost:8080/"
        },
        "id": "FTHgY2y2TuZt",
        "outputId": "6b3a2735-fc7a-4d9c-ce86-33451e165629"
      },
      "source": [
        "!pip install Tensorboard"
      ],
      "execution_count": 31,
      "outputs": [
        {
          "output_type": "stream",
          "text": [
            "Requirement already satisfied: Tensorboard in /usr/local/lib/python3.6/dist-packages (2.4.1)\n",
            "Requirement already satisfied: absl-py>=0.4 in /usr/local/lib/python3.6/dist-packages (from Tensorboard) (0.10.0)\n",
            "Requirement already satisfied: grpcio>=1.24.3 in /usr/local/lib/python3.6/dist-packages (from Tensorboard) (1.32.0)\n",
            "Requirement already satisfied: markdown>=2.6.8 in /usr/local/lib/python3.6/dist-packages (from Tensorboard) (3.3.3)\n",
            "Requirement already satisfied: numpy>=1.12.0 in /usr/local/lib/python3.6/dist-packages (from Tensorboard) (1.19.5)\n",
            "Requirement already satisfied: requests<3,>=2.21.0 in /usr/local/lib/python3.6/dist-packages (from Tensorboard) (2.23.0)\n",
            "Requirement already satisfied: google-auth-oauthlib<0.5,>=0.4.1 in /usr/local/lib/python3.6/dist-packages (from Tensorboard) (0.4.2)\n",
            "Requirement already satisfied: werkzeug>=0.11.15 in /usr/local/lib/python3.6/dist-packages (from Tensorboard) (1.0.1)\n",
            "Requirement already satisfied: google-auth<2,>=1.6.3 in /usr/local/lib/python3.6/dist-packages (from Tensorboard) (1.24.0)\n",
            "Requirement already satisfied: setuptools>=41.0.0 in /usr/local/lib/python3.6/dist-packages (from Tensorboard) (53.0.0)\n",
            "Requirement already satisfied: wheel>=0.26; python_version >= \"3\" in /usr/local/lib/python3.6/dist-packages (from Tensorboard) (0.36.2)\n",
            "Requirement already satisfied: tensorboard-plugin-wit>=1.6.0 in /usr/local/lib/python3.6/dist-packages (from Tensorboard) (1.8.0)\n",
            "Requirement already satisfied: protobuf>=3.6.0 in /usr/local/lib/python3.6/dist-packages (from Tensorboard) (3.12.4)\n",
            "Requirement already satisfied: six>=1.10.0 in /usr/local/lib/python3.6/dist-packages (from Tensorboard) (1.15.0)\n",
            "Requirement already satisfied: importlib-metadata; python_version < \"3.8\" in /usr/local/lib/python3.6/dist-packages (from markdown>=2.6.8->Tensorboard) (3.4.0)\n",
            "Requirement already satisfied: chardet<4,>=3.0.2 in /usr/local/lib/python3.6/dist-packages (from requests<3,>=2.21.0->Tensorboard) (3.0.4)\n",
            "Requirement already satisfied: certifi>=2017.4.17 in /usr/local/lib/python3.6/dist-packages (from requests<3,>=2.21.0->Tensorboard) (2020.12.5)\n",
            "Requirement already satisfied: urllib3!=1.25.0,!=1.25.1,<1.26,>=1.21.1 in /usr/local/lib/python3.6/dist-packages (from requests<3,>=2.21.0->Tensorboard) (1.24.3)\n",
            "Requirement already satisfied: idna<3,>=2.5 in /usr/local/lib/python3.6/dist-packages (from requests<3,>=2.21.0->Tensorboard) (2.10)\n",
            "Requirement already satisfied: requests-oauthlib>=0.7.0 in /usr/local/lib/python3.6/dist-packages (from google-auth-oauthlib<0.5,>=0.4.1->Tensorboard) (1.3.0)\n",
            "Requirement already satisfied: pyasn1-modules>=0.2.1 in /usr/local/lib/python3.6/dist-packages (from google-auth<2,>=1.6.3->Tensorboard) (0.2.8)\n",
            "Requirement already satisfied: rsa<5,>=3.1.4; python_version >= \"3.6\" in /usr/local/lib/python3.6/dist-packages (from google-auth<2,>=1.6.3->Tensorboard) (4.7)\n",
            "Requirement already satisfied: cachetools<5.0,>=2.0.0 in /usr/local/lib/python3.6/dist-packages (from google-auth<2,>=1.6.3->Tensorboard) (4.2.1)\n",
            "Requirement already satisfied: zipp>=0.5 in /usr/local/lib/python3.6/dist-packages (from importlib-metadata; python_version < \"3.8\"->markdown>=2.6.8->Tensorboard) (3.4.0)\n",
            "Requirement already satisfied: typing-extensions>=3.6.4; python_version < \"3.8\" in /usr/local/lib/python3.6/dist-packages (from importlib-metadata; python_version < \"3.8\"->markdown>=2.6.8->Tensorboard) (3.7.4.3)\n",
            "Requirement already satisfied: oauthlib>=3.0.0 in /usr/local/lib/python3.6/dist-packages (from requests-oauthlib>=0.7.0->google-auth-oauthlib<0.5,>=0.4.1->Tensorboard) (3.1.0)\n",
            "Requirement already satisfied: pyasn1<0.5.0,>=0.4.6 in /usr/local/lib/python3.6/dist-packages (from pyasn1-modules>=0.2.1->google-auth<2,>=1.6.3->Tensorboard) (0.4.8)\n"
          ],
          "name": "stdout"
        }
      ]
    },
    {
      "cell_type": "code",
      "metadata": {
        "id": "xB5l-f3FTyMI"
      },
      "source": [
        "import tensorboard"
      ],
      "execution_count": 32,
      "outputs": []
    },
    {
      "cell_type": "markdown",
      "metadata": {
        "id": "lRqzeuauQZ29"
      },
      "source": [
        "## Creating the Tensorboard Callback\n",
        "\n",
        "TensorBoard is a visualization tool provided with TensorFlow.\n",
        "\n",
        "This callback logs events for TensorBoard, including:\n",
        "* Metrics summary plots\n",
        "* Training graph visualization\n",
        "* Activation histograms\n",
        "* Sampled profiling\n",
        "\n",
        "If you have installed TensorFlow with pip, you should be able\n",
        "to launch TensorBoard from the command line:\n",
        "\n",
        "```sh\n",
        "tensorboard --logdir=path_to_your_logs\n",
        "```\n",
        "\n",
        "You can find more information about TensorBoard\n",
        "[here](https://www.tensorflow.org/tensorboard/).\n",
        "\n",
        "    Arguments:\n",
        "        log_dir: the path of the directory where to save the log files to be\n",
        "          parsed by TensorBoard.\n",
        "        histogram_freq: frequency (in epochs) at which to compute activation and\n",
        "          weight histograms for the layers of the model. If set to 0, histograms\n",
        "          won't be computed. Validation data (or split) must be specified for\n",
        "          histogram visualizations.\n",
        "        write_graph: whether to visualize the graph in TensorBoard. The log file\n",
        "          can become quite large when write_graph is set to True.\n",
        "        write_images: whether to write model weights to visualize as image in\n",
        "          TensorBoard.\n",
        "        update_freq: `'batch'` or `'epoch'` or integer. When using `'batch'`,\n",
        "          writes the losses and metrics to TensorBoard after each batch. The same\n",
        "          applies for `'epoch'`. If using an integer, let's say `1000`, the\n",
        "          callback will write the metrics and losses to TensorBoard every 1000\n",
        "          samples. Note that writing too frequently to TensorBoard can slow down\n",
        "          your training.\n",
        "        profile_batch: Profile the batch to sample compute characteristics. By\n",
        "          default, it will profile the second batch. Set profile_batch=0 to\n",
        "          disable profiling. Must run in TensorFlow eager mode.\n",
        "        embeddings_freq: frequency (in epochs) at which embedding layers will\n",
        "          be visualized. If set to 0, embeddings won't be visualized.\n",
        "       "
      ]
    },
    {
      "cell_type": "code",
      "metadata": {
        "id": "zGZ5KEWoQZ2-"
      },
      "source": [
        "from datetime import datetime"
      ],
      "execution_count": 16,
      "outputs": []
    },
    {
      "cell_type": "code",
      "metadata": {
        "colab": {
          "base_uri": "https://localhost:8080/",
          "height": 37
        },
        "id": "pUWrOzrYQZ2-",
        "outputId": "be19037d-07a6-4753-b937-165d7f08b79b"
      },
      "source": [
        "datetime.now().strftime(\"%Y-%m-%d--%H%M\")"
      ],
      "execution_count": 17,
      "outputs": [
        {
          "output_type": "execute_result",
          "data": {
            "application/vnd.google.colaboratory.intrinsic+json": {
              "type": "string"
            },
            "text/plain": [
              "'2021-02-08--1055'"
            ]
          },
          "metadata": {
            "tags": []
          },
          "execution_count": 17
        }
      ]
    },
    {
      "cell_type": "code",
      "metadata": {
        "id": "YD7qHOccQZ2-"
      },
      "source": [
        "# WINDOWS: Use \"logs\\\\fit\"\n",
        "# MACOS/LINUX: Use \"logs\\fit\"\n",
        "\n",
        "log_directory = 'logs\\\\fit'\n",
        "\n",
        "# OPTIONAL: ADD A TIMESTAMP FOR UNIQUE FOLDER\n",
        "# timestamp = datetime.now().strftime(\"%Y-%m-%d--%H%M\")\n",
        "# log_directory = log_directory + '\\\\' + timestamp\n",
        "\n",
        "\n",
        "board = TensorBoard(log_dir=log_directory,histogram_freq=1,\n",
        "    write_graph=True,\n",
        "    write_images=True,\n",
        "    update_freq='epoch',\n",
        "    profile_batch=2,\n",
        "    embeddings_freq=1)"
      ],
      "execution_count": 18,
      "outputs": []
    },
    {
      "cell_type": "markdown",
      "metadata": {
        "id": "UsSDjTMJQZ2_"
      },
      "source": [
        "Now create the model layers:"
      ]
    },
    {
      "cell_type": "code",
      "metadata": {
        "id": "p9S1gKOTQZ2_"
      },
      "source": [
        "model = Sequential()\n",
        "model.add(Dense(units=30,activation='relu'))\n",
        "model.add(Dropout(0.5))\n",
        "model.add(Dense(units=15,activation='relu'))\n",
        "model.add(Dropout(0.5))\n",
        "model.add(Dense(units=1,activation='sigmoid'))\n",
        "model.compile(loss='binary_crossentropy', optimizer='adam')"
      ],
      "execution_count": 19,
      "outputs": []
    },
    {
      "cell_type": "markdown",
      "metadata": {
        "id": "kI2IjquKQZ2_"
      },
      "source": [
        "## Train the Model"
      ]
    },
    {
      "cell_type": "code",
      "metadata": {
        "colab": {
          "base_uri": "https://localhost:8080/"
        },
        "id": "FKHQSlYxQZ2_",
        "outputId": "6170f562-7829-4a42-dfbe-0d592a55bc40"
      },
      "source": [
        "model.fit(x=X_train, \n",
        "          y=y_train, \n",
        "          epochs=600,\n",
        "          validation_data=(X_test, y_test), verbose=1,\n",
        "          callbacks=[early_stop,board]\n",
        "          )"
      ],
      "execution_count": 20,
      "outputs": [
        {
          "output_type": "stream",
          "text": [
            "Epoch 1/600\n",
            "14/14 [==============================] - 1s 38ms/step - loss: 0.7017 - val_loss: 0.6927\n",
            "Epoch 2/600\n",
            "14/14 [==============================] - 0s 5ms/step - loss: 0.6821 - val_loss: 0.6781\n",
            "Epoch 3/600\n",
            "14/14 [==============================] - 0s 5ms/step - loss: 0.6671 - val_loss: 0.6676\n",
            "Epoch 4/600\n",
            "14/14 [==============================] - 0s 14ms/step - loss: 0.6787 - val_loss: 0.6556\n",
            "Epoch 5/600\n",
            "14/14 [==============================] - 0s 5ms/step - loss: 0.6556 - val_loss: 0.6417\n",
            "Epoch 6/600\n",
            "14/14 [==============================] - 0s 4ms/step - loss: 0.6468 - val_loss: 0.6270\n",
            "Epoch 7/600\n",
            "14/14 [==============================] - 0s 4ms/step - loss: 0.6308 - val_loss: 0.6115\n",
            "Epoch 8/600\n",
            "14/14 [==============================] - 0s 5ms/step - loss: 0.6219 - val_loss: 0.5964\n",
            "Epoch 9/600\n",
            "14/14 [==============================] - 0s 4ms/step - loss: 0.6108 - val_loss: 0.5802\n",
            "Epoch 10/600\n",
            "14/14 [==============================] - 0s 4ms/step - loss: 0.6030 - val_loss: 0.5622\n",
            "Epoch 11/600\n",
            "14/14 [==============================] - 0s 5ms/step - loss: 0.5734 - val_loss: 0.5398\n",
            "Epoch 12/600\n",
            "14/14 [==============================] - 0s 5ms/step - loss: 0.5479 - val_loss: 0.5142\n",
            "Epoch 13/600\n",
            "14/14 [==============================] - 0s 5ms/step - loss: 0.5524 - val_loss: 0.4896\n",
            "Epoch 14/600\n",
            "14/14 [==============================] - 0s 5ms/step - loss: 0.5141 - val_loss: 0.4564\n",
            "Epoch 15/600\n",
            "14/14 [==============================] - 0s 4ms/step - loss: 0.4862 - val_loss: 0.4244\n",
            "Epoch 16/600\n",
            "14/14 [==============================] - 0s 5ms/step - loss: 0.4880 - val_loss: 0.3982\n",
            "Epoch 17/600\n",
            "14/14 [==============================] - 0s 5ms/step - loss: 0.4445 - val_loss: 0.3678\n",
            "Epoch 18/600\n",
            "14/14 [==============================] - 0s 5ms/step - loss: 0.3960 - val_loss: 0.3379\n",
            "Epoch 19/600\n",
            "14/14 [==============================] - 0s 4ms/step - loss: 0.4103 - val_loss: 0.3023\n",
            "Epoch 20/600\n",
            "14/14 [==============================] - 0s 5ms/step - loss: 0.3792 - val_loss: 0.2816\n",
            "Epoch 21/600\n",
            "14/14 [==============================] - 0s 5ms/step - loss: 0.3771 - val_loss: 0.2615\n",
            "Epoch 22/600\n",
            "14/14 [==============================] - 0s 4ms/step - loss: 0.3471 - val_loss: 0.2375\n",
            "Epoch 23/600\n",
            "14/14 [==============================] - 0s 5ms/step - loss: 0.3441 - val_loss: 0.2252\n",
            "Epoch 24/600\n",
            "14/14 [==============================] - 0s 5ms/step - loss: 0.3172 - val_loss: 0.2245\n",
            "Epoch 25/600\n",
            "14/14 [==============================] - 0s 4ms/step - loss: 0.3163 - val_loss: 0.2074\n",
            "Epoch 26/600\n",
            "14/14 [==============================] - 0s 5ms/step - loss: 0.3181 - val_loss: 0.2023\n",
            "Epoch 27/600\n",
            "14/14 [==============================] - 0s 5ms/step - loss: 0.2939 - val_loss: 0.1906\n",
            "Epoch 28/600\n",
            "14/14 [==============================] - 0s 5ms/step - loss: 0.2818 - val_loss: 0.1785\n",
            "Epoch 29/600\n",
            "14/14 [==============================] - 0s 4ms/step - loss: 0.2918 - val_loss: 0.1695\n",
            "Epoch 30/600\n",
            "14/14 [==============================] - 0s 5ms/step - loss: 0.2726 - val_loss: 0.1707\n",
            "Epoch 31/600\n",
            "14/14 [==============================] - 0s 5ms/step - loss: 0.2467 - val_loss: 0.1606\n",
            "Epoch 32/600\n",
            "14/14 [==============================] - 0s 5ms/step - loss: 0.2553 - val_loss: 0.1552\n",
            "Epoch 33/600\n",
            "14/14 [==============================] - 0s 5ms/step - loss: 0.2562 - val_loss: 0.1612\n",
            "Epoch 34/600\n",
            "14/14 [==============================] - 0s 5ms/step - loss: 0.2149 - val_loss: 0.1463\n",
            "Epoch 35/600\n",
            "14/14 [==============================] - 0s 5ms/step - loss: 0.2281 - val_loss: 0.1435\n",
            "Epoch 36/600\n",
            "14/14 [==============================] - 0s 4ms/step - loss: 0.2481 - val_loss: 0.1477\n",
            "Epoch 37/600\n",
            "14/14 [==============================] - 0s 5ms/step - loss: 0.2334 - val_loss: 0.1316\n",
            "Epoch 38/600\n",
            "14/14 [==============================] - 0s 5ms/step - loss: 0.2005 - val_loss: 0.1314\n",
            "Epoch 39/600\n",
            "14/14 [==============================] - 0s 5ms/step - loss: 0.2067 - val_loss: 0.1352\n",
            "Epoch 40/600\n",
            "14/14 [==============================] - 0s 5ms/step - loss: 0.2382 - val_loss: 0.1286\n",
            "Epoch 41/600\n",
            "14/14 [==============================] - 0s 5ms/step - loss: 0.1809 - val_loss: 0.1252\n",
            "Epoch 42/600\n",
            "14/14 [==============================] - 0s 4ms/step - loss: 0.1701 - val_loss: 0.1307\n",
            "Epoch 43/600\n",
            "14/14 [==============================] - 0s 5ms/step - loss: 0.1982 - val_loss: 0.1225\n",
            "Epoch 44/600\n",
            "14/14 [==============================] - 0s 5ms/step - loss: 0.1611 - val_loss: 0.1117\n",
            "Epoch 45/600\n",
            "14/14 [==============================] - 0s 5ms/step - loss: 0.1826 - val_loss: 0.1145\n",
            "Epoch 46/600\n",
            "14/14 [==============================] - 0s 5ms/step - loss: 0.1957 - val_loss: 0.1224\n",
            "Epoch 47/600\n",
            "14/14 [==============================] - 0s 14ms/step - loss: 0.1499 - val_loss: 0.1113\n",
            "Epoch 48/600\n",
            "14/14 [==============================] - 0s 5ms/step - loss: 0.1780 - val_loss: 0.1198\n",
            "Epoch 49/600\n",
            "14/14 [==============================] - 0s 5ms/step - loss: 0.1844 - val_loss: 0.1181\n",
            "Epoch 50/600\n",
            "14/14 [==============================] - 0s 5ms/step - loss: 0.1737 - val_loss: 0.1092\n",
            "Epoch 51/600\n",
            "14/14 [==============================] - 0s 5ms/step - loss: 0.1889 - val_loss: 0.1086\n",
            "Epoch 52/600\n",
            "14/14 [==============================] - 0s 4ms/step - loss: 0.1657 - val_loss: 0.1120\n",
            "Epoch 53/600\n",
            "14/14 [==============================] - 0s 5ms/step - loss: 0.1623 - val_loss: 0.1013\n",
            "Epoch 54/600\n",
            "14/14 [==============================] - 0s 5ms/step - loss: 0.1755 - val_loss: 0.1027\n",
            "Epoch 55/600\n",
            "14/14 [==============================] - 0s 4ms/step - loss: 0.1637 - val_loss: 0.0989\n",
            "Epoch 56/600\n",
            "14/14 [==============================] - 0s 4ms/step - loss: 0.1807 - val_loss: 0.1187\n",
            "Epoch 57/600\n",
            "14/14 [==============================] - 0s 5ms/step - loss: 0.1461 - val_loss: 0.1007\n",
            "Epoch 58/600\n",
            "14/14 [==============================] - 0s 5ms/step - loss: 0.1592 - val_loss: 0.0995\n",
            "Epoch 59/600\n",
            "14/14 [==============================] - 0s 5ms/step - loss: 0.1695 - val_loss: 0.0999\n",
            "Epoch 60/600\n",
            "14/14 [==============================] - 0s 5ms/step - loss: 0.1450 - val_loss: 0.1015\n",
            "Epoch 61/600\n",
            "14/14 [==============================] - 0s 4ms/step - loss: 0.1299 - val_loss: 0.1044\n",
            "Epoch 62/600\n",
            "14/14 [==============================] - 0s 5ms/step - loss: 0.1666 - val_loss: 0.0985\n",
            "Epoch 63/600\n",
            "14/14 [==============================] - 0s 4ms/step - loss: 0.1494 - val_loss: 0.0999\n",
            "Epoch 64/600\n",
            "14/14 [==============================] - 0s 4ms/step - loss: 0.1444 - val_loss: 0.1016\n",
            "Epoch 65/600\n",
            "14/14 [==============================] - 0s 5ms/step - loss: 0.1138 - val_loss: 0.0993\n",
            "Epoch 66/600\n",
            "14/14 [==============================] - 0s 5ms/step - loss: 0.1326 - val_loss: 0.0991\n",
            "Epoch 67/600\n",
            "14/14 [==============================] - 0s 5ms/step - loss: 0.1342 - val_loss: 0.0936\n",
            "Epoch 68/600\n",
            "14/14 [==============================] - 0s 6ms/step - loss: 0.1321 - val_loss: 0.0953\n",
            "Epoch 69/600\n",
            "14/14 [==============================] - 0s 5ms/step - loss: 0.1202 - val_loss: 0.0961\n",
            "Epoch 70/600\n",
            "14/14 [==============================] - 0s 5ms/step - loss: 0.0955 - val_loss: 0.0901\n",
            "Epoch 71/600\n",
            "14/14 [==============================] - 0s 5ms/step - loss: 0.1420 - val_loss: 0.0952\n",
            "Epoch 72/600\n",
            "14/14 [==============================] - 0s 5ms/step - loss: 0.1287 - val_loss: 0.0890\n",
            "Epoch 73/600\n",
            "14/14 [==============================] - 0s 5ms/step - loss: 0.1336 - val_loss: 0.0942\n",
            "Epoch 74/600\n",
            "14/14 [==============================] - 0s 5ms/step - loss: 0.1066 - val_loss: 0.0990\n",
            "Epoch 75/600\n",
            "14/14 [==============================] - 0s 4ms/step - loss: 0.1042 - val_loss: 0.0951\n",
            "Epoch 76/600\n",
            "14/14 [==============================] - 0s 4ms/step - loss: 0.1048 - val_loss: 0.0941\n",
            "Epoch 77/600\n",
            "14/14 [==============================] - 0s 5ms/step - loss: 0.1088 - val_loss: 0.0900\n",
            "Epoch 78/600\n",
            "14/14 [==============================] - 0s 5ms/step - loss: 0.1167 - val_loss: 0.1029\n",
            "Epoch 79/600\n",
            "14/14 [==============================] - 0s 5ms/step - loss: 0.1146 - val_loss: 0.0858\n",
            "Epoch 80/600\n",
            "14/14 [==============================] - 0s 4ms/step - loss: 0.1456 - val_loss: 0.0896\n",
            "Epoch 81/600\n",
            "14/14 [==============================] - 0s 5ms/step - loss: 0.0948 - val_loss: 0.0924\n",
            "Epoch 82/600\n",
            "14/14 [==============================] - 0s 5ms/step - loss: 0.1125 - val_loss: 0.0862\n",
            "Epoch 83/600\n",
            "14/14 [==============================] - 0s 5ms/step - loss: 0.1031 - val_loss: 0.0885\n",
            "Epoch 84/600\n",
            "14/14 [==============================] - 0s 5ms/step - loss: 0.1287 - val_loss: 0.0923\n",
            "Epoch 85/600\n",
            "14/14 [==============================] - 0s 5ms/step - loss: 0.0946 - val_loss: 0.0856\n",
            "Epoch 86/600\n",
            "14/14 [==============================] - 0s 5ms/step - loss: 0.1343 - val_loss: 0.0895\n",
            "Epoch 87/600\n",
            "14/14 [==============================] - 0s 5ms/step - loss: 0.1223 - val_loss: 0.0923\n",
            "Epoch 88/600\n",
            "14/14 [==============================] - 0s 4ms/step - loss: 0.1380 - val_loss: 0.0854\n",
            "Epoch 89/600\n",
            "14/14 [==============================] - 0s 4ms/step - loss: 0.0933 - val_loss: 0.0931\n",
            "Epoch 90/600\n",
            "14/14 [==============================] - 0s 5ms/step - loss: 0.0987 - val_loss: 0.1121\n",
            "Epoch 91/600\n",
            "14/14 [==============================] - 0s 5ms/step - loss: 0.0908 - val_loss: 0.0939\n",
            "Epoch 92/600\n",
            "14/14 [==============================] - 0s 5ms/step - loss: 0.1083 - val_loss: 0.0885\n",
            "Epoch 93/600\n",
            "14/14 [==============================] - 0s 4ms/step - loss: 0.1147 - val_loss: 0.0902\n",
            "Epoch 94/600\n",
            "14/14 [==============================] - 0s 4ms/step - loss: 0.1036 - val_loss: 0.1001\n",
            "Epoch 95/600\n",
            "14/14 [==============================] - 0s 5ms/step - loss: 0.1378 - val_loss: 0.1065\n",
            "Epoch 96/600\n",
            "14/14 [==============================] - 0s 5ms/step - loss: 0.0996 - val_loss: 0.0853\n",
            "Epoch 97/600\n",
            "14/14 [==============================] - 0s 4ms/step - loss: 0.0868 - val_loss: 0.0911\n",
            "Epoch 98/600\n",
            "14/14 [==============================] - 0s 5ms/step - loss: 0.1189 - val_loss: 0.0910\n",
            "Epoch 99/600\n",
            "14/14 [==============================] - 0s 4ms/step - loss: 0.0995 - val_loss: 0.0856\n",
            "Epoch 100/600\n",
            "14/14 [==============================] - 0s 5ms/step - loss: 0.1545 - val_loss: 0.0969\n",
            "Epoch 101/600\n",
            "14/14 [==============================] - 0s 13ms/step - loss: 0.0758 - val_loss: 0.0869\n",
            "Epoch 102/600\n",
            "14/14 [==============================] - 0s 4ms/step - loss: 0.0688 - val_loss: 0.0878\n",
            "Epoch 103/600\n",
            "14/14 [==============================] - 0s 5ms/step - loss: 0.0948 - val_loss: 0.0892\n",
            "Epoch 104/600\n",
            "14/14 [==============================] - 0s 5ms/step - loss: 0.1020 - val_loss: 0.0888\n",
            "Epoch 105/600\n",
            "14/14 [==============================] - 0s 5ms/step - loss: 0.1067 - val_loss: 0.0913\n",
            "Epoch 106/600\n",
            "14/14 [==============================] - 0s 4ms/step - loss: 0.1068 - val_loss: 0.1008\n",
            "Epoch 107/600\n",
            "14/14 [==============================] - 0s 5ms/step - loss: 0.1053 - val_loss: 0.0963\n",
            "Epoch 108/600\n",
            "14/14 [==============================] - 0s 4ms/step - loss: 0.0989 - val_loss: 0.0894\n",
            "Epoch 109/600\n",
            "14/14 [==============================] - 0s 5ms/step - loss: 0.0849 - val_loss: 0.0989\n",
            "Epoch 110/600\n",
            "14/14 [==============================] - 0s 5ms/step - loss: 0.0671 - val_loss: 0.1151\n",
            "Epoch 111/600\n",
            "14/14 [==============================] - 0s 5ms/step - loss: 0.0770 - val_loss: 0.0883\n",
            "Epoch 112/600\n",
            "14/14 [==============================] - 0s 4ms/step - loss: 0.1265 - val_loss: 0.1010\n",
            "Epoch 113/600\n",
            "14/14 [==============================] - 0s 4ms/step - loss: 0.1005 - val_loss: 0.0896\n",
            "Epoch 114/600\n",
            "14/14 [==============================] - 0s 5ms/step - loss: 0.0893 - val_loss: 0.0928\n",
            "Epoch 115/600\n",
            "14/14 [==============================] - 0s 5ms/step - loss: 0.0784 - val_loss: 0.1015\n",
            "Epoch 116/600\n",
            "14/14 [==============================] - 0s 4ms/step - loss: 0.0820 - val_loss: 0.0888\n",
            "Epoch 117/600\n",
            "14/14 [==============================] - 0s 4ms/step - loss: 0.0880 - val_loss: 0.0974\n",
            "Epoch 118/600\n",
            "14/14 [==============================] - 0s 4ms/step - loss: 0.0895 - val_loss: 0.1014\n",
            "Epoch 119/600\n",
            "14/14 [==============================] - 0s 5ms/step - loss: 0.1070 - val_loss: 0.0851\n",
            "Epoch 120/600\n",
            "14/14 [==============================] - 0s 5ms/step - loss: 0.0767 - val_loss: 0.1009\n",
            "Epoch 121/600\n",
            "14/14 [==============================] - 0s 5ms/step - loss: 0.0700 - val_loss: 0.0820\n",
            "Epoch 122/600\n",
            "14/14 [==============================] - 0s 4ms/step - loss: 0.0923 - val_loss: 0.0961\n",
            "Epoch 123/600\n",
            "14/14 [==============================] - 0s 5ms/step - loss: 0.0817 - val_loss: 0.0987\n",
            "Epoch 124/600\n",
            "14/14 [==============================] - 0s 5ms/step - loss: 0.0595 - val_loss: 0.1096\n",
            "Epoch 125/600\n",
            "14/14 [==============================] - 0s 5ms/step - loss: 0.0634 - val_loss: 0.1024\n",
            "Epoch 126/600\n",
            "14/14 [==============================] - 0s 5ms/step - loss: 0.0922 - val_loss: 0.0913\n",
            "Epoch 127/600\n",
            "14/14 [==============================] - 0s 6ms/step - loss: 0.1178 - val_loss: 0.0981\n",
            "Epoch 128/600\n",
            "14/14 [==============================] - 0s 4ms/step - loss: 0.0691 - val_loss: 0.1023\n",
            "Epoch 129/600\n",
            "14/14 [==============================] - 0s 5ms/step - loss: 0.0839 - val_loss: 0.0977\n",
            "Epoch 130/600\n",
            "14/14 [==============================] - 0s 4ms/step - loss: 0.1031 - val_loss: 0.1011\n",
            "Epoch 131/600\n",
            "14/14 [==============================] - 0s 5ms/step - loss: 0.0976 - val_loss: 0.1029\n",
            "Epoch 132/600\n",
            "14/14 [==============================] - 0s 5ms/step - loss: 0.0936 - val_loss: 0.0899\n",
            "Epoch 133/600\n",
            "14/14 [==============================] - 0s 4ms/step - loss: 0.0999 - val_loss: 0.0998\n",
            "Epoch 134/600\n",
            "14/14 [==============================] - 0s 5ms/step - loss: 0.0741 - val_loss: 0.0987\n",
            "Epoch 135/600\n",
            "14/14 [==============================] - 0s 4ms/step - loss: 0.0939 - val_loss: 0.0887\n",
            "Epoch 136/600\n",
            "14/14 [==============================] - 0s 5ms/step - loss: 0.0877 - val_loss: 0.0909\n",
            "Epoch 137/600\n",
            "14/14 [==============================] - 0s 5ms/step - loss: 0.0738 - val_loss: 0.0863\n",
            "Epoch 138/600\n",
            "14/14 [==============================] - 0s 5ms/step - loss: 0.0846 - val_loss: 0.0996\n",
            "Epoch 139/600\n",
            "14/14 [==============================] - 0s 5ms/step - loss: 0.0810 - val_loss: 0.0903\n",
            "Epoch 140/600\n",
            "14/14 [==============================] - 0s 5ms/step - loss: 0.0727 - val_loss: 0.0939\n",
            "Epoch 141/600\n",
            "14/14 [==============================] - 0s 4ms/step - loss: 0.1033 - val_loss: 0.0938\n",
            "Epoch 142/600\n",
            "14/14 [==============================] - 0s 5ms/step - loss: 0.0633 - val_loss: 0.0949\n",
            "Epoch 143/600\n",
            "14/14 [==============================] - 0s 5ms/step - loss: 0.0795 - val_loss: 0.0929\n",
            "Epoch 144/600\n",
            "14/14 [==============================] - 0s 5ms/step - loss: 0.0795 - val_loss: 0.0874\n",
            "Epoch 145/600\n",
            "14/14 [==============================] - 0s 14ms/step - loss: 0.0800 - val_loss: 0.0983\n",
            "Epoch 146/600\n",
            "14/14 [==============================] - 0s 5ms/step - loss: 0.0884 - val_loss: 0.1048\n",
            "Epoch 00146: early stopping\n"
          ],
          "name": "stdout"
        },
        {
          "output_type": "execute_result",
          "data": {
            "text/plain": [
              "<tensorflow.python.keras.callbacks.History at 0x7f8348afb4e0>"
            ]
          },
          "metadata": {
            "tags": []
          },
          "execution_count": 20
        }
      ]
    },
    {
      "cell_type": "markdown",
      "metadata": {
        "id": "LD19nhsWQZ3A"
      },
      "source": [
        "# Running Tensorboard\n"
      ]
    },
    {
      "cell_type": "markdown",
      "metadata": {
        "id": "DnsC7c_QQZ3A"
      },
      "source": [
        "## Running through the Command Line"
      ]
    },
    {
      "cell_type": "markdown",
      "metadata": {
        "id": "sSBnFaHsQZ3A"
      },
      "source": [
        "Tensorboard will run locally in your browser at [http://localhost:6006/](http://localhost:6006/)\n"
      ]
    },
    {
      "cell_type": "code",
      "metadata": {
        "colab": {
          "base_uri": "https://localhost:8080/"
        },
        "id": "KpI27QujQZ3B",
        "outputId": "556e5fd3-8486-436e-a808-a1e87ce1d3f0"
      },
      "source": [
        "print(log_directory)"
      ],
      "execution_count": 21,
      "outputs": [
        {
          "output_type": "stream",
          "text": [
            "logs\\fit\n"
          ],
          "name": "stdout"
        }
      ]
    },
    {
      "cell_type": "code",
      "metadata": {
        "colab": {
          "base_uri": "https://localhost:8080/",
          "height": 37
        },
        "id": "waCEOrf3QZ3B",
        "outputId": "90ba9d41-4ec5-4c53-85dc-b355ab141331"
      },
      "source": [
        "pwd"
      ],
      "execution_count": 22,
      "outputs": [
        {
          "output_type": "execute_result",
          "data": {
            "application/vnd.google.colaboratory.intrinsic+json": {
              "type": "string"
            },
            "text/plain": [
              "'/content'"
            ]
          },
          "metadata": {
            "tags": []
          },
          "execution_count": 22
        }
      ]
    },
    {
      "cell_type": "markdown",
      "metadata": {
        "id": "TFtxwRdfQZ3B"
      },
      "source": [
        "### Use cd at your command line to change directory to the file path reported back by pwd or your current .py file location.\n",
        "### Then run this code at your command line or terminal"
      ]
    },
    {
      "cell_type": "code",
      "metadata": {
        "colab": {
          "base_uri": "https://localhost:8080/"
        },
        "id": "zW9varqeUCAE",
        "outputId": "9fe4122c-50fa-4d9b-b9dd-eaffaf96af2a"
      },
      "source": [
        "cd /content/logs\\fit"
      ],
      "execution_count": 37,
      "outputs": [
        {
          "output_type": "stream",
          "text": [
            "[Errno 2] No such file or directory: '/content/logsfit'\n",
            "/content\n"
          ],
          "name": "stdout"
        }
      ]
    },
    {
      "cell_type": "code",
      "metadata": {
        "colab": {
          "base_uri": "https://localhost:8080/"
        },
        "id": "TqMnzkvSUE7T",
        "outputId": "5ab5e919-e101-4bfe-8661-48ce45f0b0e4"
      },
      "source": [
        "cd 'logs\\fit'"
      ],
      "execution_count": 42,
      "outputs": [
        {
          "output_type": "stream",
          "text": [
            "/content/logs\\fit\n"
          ],
          "name": "stdout"
        }
      ]
    },
    {
      "cell_type": "code",
      "metadata": {
        "colab": {
          "base_uri": "https://localhost:8080/",
          "height": 37
        },
        "id": "pue8ncEpUQQD",
        "outputId": "d58917eb-532f-42d9-cd4c-a541e03f6a7a"
      },
      "source": [
        "pwd"
      ],
      "execution_count": 43,
      "outputs": [
        {
          "output_type": "execute_result",
          "data": {
            "application/vnd.google.colaboratory.intrinsic+json": {
              "type": "string"
            },
            "text/plain": [
              "'/content/logs\\\\fit'"
            ]
          },
          "metadata": {
            "tags": []
          },
          "execution_count": 43
        }
      ]
    },
    {
      "cell_type": "code",
      "metadata": {
        "colab": {
          "base_uri": "https://localhost:8080/",
          "height": 164
        },
        "id": "lYcLe6PFQZ3B",
        "outputId": "f1d9a1a7-268c-4231-b442-33815c6c9a21"
      },
      "source": [
        "tensorboard --logdir"
      ],
      "execution_count": 44,
      "outputs": [
        {
          "output_type": "error",
          "ename": "NameError",
          "evalue": "ignored",
          "traceback": [
            "\u001b[0;31m---------------------------------------------------------------------------\u001b[0m",
            "\u001b[0;31mNameError\u001b[0m                                 Traceback (most recent call last)",
            "\u001b[0;32m<ipython-input-44-5e3cb38582a8>\u001b[0m in \u001b[0;36m<module>\u001b[0;34m()\u001b[0m\n\u001b[0;32m----> 1\u001b[0;31m \u001b[0mtensorboard\u001b[0m \u001b[0;34m-\u001b[0m\u001b[0;34m-\u001b[0m\u001b[0mlogdir\u001b[0m\u001b[0;34m\u001b[0m\u001b[0;34m\u001b[0m\u001b[0m\n\u001b[0m",
            "\u001b[0;31mNameError\u001b[0m: name 'logdir' is not defined"
          ]
        }
      ]
    },
    {
      "cell_type": "code",
      "metadata": {
        "id": "-lY1Nar2SoUv"
      },
      "source": [
        ""
      ],
      "execution_count": null,
      "outputs": []
    }
  ]
}