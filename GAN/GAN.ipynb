{
  "nbformat": 4,
  "nbformat_minor": 0,
  "metadata": {
    "colab": {
      "name": "GAN.ipynb",
      "provenance": [],
      "collapsed_sections": []
    },
    "kernelspec": {
      "name": "python3",
      "display_name": "Python 3"
    }
  },
  "cells": [
    {
      "cell_type": "markdown",
      "metadata": {
        "id": "AMPrREImLMi4"
      },
      "source": [
        "# GANs - Generative Adverserial Networks"
      ]
    },
    {
      "cell_type": "code",
      "metadata": {
        "id": "acJjSVLYKLKY"
      },
      "source": [
        "import pandas as pd\n",
        "import numpy as np\n",
        "import matplotlib.pyplot as plt"
      ],
      "execution_count": 1,
      "outputs": []
    },
    {
      "cell_type": "code",
      "metadata": {
        "id": "g5NIckcuLWWW"
      },
      "source": [
        "from tensorflow.keras.datasets import mnist"
      ],
      "execution_count": 2,
      "outputs": []
    },
    {
      "cell_type": "code",
      "metadata": {
        "id": "MYxB7nyCLXs1"
      },
      "source": [
        "(X_train, y_train), (X_test, y_test) = mnist.load_data()"
      ],
      "execution_count": 3,
      "outputs": []
    },
    {
      "cell_type": "code",
      "metadata": {
        "colab": {
          "base_uri": "https://localhost:8080/",
          "height": 282
        },
        "id": "wePEZreeLZW_",
        "outputId": "1a8ab15a-8962-4ff7-a6bf-6374187ed48d"
      },
      "source": [
        "plt.imshow(X_train[0])"
      ],
      "execution_count": 4,
      "outputs": [
        {
          "output_type": "execute_result",
          "data": {
            "text/plain": [
              "<matplotlib.image.AxesImage at 0x7fde40425eb8>"
            ]
          },
          "metadata": {
            "tags": []
          },
          "execution_count": 4
        },
        {
          "output_type": "display_data",
          "data": {
            "image/png": "[encoded data removed]",
            "text/plain": [
              "<Figure size 432x288 with 1 Axes>"
            ]
          },
          "metadata": {
            "tags": [],
            "needs_background": "light"
          }
        }
      ]
    },
    {
      "cell_type": "code",
      "metadata": {
        "colab": {
          "base_uri": "https://localhost:8080/"
        },
        "id": "1vY6Mq8sLbJQ",
        "outputId": "7ce40281-79e0-494d-c54a-74f9f7355667"
      },
      "source": [
        "y_train"
      ],
      "execution_count": 5,
      "outputs": [
        {
          "output_type": "execute_result",
          "data": {
            "text/plain": [
              "array([5, 0, 4, ..., 5, 6, 8], dtype=uint8)"
            ]
          },
          "metadata": {
            "tags": []
          },
          "execution_count": 5
        }
      ]
    },
    {
      "cell_type": "markdown",
      "metadata": {
        "id": "XNT856CPLnA-"
      },
      "source": [
        "## Filtering out the Data for Faster Training on Smaller Dataset"
      ]
    },
    {
      "cell_type": "code",
      "metadata": {
        "id": "WFM7XgunLi4q"
      },
      "source": [
        "#let's select only zeros\n",
        "only_zeros  = X_train[y_train==0]"
      ],
      "execution_count": 6,
      "outputs": []
    },
    {
      "cell_type": "code",
      "metadata": {
        "colab": {
          "base_uri": "https://localhost:8080/"
        },
        "id": "sGorMPe_LuXt",
        "outputId": "148a5a75-8f81-4422-d4c8-4d404a24a060"
      },
      "source": [
        "only_zeros.shape"
      ],
      "execution_count": 7,
      "outputs": [
        {
          "output_type": "execute_result",
          "data": {
            "text/plain": [
              "(5923, 28, 28)"
            ]
          },
          "metadata": {
            "tags": []
          },
          "execution_count": 7
        }
      ]
    },
    {
      "cell_type": "code",
      "metadata": {
        "colab": {
          "base_uri": "https://localhost:8080/"
        },
        "id": "cFUcprqrLvHl",
        "outputId": "a8c1ae3e-a8bd-4235-bd8b-0a3ba0181f62"
      },
      "source": [
        "X_train.shape"
      ],
      "execution_count": 8,
      "outputs": [
        {
          "output_type": "execute_result",
          "data": {
            "text/plain": [
              "(60000, 28, 28)"
            ]
          },
          "metadata": {
            "tags": []
          },
          "execution_count": 8
        }
      ]
    },
    {
      "cell_type": "code",
      "metadata": {
        "colab": {
          "base_uri": "https://localhost:8080/",
          "height": 282
        },
        "id": "OkpSHuRzL2Rj",
        "outputId": "410b92d0-95a5-43b8-eaa0-55946f676ec8"
      },
      "source": [
        "plt.imshow(only_zeros[10])"
      ],
      "execution_count": 9,
      "outputs": [
        {
          "output_type": "execute_result",
          "data": {
            "text/plain": [
              "<matplotlib.image.AxesImage at 0x7fde3ff62208>"
            ]
          },
          "metadata": {
            "tags": []
          },
          "execution_count": 9
        },
        {
          "output_type": "display_data",
          "data": {
            "image/png": "[encoded data removed]",
            "text/plain": [
              "<Figure size 432x288 with 1 Axes>"
            ]
          },
          "metadata": {
            "tags": [],
            "needs_background": "light"
          }
        }
      ]
    },
    {
      "cell_type": "markdown",
      "metadata": {
        "id": "V0aFKeoyMoMz"
      },
      "source": [
        "## Generator & Discriminator"
      ]
    },
    {
      "cell_type": "code",
      "metadata": {
        "id": "Anl6wFeFL6MR"
      },
      "source": [
        "import tensorflow as tf\n",
        "from tensorflow.keras.layers import Dense,Reshape,Flatten\n",
        "from tensorflow.keras.models import Sequential"
      ],
      "execution_count": 10,
      "outputs": []
    },
    {
      "cell_type": "code",
      "metadata": {
        "id": "I3YJ3GiIaD0Y"
      },
      "source": [
        "np.random.seed(42)\n",
        "tf.random.set_seed(42)\n",
        "\n",
        "codings_size = 100"
      ],
      "execution_count": 11,
      "outputs": []
    },
    {
      "cell_type": "markdown",
      "metadata": {
        "id": "ugVmYtijV0DT"
      },
      "source": [
        "### Discriminator\n",
        "- What is real and what is fake ?"
      ]
    },
    {
      "cell_type": "code",
      "metadata": {
        "id": "s7fOUFQuMvSf"
      },
      "source": [
        "discriminator = Sequential()\n",
        "\n",
        "\n",
        "discriminator.add(Flatten(input_shape=[28,28]))\n",
        "discriminator.add(Dense(150,activation='relu'))\n",
        "discriminator.add(Dense(100,activation='relu'))\n",
        "\n",
        "#FINAL OUTPUT LAYER\n",
        "# 1 BECAUSE IT'S BINARY CLASSIFICATION AND ALL WE WANT TO KNOW IF IT'S A FAKE OR REAL IMAGE\n",
        "discriminator.add(Dense(1,activation='sigmoid'))\n",
        "\n",
        "discriminator.compile(loss='binary_crossentropy',optimizer='adam')"
      ],
      "execution_count": 12,
      "outputs": []
    },
    {
      "cell_type": "markdown",
      "metadata": {
        "id": "K-15QxtYV8q3"
      },
      "source": [
        "## Generator\n",
        "\n",
        "- We don't compile it because we only train through the GAN model"
      ]
    },
    {
      "cell_type": "code",
      "metadata": {
        "id": "xphr-EyFPGzU"
      },
      "source": [
        "\n",
        "#784 -- 150 -- 100 -- 150 -- 784\n",
        "# We have to decide the minimum number\n",
        "#coding_size = 100 # less than 784 but not too small\n",
        "\n",
        "generator = Sequential()\n",
        "\n",
        "generator.add(Dense(100,activation='relu',input_shape=[codings_size]))\n",
        "generator.add(Dense(150,activation='relu'))\n",
        "generator.add(Dense(784,activation='relu'))\n",
        "\n",
        "#we have to reshape the output to match the shape\n",
        "generator.add(Reshape([28,28]))\n",
        "\n"
      ],
      "execution_count": 14,
      "outputs": []
    },
    {
      "cell_type": "code",
      "metadata": {
        "id": "7X6A9BkaVcTE"
      },
      "source": [
        "GAN = Sequential([generator,discriminator])"
      ],
      "execution_count": 15,
      "outputs": []
    },
    {
      "cell_type": "code",
      "metadata": {
        "id": "m_pX_fYnVlEf"
      },
      "source": [
        "discriminator.trainable = False"
      ],
      "execution_count": 16,
      "outputs": []
    },
    {
      "cell_type": "code",
      "metadata": {
        "id": "zS0E6EO_VnVW"
      },
      "source": [
        "GAN.compile(loss='binary_crossentropy',optimizer='adam')"
      ],
      "execution_count": 17,
      "outputs": []
    },
    {
      "cell_type": "code",
      "metadata": {
        "id": "tVd7dzQlVtcT"
      },
      "source": [
        "batch_size = 32 "
      ],
      "execution_count": 18,
      "outputs": []
    },
    {
      "cell_type": "code",
      "metadata": {
        "id": "NeANWDq3Wg6v"
      },
      "source": [
        "#my_data= X_train\n",
        "my_data = only_zeros"
      ],
      "execution_count": 19,
      "outputs": []
    },
    {
      "cell_type": "code",
      "metadata": {
        "id": "5upsrEINWjtB"
      },
      "source": [
        "dataset = tf.data.Dataset.from_tensor_slices(my_data).shuffle(buffer_size=1000)"
      ],
      "execution_count": 20,
      "outputs": []
    },
    {
      "cell_type": "code",
      "metadata": {
        "colab": {
          "base_uri": "https://localhost:8080/"
        },
        "id": "PMMVWq5RWydA",
        "outputId": "3cde4192-6ff4-44de-b05c-80e43b03d77f"
      },
      "source": [
        "type(dataset)"
      ],
      "execution_count": 21,
      "outputs": [
        {
          "output_type": "execute_result",
          "data": {
            "text/plain": [
              "tensorflow.python.data.ops.dataset_ops.ShuffleDataset"
            ]
          },
          "metadata": {
            "tags": []
          },
          "execution_count": 21
        }
      ]
    },
    {
      "cell_type": "code",
      "metadata": {
        "colab": {
          "base_uri": "https://localhost:8080/"
        },
        "id": "vtEuC4oZW9-_",
        "outputId": "5540f5fa-c5f8-4cd4-a008-68d8f35d1c7b"
      },
      "source": [
        "my_data.shape"
      ],
      "execution_count": 22,
      "outputs": [
        {
          "output_type": "execute_result",
          "data": {
            "text/plain": [
              "(5923, 28, 28)"
            ]
          },
          "metadata": {
            "tags": []
          },
          "execution_count": 22
        }
      ]
    },
    {
      "cell_type": "code",
      "metadata": {
        "id": "N1GrqoXpW0O2"
      },
      "source": [
        "dataset = dataset.batch(batch_size,drop_remainder=True).prefetch(1)"
      ],
      "execution_count": 23,
      "outputs": []
    },
    {
      "cell_type": "code",
      "metadata": {
        "id": "Kq7aAG4NXGfh"
      },
      "source": [
        "epochs= 1 "
      ],
      "execution_count": 24,
      "outputs": []
    },
    {
      "cell_type": "code",
      "metadata": {
        "colab": {
          "base_uri": "https://localhost:8080/"
        },
        "id": "cmTy6tEgXJtM",
        "outputId": "83268f1a-2036-4e0e-a3e0-17d10b4c9bee"
      },
      "source": [
        "GAN.layers"
      ],
      "execution_count": 25,
      "outputs": [
        {
          "output_type": "execute_result",
          "data": {
            "text/plain": [
              "[<tensorflow.python.keras.engine.sequential.Sequential at 0x7fde3ff1b5c0>,\n",
              " <tensorflow.python.keras.engine.sequential.Sequential at 0x7fde3ff17a90>]"
            ]
          },
          "metadata": {
            "tags": []
          },
          "execution_count": 25
        }
      ]
    },
    {
      "cell_type": "code",
      "metadata": {
        "colab": {
          "base_uri": "https://localhost:8080/"
        },
        "id": "dU_5djK3XM6e",
        "outputId": "87f8666e-e02f-4f52-ff8a-999a36bdcf60"
      },
      "source": [
        "GAN.layers[0].layers"
      ],
      "execution_count": 26,
      "outputs": [
        {
          "output_type": "execute_result",
          "data": {
            "text/plain": [
              "[<tensorflow.python.keras.layers.core.Dense at 0x7fde3bf63630>,\n",
              " <tensorflow.python.keras.layers.core.Dense at 0x7fde3be33668>,\n",
              " <tensorflow.python.keras.layers.core.Dense at 0x7fde3be33828>,\n",
              " <tensorflow.python.keras.layers.core.Reshape at 0x7fde3be33f98>]"
            ]
          },
          "metadata": {
            "tags": []
          },
          "execution_count": 26
        }
      ]
    },
    {
      "cell_type": "code",
      "metadata": {
        "colab": {
          "base_uri": "https://localhost:8080/"
        },
        "id": "ZMgIkVcsXWAW",
        "outputId": "9ad5a552-732b-446b-e2b1-1a23b4bd4040"
      },
      "source": [
        "GAN.layers[1].layers"
      ],
      "execution_count": 27,
      "outputs": [
        {
          "output_type": "execute_result",
          "data": {
            "text/plain": [
              "[<tensorflow.python.keras.layers.core.Flatten at 0x7fde3ff6d128>,\n",
              " <tensorflow.python.keras.layers.core.Dense at 0x7fde3ff85438>,\n",
              " <tensorflow.python.keras.layers.core.Dense at 0x7fde3ff85518>,\n",
              " <tensorflow.python.keras.layers.core.Dense at 0x7fde3ff0f198>]"
            ]
          },
          "metadata": {
            "tags": []
          },
          "execution_count": 27
        }
      ]
    },
    {
      "cell_type": "code",
      "metadata": {
        "colab": {
          "base_uri": "https://localhost:8080/"
        },
        "id": "qnNvyQ_7XXnB",
        "outputId": "e0c37057-ebed-4895-e119-6dbd720b873a"
      },
      "source": [
        "GAN.layers[0].summary()"
      ],
      "execution_count": 28,
      "outputs": [
        {
          "output_type": "stream",
          "text": [
            "Model: \"sequential_2\"\n",
            "_________________________________________________________________\n",
            "Layer (type)                 Output Shape              Param #   \n",
            "=================================================================\n",
            "dense_3 (Dense)              (None, 100)               10100     \n",
            "_________________________________________________________________\n",
            "dense_4 (Dense)              (None, 150)               15150     \n",
            "_________________________________________________________________\n",
            "dense_5 (Dense)              (None, 784)               118384    \n",
            "_________________________________________________________________\n",
            "reshape (Reshape)            (None, 28, 28)            0         \n",
            "=================================================================\n",
            "Total params: 143,634\n",
            "Trainable params: 143,634\n",
            "Non-trainable params: 0\n",
            "_________________________________________________________________\n"
          ],
          "name": "stdout"
        }
      ]
    },
    {
      "cell_type": "code",
      "metadata": {
        "colab": {
          "base_uri": "https://localhost:8080/"
        },
        "id": "w3X2WwGDXaCB",
        "outputId": "0db796b5-a570-4aa2-c506-9cfb62aef704"
      },
      "source": [
        "GAN.layers[1].summary()"
      ],
      "execution_count": 29,
      "outputs": [
        {
          "output_type": "stream",
          "text": [
            "Model: \"sequential\"\n",
            "_________________________________________________________________\n",
            "Layer (type)                 Output Shape              Param #   \n",
            "=================================================================\n",
            "flatten (Flatten)            (None, 784)               0         \n",
            "_________________________________________________________________\n",
            "dense (Dense)                (None, 150)               117750    \n",
            "_________________________________________________________________\n",
            "dense_1 (Dense)              (None, 100)               15100     \n",
            "_________________________________________________________________\n",
            "dense_2 (Dense)              (None, 1)                 101       \n",
            "=================================================================\n",
            "Total params: 132,951\n",
            "Trainable params: 0\n",
            "Non-trainable params: 132,951\n",
            "_________________________________________________________________\n"
          ],
          "name": "stdout"
        }
      ]
    },
    {
      "cell_type": "code",
      "metadata": {
        "colab": {
          "base_uri": "https://localhost:8080/"
        },
        "id": "vRP6gEptXhB7",
        "outputId": "a121059e-aeb2-4a3d-d4ca-aff8f2d4f660"
      },
      "source": [
        "# Grab the seprate components\n",
        "generator, discriminator = GAN.layers\n",
        "\n",
        "# For every epcoh\n",
        "for epoch in range(epochs):\n",
        "    print(f\"Currently on Epoch {epoch+1}\")\n",
        "    i = 0\n",
        "    # For every batch in the dataset\n",
        "    for X_batch in dataset:\n",
        "        i=i+1\n",
        "        if i%100 == 0:\n",
        "            print(f\"\\tCurrently on batch number {i} of {len(my_data)//batch_size}\")\n",
        "        #####################################\n",
        "        ## TRAINING THE DISCRIMINATOR ######\n",
        "        ###################################\n",
        "        \n",
        "        # Create Noise\n",
        "        noise = tf.random.normal(shape=[batch_size, codings_size])\n",
        "        \n",
        "        # Generate numbers based just on noise input\n",
        "        gen_images = generator(noise)\n",
        "        \n",
        "        # Concatenate Generated Images against the Real Ones\n",
        "        # TO use tf.concat, the data types must match!\n",
        "        X_fake_vs_real = tf.concat([gen_images, tf.dtypes.cast(X_batch,tf.float32)], axis=0)\n",
        "        \n",
        "        # Targets set to zero for fake images and 1 for real images\n",
        "        y1 = tf.constant([[0.]] * batch_size + [[1.]] * batch_size)\n",
        "        \n",
        "        # This gets rid of a Keras warning\n",
        "        discriminator.trainable = True\n",
        "        \n",
        "        # Train the discriminator on this batch\n",
        "        discriminator.train_on_batch(X_fake_vs_real, y1)\n",
        "        \n",
        "        \n",
        "        #####################################\n",
        "        ## TRAINING THE GENERATOR     ######\n",
        "        ###################################\n",
        "        \n",
        "        # Create some noise\n",
        "        noise = tf.random.normal(shape=[batch_size, codings_size])\n",
        "        \n",
        "        # We want discriminator to belive that fake images are real\n",
        "        y2 = tf.constant([[1.]] * batch_size)\n",
        "        \n",
        "        # Avois a warning\n",
        "        discriminator.trainable = False\n",
        "        \n",
        "        GAN.train_on_batch(noise, y2)\n",
        "        \n",
        "print(\"TRAINING COMPLETE\")            "
      ],
      "execution_count": 30,
      "outputs": [
        {
          "output_type": "stream",
          "text": [
            "Currently on Epoch 1\n",
            "\tCurrently on batch number 100 of 185\n",
            "TRAINING COMPLETE\n"
          ],
          "name": "stdout"
        }
      ]
    },
    {
      "cell_type": "code",
      "metadata": {
        "id": "WdrdBDYAYBav"
      },
      "source": [
        "noise = tf.random.normal(shape=[10, codings_size])#10 fake images"
      ],
      "execution_count": 31,
      "outputs": []
    },
    {
      "cell_type": "code",
      "metadata": {
        "colab": {
          "base_uri": "https://localhost:8080/"
        },
        "id": "_FrG7zP1aiqm",
        "outputId": "e610dcc1-01e8-4e62-fe89-b9653ef3d603"
      },
      "source": [
        "noise.shape "
      ],
      "execution_count": 32,
      "outputs": [
        {
          "output_type": "execute_result",
          "data": {
            "text/plain": [
              "TensorShape([10, 100])"
            ]
          },
          "metadata": {
            "tags": []
          },
          "execution_count": 32
        }
      ]
    },
    {
      "cell_type": "code",
      "metadata": {
        "colab": {
          "base_uri": "https://localhost:8080/",
          "height": 101
        },
        "id": "LAxibN5sakyQ",
        "outputId": "7099177b-df52-460b-f090-3cd5a84d2172"
      },
      "source": [
        "plt.imshow(noise)"
      ],
      "execution_count": 33,
      "outputs": [
        {
          "output_type": "execute_result",
          "data": {
            "text/plain": [
              "<matplotlib.image.AxesImage at 0x7fde38e46e10>"
            ]
          },
          "metadata": {
            "tags": []
          },
          "execution_count": 33
        },
        {
          "output_type": "display_data",
          "data": {
            "image/png": "[encoded data removed]",
            "text/plain": [
              "<Figure size 432x288 with 1 Axes>"
            ]
          },
          "metadata": {
            "tags": [],
            "needs_background": "light"
          }
        }
      ]
    },
    {
      "cell_type": "code",
      "metadata": {
        "id": "ZsG9TONQamaH"
      },
      "source": [
        "image = generator(noise)"
      ],
      "execution_count": 34,
      "outputs": []
    },
    {
      "cell_type": "code",
      "metadata": {
        "colab": {
          "base_uri": "https://localhost:8080/"
        },
        "id": "20fw1n6marHV",
        "outputId": "ac85340d-3045-4ffc-a633-ff3b81009329"
      },
      "source": [
        "image.shape"
      ],
      "execution_count": 36,
      "outputs": [
        {
          "output_type": "execute_result",
          "data": {
            "text/plain": [
              "TensorShape([10, 28, 28])"
            ]
          },
          "metadata": {
            "tags": []
          },
          "execution_count": 36
        }
      ]
    },
    {
      "cell_type": "code",
      "metadata": {
        "colab": {
          "base_uri": "https://localhost:8080/",
          "height": 282
        },
        "id": "JoE-LYWKaoQ3",
        "outputId": "b580b58b-24b5-4a88-ada0-fad6176f943f"
      },
      "source": [
        "plt.imshow(image[5])"
      ],
      "execution_count": 35,
      "outputs": [
        {
          "output_type": "execute_result",
          "data": {
            "text/plain": [
              "<matplotlib.image.AxesImage at 0x7fde38e10588>"
            ]
          },
          "metadata": {
            "tags": []
          },
          "execution_count": 35
        },
        {
          "output_type": "display_data",
          "data": {
            "image/png": "[encoded data removed]",
            "text/plain": [
              "<Figure size 432x288 with 1 Axes>"
            ]
          },
          "metadata": {
            "tags": [],
            "needs_background": "light"
          }
        }
      ]
    },
    {
      "cell_type": "code",
      "metadata": {
        "colab": {
          "base_uri": "https://localhost:8080/",
          "height": 282
        },
        "id": "y1vEnL1Dapri",
        "outputId": "d45095ae-348e-4dc4-bb6f-181099b8c36c"
      },
      "source": [
        "plt.imshow(image[1])"
      ],
      "execution_count": 37,
      "outputs": [
        {
          "output_type": "execute_result",
          "data": {
            "text/plain": [
              "<matplotlib.image.AxesImage at 0x7fde38cecf28>"
            ]
          },
          "metadata": {
            "tags": []
          },
          "execution_count": 37
        },
        {
          "output_type": "display_data",
          "data": {
            "image/png": "[encoded data removed]",
            "text/plain": [
              "<Figure size 432x288 with 1 Axes>"
            ]
          },
          "metadata": {
            "tags": [],
            "needs_background": "light"
          }
        }
      ]
    },
    {
      "cell_type": "code",
      "metadata": {
        "id": "sObl5fRsbDwd"
      },
      "source": [
        ""
      ],
      "execution_count": null,
      "outputs": []
    }
  ]
}